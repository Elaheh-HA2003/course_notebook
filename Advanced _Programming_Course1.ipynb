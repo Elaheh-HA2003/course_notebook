{
 "cells": [
  {
   "cell_type": "code",
   "execution_count": 1,
   "id": "d5167a16",
   "metadata": {},
   "outputs": [
    {
     "data": {
      "text/plain": [
       "4"
      ]
     },
     "execution_count": 1,
     "metadata": {},
     "output_type": "execute_result"
    }
   ],
   "source": [
    "2+2"
   ]
  },
  {
   "cell_type": "code",
   "execution_count": 2,
   "id": "0b343bd8",
   "metadata": {},
   "outputs": [
    {
     "data": {
      "text/plain": [
       "5"
      ]
     },
     "execution_count": 2,
     "metadata": {},
     "output_type": "execute_result"
    }
   ],
   "source": [
    "2+3"
   ]
  },
  {
   "cell_type": "code",
   "execution_count": 3,
   "id": "b1010db3",
   "metadata": {},
   "outputs": [],
   "source": [
    "a=2"
   ]
  },
  {
   "cell_type": "code",
   "execution_count": 4,
   "id": "61f5c296",
   "metadata": {},
   "outputs": [],
   "source": [
    "a = 2+2"
   ]
  },
  {
   "cell_type": "code",
   "execution_count": 5,
   "id": "9a3d4758",
   "metadata": {},
   "outputs": [],
   "source": [
    "b = 2*3"
   ]
  },
  {
   "cell_type": "code",
   "execution_count": 6,
   "id": "a87ce21a",
   "metadata": {},
   "outputs": [],
   "source": [
    "c = a / b "
   ]
  },
  {
   "cell_type": "code",
   "execution_count": 7,
   "id": "30b1379c",
   "metadata": {},
   "outputs": [],
   "source": [
    "numberofstudent = 33"
   ]
  },
  {
   "cell_type": "code",
   "execution_count": 8,
   "id": "9ef6811f",
   "metadata": {},
   "outputs": [
    {
     "data": {
      "text/plain": [
       "0.6666666666666666"
      ]
     },
     "execution_count": 8,
     "metadata": {},
     "output_type": "execute_result"
    }
   ],
   "source": [
    "c"
   ]
  },
  {
   "cell_type": "code",
   "execution_count": 9,
   "id": "7ece9613",
   "metadata": {},
   "outputs": [
    {
     "name": "stdout",
     "output_type": "stream",
     "text": [
      "4\n"
     ]
    }
   ],
   "source": [
    "print(a)"
   ]
  },
  {
   "cell_type": "code",
   "execution_count": 10,
   "id": "ef07b6ac",
   "metadata": {},
   "outputs": [
    {
     "name": "stdout",
     "output_type": "stream",
     "text": [
      "0.6666666666666666\n"
     ]
    }
   ],
   "source": [
    "print(c)"
   ]
  },
  {
   "cell_type": "code",
   "execution_count": 11,
   "id": "1a5cc711",
   "metadata": {},
   "outputs": [],
   "source": [
    "d = a and b"
   ]
  },
  {
   "cell_type": "code",
   "execution_count": 12,
   "id": "6a799377",
   "metadata": {},
   "outputs": [
    {
     "name": "stdout",
     "output_type": "stream",
     "text": [
      "6\n"
     ]
    }
   ],
   "source": [
    "print(d)"
   ]
  },
  {
   "cell_type": "code",
   "execution_count": 13,
   "id": "7cbc09f7",
   "metadata": {},
   "outputs": [],
   "source": [
    "a = 0"
   ]
  },
  {
   "cell_type": "code",
   "execution_count": 14,
   "id": "5f628aa0",
   "metadata": {},
   "outputs": [],
   "source": [
    "b = 1"
   ]
  },
  {
   "cell_type": "code",
   "execution_count": 15,
   "id": "f6322ce6",
   "metadata": {},
   "outputs": [],
   "source": [
    "a = True"
   ]
  },
  {
   "cell_type": "code",
   "execution_count": 16,
   "id": "f444c636",
   "metadata": {},
   "outputs": [],
   "source": [
    "b = False"
   ]
  },
  {
   "cell_type": "code",
   "execution_count": 17,
   "id": "115d8ac9",
   "metadata": {},
   "outputs": [
    {
     "name": "stdout",
     "output_type": "stream",
     "text": [
      "False\n"
     ]
    }
   ],
   "source": [
    "print(a and b)"
   ]
  },
  {
   "cell_type": "code",
   "execution_count": 18,
   "id": "14685c93",
   "metadata": {},
   "outputs": [],
   "source": [
    "a = 1.1"
   ]
  },
  {
   "cell_type": "code",
   "execution_count": 19,
   "id": "ac302948",
   "metadata": {},
   "outputs": [],
   "source": [
    "b = 2.3"
   ]
  },
  {
   "cell_type": "code",
   "execution_count": 20,
   "id": "093f4d14",
   "metadata": {},
   "outputs": [
    {
     "data": {
      "text/plain": [
       "True"
      ]
     },
     "execution_count": 20,
     "metadata": {},
     "output_type": "execute_result"
    }
   ],
   "source": [
    "not 0"
   ]
  },
  {
   "cell_type": "code",
   "execution_count": 21,
   "id": "d4eedfb1",
   "metadata": {},
   "outputs": [
    {
     "data": {
      "text/plain": [
       "False"
      ]
     },
     "execution_count": 21,
     "metadata": {},
     "output_type": "execute_result"
    }
   ],
   "source": [
    "not 22"
   ]
  },
  {
   "cell_type": "markdown",
   "id": "3996131b",
   "metadata": {},
   "source": [
    "---"
   ]
  },
  {
   "cell_type": "markdown",
   "id": "0f2834b7",
   "metadata": {},
   "source": [
    "# Markdown"
   ]
  },
  {
   "cell_type": "code",
   "execution_count": 22,
   "id": "6e7ddf12",
   "metadata": {},
   "outputs": [],
   "source": [
    "# برای markdown کردن باید اول یکدور کلیک کنیم که آبی بشه بعد m بزنیم"
   ]
  },
  {
   "cell_type": "code",
   "execution_count": 23,
   "id": "321ff5bc",
   "metadata": {},
   "outputs": [],
   "source": [
    "# baraye markdown bayad \"esk\" baad \"m\" ro bezanim ya \"**\" ya \"__\". harchi # bishtar bashe, title kochektar mishe"
   ]
  },
  {
   "cell_type": "markdown",
   "id": "f5cc6ec7",
   "metadata": {},
   "source": [
    "# in the name of god"
   ]
  },
  {
   "cell_type": "markdown",
   "id": "95455409",
   "metadata": {},
   "source": [
    "## introduction"
   ]
  },
  {
   "cell_type": "markdown",
   "id": "91300d5a",
   "metadata": {},
   "source": [
    "### background"
   ]
  },
  {
   "cell_type": "code",
   "execution_count": 24,
   "id": "dbaed95f",
   "metadata": {},
   "outputs": [],
   "source": [
    "# baraye italic kardan bayad \"*\" ya \"_\" bezanim, masalan \"*Hi*\" ya \"_Hi_\""
   ]
  },
  {
   "cell_type": "markdown",
   "id": "ce35ee8b",
   "metadata": {},
   "source": [
    "*italic*"
   ]
  },
  {
   "cell_type": "markdown",
   "id": "43ec0deb",
   "metadata": {},
   "source": [
    "_italic_"
   ]
  },
  {
   "cell_type": "code",
   "execution_count": 25,
   "id": "8f34d627",
   "metadata": {},
   "outputs": [],
   "source": [
    "# bold e italic \"***\""
   ]
  },
  {
   "cell_type": "markdown",
   "id": "904c9445",
   "metadata": {},
   "source": [
    "***Bold e italic***"
   ]
  },
  {
   "cell_type": "code",
   "execution_count": 26,
   "id": "a90cb0e8",
   "metadata": {},
   "outputs": [],
   "source": [
    "# baraye unorder aval markdown mikonim baad \"-\" mizanim baad yek space baad type mikonim"
   ]
  },
  {
   "cell_type": "markdown",
   "id": "0736c910",
   "metadata": {},
   "source": [
    "- item"
   ]
  },
  {
   "cell_type": "code",
   "execution_count": 27,
   "id": "c0f7d484",
   "metadata": {},
   "outputs": [],
   "source": [
    "# baraye order darha hamuntoori vali \"1.\" mizanim ya \"A.\""
   ]
  },
  {
   "cell_type": "markdown",
   "id": "969c4edb",
   "metadata": {},
   "source": [
    "1. hi"
   ]
  },
  {
   "cell_type": "markdown",
   "id": "11c0695d",
   "metadata": {},
   "source": [
    "2. hello"
   ]
  },
  {
   "cell_type": "markdown",
   "id": "2ff70b92",
   "metadata": {},
   "source": [
    "    1. sub"
   ]
  },
  {
   "cell_type": "code",
   "execution_count": 28,
   "id": "1a7a219e",
   "metadata": {},
   "outputs": [],
   "source": [
    "# baraye subitem kardan ghablesh bayad tab ya 2taspace bezanim"
   ]
  },
  {
   "cell_type": "markdown",
   "id": "2acf0da8",
   "metadata": {},
   "source": [
    "A. Hi"
   ]
  },
  {
   "cell_type": "markdown",
   "id": "c8d370a4",
   "metadata": {},
   "source": [
    "    a. hello"
   ]
  },
  {
   "cell_type": "code",
   "execution_count": 29,
   "id": "d31d0c46",
   "metadata": {},
   "outputs": [],
   "source": [
    "# baraye link gozashtan: \"[link Text](URL)\" "
   ]
  },
  {
   "cell_type": "markdown",
   "id": "d45b40aa",
   "metadata": {},
   "source": [
    "[google](http://google.com)"
   ]
  },
  {
   "cell_type": "code",
   "execution_count": 30,
   "id": "287ed89e",
   "metadata": {},
   "outputs": [],
   "source": [
    "# baraye ezafe kardan pic bayad \"![](URL)\" ya az too laptop pic ro inja bargozari mikonim baad \"![Alt text](path-to-image)\""
   ]
  },
  {
   "cell_type": "markdown",
   "id": "e6259ef9",
   "metadata": {},
   "source": [
    "![water](https://believe.earth/wp-content/uploads/2018/10/economia-agua-pixabay-believe-earth-1024x683.jpg)"
   ]
  },
  {
   "cell_type": "markdown",
   "id": "3d2bfc22",
   "metadata": {},
   "source": [
    "![drop](water.jpg)"
   ]
  },
  {
   "cell_type": "code",
   "execution_count": 31,
   "id": "b9754ff4",
   "metadata": {},
   "outputs": [],
   "source": [
    "# baraye pic haye dakhel folder bayad \"![Alt text](esm folder/esm pic)\""
   ]
  },
  {
   "cell_type": "markdown",
   "id": "59e132cb",
   "metadata": {},
   "source": [
    "![water2](pics/water2.jpg)"
   ]
  },
  {
   "cell_type": "code",
   "execution_count": 32,
   "id": "5d7d92bd",
   "metadata": {},
   "outputs": [],
   "source": [
    "# baraye tag HTML : <img src=\"folder/pic\" alt=\"Alt text\" width=\"300\" height=\"200\">"
   ]
  },
  {
   "cell_type": "markdown",
   "id": "922d1ef5",
   "metadata": {},
   "source": [
    "<img src=\"pics/woods.jfif\" alt=\"woods\" width=\"300\" height=\"200\">"
   ]
  },
  {
   "cell_type": "code",
   "execution_count": 33,
   "id": "3a8fe32d",
   "metadata": {},
   "outputs": [],
   "source": [
    "# barye poshtsh highlight beshe \"`\" mizanim"
   ]
  },
  {
   "cell_type": "markdown",
   "id": "00c81b86",
   "metadata": {},
   "source": [
    "` hi `"
   ]
  },
  {
   "cell_type": "code",
   "execution_count": 34,
   "id": "28f30921",
   "metadata": {},
   "outputs": [],
   "source": [
    "# baraye poshtesh biad bayad \">\" mizanim"
   ]
  },
  {
   "cell_type": "markdown",
   "id": "2c4820e2",
   "metadata": {},
   "source": [
    "> hi"
   ]
  },
  {
   "cell_type": "code",
   "execution_count": 35,
   "id": "053e68b0",
   "metadata": {},
   "outputs": [],
   "source": [
    "# horizontal line: ziresh khat bekeshe: \"---\" ya \"***\""
   ]
  },
  {
   "cell_type": "code",
   "execution_count": 36,
   "id": "17ba9e2b",
   "metadata": {},
   "outputs": [],
   "source": [
    "# you can create tables using pipes \"|\" and hyphens \"-\""
   ]
  },
  {
   "cell_type": "markdown",
   "id": "1b044a8a",
   "metadata": {},
   "source": [
    "| header1 | header2 |\n",
    "|---------|---------|\n",
    "| row1    |  data1  |\n",
    "| row2    |  data2  |"
   ]
  },
  {
   "cell_type": "code",
   "execution_count": 37,
   "id": "2475077a",
   "metadata": {},
   "outputs": [],
   "source": [
    "#baraye mathematical formulas \"$\" mizanim, masalan $E=mc^2$"
   ]
  },
  {
   "cell_type": "markdown",
   "id": "8eab15f7",
   "metadata": {},
   "source": [
    "$ E=mc^2 $"
   ]
  },
  {
   "cell_type": "code",
   "execution_count": 38,
   "id": "d105a13e",
   "metadata": {},
   "outputs": [],
   "source": [
    "# formula biad vasat bayad $$ bezanim:"
   ]
  },
  {
   "cell_type": "markdown",
   "id": "e4f3a04a",
   "metadata": {},
   "source": [
    "$$ E=mc^2 $$"
   ]
  },
  {
   "cell_type": "code",
   "execution_count": 39,
   "id": "0634868b",
   "metadata": {},
   "outputs": [],
   "source": [
    "# baraye gozine ijad kardan [] va baraye gozine tick dashte bashe [x]"
   ]
  },
  {
   "cell_type": "markdown",
   "id": "dfb51a01",
   "metadata": {},
   "source": [
    "- [] hi\n",
    "- [x] hello"
   ]
  },
  {
   "cell_type": "code",
   "execution_count": 40,
   "id": "d9fd3a13",
   "metadata": {},
   "outputs": [],
   "source": [
    "# baraye khate bad raftan <br> "
   ]
  },
  {
   "cell_type": "markdown",
   "id": "127a55c2",
   "metadata": {},
   "source": [
    "---"
   ]
  },
  {
   "cell_type": "code",
   "execution_count": 41,
   "id": "0423914f",
   "metadata": {},
   "outputs": [],
   "source": [
    "# camelCase : myName= 'ElahehHosseinAbadi'"
   ]
  },
  {
   "cell_type": "code",
   "execution_count": 42,
   "id": "7e11c1b2",
   "metadata": {},
   "outputs": [],
   "source": [
    "# snake_Case : my_Name= 'Elaheh_Hossein_Abadi'"
   ]
  },
  {
   "cell_type": "code",
   "execution_count": 43,
   "id": "9979ebdf",
   "metadata": {},
   "outputs": [],
   "source": [
    "# string"
   ]
  },
  {
   "cell_type": "code",
   "execution_count": 44,
   "id": "d85d8476",
   "metadata": {},
   "outputs": [],
   "source": [
    "my_name= 'Elaheh'"
   ]
  },
  {
   "cell_type": "code",
   "execution_count": 45,
   "id": "2de299a0",
   "metadata": {},
   "outputs": [
    {
     "name": "stdout",
     "output_type": "stream",
     "text": [
      "Elaheh\n"
     ]
    }
   ],
   "source": [
    "print(my_name)"
   ]
  },
  {
   "cell_type": "code",
   "execution_count": 46,
   "id": "e5038b0f",
   "metadata": {},
   "outputs": [],
   "source": [
    "# len() : length string "
   ]
  },
  {
   "cell_type": "code",
   "execution_count": 47,
   "id": "979d74c9",
   "metadata": {},
   "outputs": [
    {
     "data": {
      "text/plain": [
       "6"
      ]
     },
     "execution_count": 47,
     "metadata": {},
     "output_type": "execute_result"
    }
   ],
   "source": [
    "len(my_name)"
   ]
  },
  {
   "cell_type": "code",
   "execution_count": 48,
   "id": "7747b84b",
   "metadata": {},
   "outputs": [
    {
     "data": {
      "text/plain": [
       "6"
      ]
     },
     "execution_count": 48,
     "metadata": {},
     "output_type": "execute_result"
    }
   ],
   "source": [
    "len('Elaheh')"
   ]
  },
  {
   "cell_type": "code",
   "execution_count": 49,
   "id": "131aebd4",
   "metadata": {},
   "outputs": [],
   "source": [
    "# print(my_name[0]): harf aval esm , print(my_name[1]): harf dovom esm ,... \n",
    "# harf akhar esm: my_name[len(my_name)-1] or my_name[-1]"
   ]
  },
  {
   "cell_type": "code",
   "execution_count": 50,
   "id": "ea386377",
   "metadata": {},
   "outputs": [
    {
     "name": "stdout",
     "output_type": "stream",
     "text": [
      "E\n"
     ]
    }
   ],
   "source": [
    "print(my_name[0])"
   ]
  },
  {
   "cell_type": "code",
   "execution_count": 51,
   "id": "a69faf90",
   "metadata": {},
   "outputs": [
    {
     "name": "stdout",
     "output_type": "stream",
     "text": [
      "l\n"
     ]
    }
   ],
   "source": [
    "print(my_name[1])"
   ]
  },
  {
   "cell_type": "code",
   "execution_count": 52,
   "id": "a582492c",
   "metadata": {},
   "outputs": [
    {
     "data": {
      "text/plain": [
       "'h'"
      ]
     },
     "execution_count": 52,
     "metadata": {},
     "output_type": "execute_result"
    }
   ],
   "source": [
    "my_name[-1]"
   ]
  },
  {
   "cell_type": "code",
   "execution_count": 53,
   "id": "e04e37b8",
   "metadata": {},
   "outputs": [
    {
     "data": {
      "text/plain": [
       "'h'"
      ]
     },
     "execution_count": 53,
     "metadata": {},
     "output_type": "execute_result"
    }
   ],
   "source": [
    "my_name[len(my_name)-1]"
   ]
  },
  {
   "cell_type": "code",
   "execution_count": 54,
   "id": "f7ed3e7f",
   "metadata": {},
   "outputs": [],
   "source": [
    "# my_name[1:3] : az dovomi ta sevomi ro be man bego\n",
    "# name[1:8] : az 1+1 ta 8omie "
   ]
  },
  {
   "cell_type": "code",
   "execution_count": 55,
   "id": "568083e8",
   "metadata": {},
   "outputs": [
    {
     "data": {
      "text/plain": [
       "'la'"
      ]
     },
     "execution_count": 55,
     "metadata": {},
     "output_type": "execute_result"
    }
   ],
   "source": [
    "my_name[1:3]"
   ]
  },
  {
   "cell_type": "code",
   "execution_count": 56,
   "id": "1b5eb532",
   "metadata": {},
   "outputs": [],
   "source": [
    "my_familly = 'Hossein_Abadi'"
   ]
  },
  {
   "cell_type": "code",
   "execution_count": 57,
   "id": "287e042f",
   "metadata": {},
   "outputs": [],
   "source": [
    "my_full_name= my_name + '_' + my_familly"
   ]
  },
  {
   "cell_type": "code",
   "execution_count": 58,
   "id": "f4e00bbb",
   "metadata": {},
   "outputs": [
    {
     "data": {
      "text/plain": [
       "'Elaheh_Hossein_Abadi'"
      ]
     },
     "execution_count": 58,
     "metadata": {},
     "output_type": "execute_result"
    }
   ],
   "source": [
    "my_full_name"
   ]
  },
  {
   "cell_type": "code",
   "execution_count": 59,
   "id": "37ae5820",
   "metadata": {},
   "outputs": [],
   "source": [
    "my_name_3= my_name*3"
   ]
  },
  {
   "cell_type": "code",
   "execution_count": 60,
   "id": "c018ff13",
   "metadata": {},
   "outputs": [
    {
     "name": "stdout",
     "output_type": "stream",
     "text": [
      "ElahehElahehElaheh\n"
     ]
    }
   ],
   "source": [
    "print(my_name_3)"
   ]
  },
  {
   "cell_type": "code",
   "execution_count": 61,
   "id": "bf78fb72",
   "metadata": {},
   "outputs": [
    {
     "name": "stdout",
     "output_type": "stream",
     "text": [
      "2\n",
      "11\n"
     ]
    }
   ],
   "source": [
    "_Int= 4\n",
    "temp_Int= 1\n",
    "temp_Str= '1'\n",
    "print(temp_Int*2)\n",
    "print(temp_Str*2)"
   ]
  },
  {
   "cell_type": "code",
   "execution_count": 62,
   "id": "85604278",
   "metadata": {},
   "outputs": [],
   "source": [
    "# find('') : location avalin bar amadan ro mige"
   ]
  },
  {
   "cell_type": "code",
   "execution_count": 63,
   "id": "229d3b4f",
   "metadata": {},
   "outputs": [
    {
     "data": {
      "text/plain": [
       "3"
      ]
     },
     "execution_count": 63,
     "metadata": {},
     "output_type": "execute_result"
    }
   ],
   "source": [
    "my_name.find('h')"
   ]
  },
  {
   "cell_type": "code",
   "execution_count": 64,
   "id": "1394b8f1",
   "metadata": {},
   "outputs": [],
   "source": [
    "# my_name.find('h')= 3 : in your name (3+1=4) fourth letter is 'h' , (+1 mikonim baraye inke az 0 shoro mishe)"
   ]
  },
  {
   "cell_type": "code",
   "execution_count": 65,
   "id": "0af99e09",
   "metadata": {},
   "outputs": [
    {
     "data": {
      "text/plain": [
       "4"
      ]
     },
     "execution_count": 65,
     "metadata": {},
     "output_type": "execute_result"
    }
   ],
   "source": [
    "my_full_name.find('e')"
   ]
  },
  {
   "cell_type": "markdown",
   "id": "ff3b7e77",
   "metadata": {},
   "source": [
    "---\n"
   ]
  },
  {
   "cell_type": "code",
   "execution_count": 66,
   "id": "e38f306a",
   "metadata": {},
   "outputs": [],
   "source": [
    "a= 2"
   ]
  },
  {
   "cell_type": "code",
   "execution_count": 67,
   "id": "5d884079",
   "metadata": {},
   "outputs": [],
   "source": [
    "b= 2"
   ]
  },
  {
   "cell_type": "code",
   "execution_count": 68,
   "id": "ae473133",
   "metadata": {},
   "outputs": [
    {
     "data": {
      "text/plain": [
       "True"
      ]
     },
     "execution_count": 68,
     "metadata": {},
     "output_type": "execute_result"
    }
   ],
   "source": [
    "a == b"
   ]
  },
  {
   "cell_type": "code",
   "execution_count": 69,
   "id": "984b4641",
   "metadata": {},
   "outputs": [
    {
     "data": {
      "text/plain": [
       "True"
      ]
     },
     "execution_count": 69,
     "metadata": {},
     "output_type": "execute_result"
    }
   ],
   "source": [
    "a is b"
   ]
  },
  {
   "cell_type": "markdown",
   "id": "6652deb8",
   "metadata": {},
   "source": [
    "---"
   ]
  },
  {
   "cell_type": "code",
   "execution_count": 70,
   "id": "0304bef0",
   "metadata": {},
   "outputs": [],
   "source": [
    "### exercise:\n",
    "#یک صفحه ویکیپدیا پایتون رو کپی پیست کن بعد ببین چندتا کلمه ی پایتون در اون وجود داره. به انگلیسی سرچ کن. اول یک استرینگ بزار به اسم\n",
    "# python_wiki= \n",
    "# python_wiki.find(\"python\")"
   ]
  },
  {
   "cell_type": "markdown",
   "id": "f2c71704",
   "metadata": {},
   "source": [
    "---"
   ]
  },
  {
   "cell_type": "code",
   "execution_count": 71,
   "id": "2cd2c975",
   "metadata": {},
   "outputs": [],
   "source": [
    "my_name= \"Elaheh\"\n",
    "my_famillyname= \"Hossein_Abadi \""
   ]
  },
  {
   "cell_type": "code",
   "execution_count": 72,
   "id": "fcf8d483",
   "metadata": {},
   "outputs": [],
   "source": [
    "my_fullname= my_name + '_' + my_famillyname"
   ]
  },
  {
   "cell_type": "code",
   "execution_count": 73,
   "id": "04f6d8d3",
   "metadata": {},
   "outputs": [
    {
     "data": {
      "text/plain": [
       "'Elaheh_Hossein_Abadi '"
      ]
     },
     "execution_count": 73,
     "metadata": {},
     "output_type": "execute_result"
    }
   ],
   "source": [
    "my_fullname"
   ]
  },
  {
   "cell_type": "code",
   "execution_count": 74,
   "id": "a772a20b",
   "metadata": {},
   "outputs": [
    {
     "data": {
      "text/plain": [
       "'E'"
      ]
     },
     "execution_count": 74,
     "metadata": {},
     "output_type": "execute_result"
    }
   ],
   "source": [
    "my_fullname[0]"
   ]
  },
  {
   "cell_type": "code",
   "execution_count": 75,
   "id": "e1110a72",
   "metadata": {},
   "outputs": [],
   "source": [
    "my_sister= \"Leila\""
   ]
  },
  {
   "cell_type": "code",
   "execution_count": 76,
   "id": "fb0f04d9",
   "metadata": {},
   "outputs": [],
   "source": [
    "my_sister_fullname= my_fullname.replace(my_name , my_sister)"
   ]
  },
  {
   "cell_type": "code",
   "execution_count": 77,
   "id": "3d720283",
   "metadata": {},
   "outputs": [
    {
     "data": {
      "text/plain": [
       "'Leila_Hossein_Abadi '"
      ]
     },
     "execution_count": 77,
     "metadata": {},
     "output_type": "execute_result"
    }
   ],
   "source": [
    "my_sister_fullname"
   ]
  },
  {
   "cell_type": "code",
   "execution_count": 78,
   "id": "0e6247fe",
   "metadata": {},
   "outputs": [],
   "source": [
    "my_double_fullname= my_fullname *2"
   ]
  },
  {
   "cell_type": "code",
   "execution_count": 79,
   "id": "00571727",
   "metadata": {},
   "outputs": [
    {
     "data": {
      "text/plain": [
       "'Elaheh_Hossein_Abadi Elaheh_Hossein_Abadi '"
      ]
     },
     "execution_count": 79,
     "metadata": {},
     "output_type": "execute_result"
    }
   ],
   "source": [
    "my_double_fullname"
   ]
  },
  {
   "cell_type": "code",
   "execution_count": 80,
   "id": "e57ea476",
   "metadata": {},
   "outputs": [],
   "source": [
    "my_sister_double_fullname= my_double_fullname.replace(my_name , my_sister)"
   ]
  },
  {
   "cell_type": "code",
   "execution_count": 81,
   "id": "6b0db220",
   "metadata": {},
   "outputs": [
    {
     "data": {
      "text/plain": [
       "'Leila_Hossein_Abadi Leila_Hossein_Abadi '"
      ]
     },
     "execution_count": 81,
     "metadata": {},
     "output_type": "execute_result"
    }
   ],
   "source": [
    "my_sister_double_fullname"
   ]
  },
  {
   "cell_type": "code",
   "execution_count": 82,
   "id": "34dffc11",
   "metadata": {},
   "outputs": [],
   "source": [
    "my_upper_double_fullname= my_double_fullname.upper()"
   ]
  },
  {
   "cell_type": "code",
   "execution_count": 83,
   "id": "082e407b",
   "metadata": {},
   "outputs": [
    {
     "data": {
      "text/plain": [
       "'ELAHEH_HOSSEIN_ABADI ELAHEH_HOSSEIN_ABADI '"
      ]
     },
     "execution_count": 83,
     "metadata": {},
     "output_type": "execute_result"
    }
   ],
   "source": [
    "my_upper_double_fullname"
   ]
  },
  {
   "cell_type": "code",
   "execution_count": 84,
   "id": "ea0f03a8",
   "metadata": {},
   "outputs": [],
   "source": [
    "# string.upper() : will write every letter in capital"
   ]
  },
  {
   "cell_type": "code",
   "execution_count": 85,
   "id": "083c29b8",
   "metadata": {},
   "outputs": [
    {
     "data": {
      "text/plain": [
       "'ELAHEH'"
      ]
     },
     "execution_count": 85,
     "metadata": {},
     "output_type": "execute_result"
    }
   ],
   "source": [
    "my_name.upper()"
   ]
  },
  {
   "cell_type": "code",
   "execution_count": 86,
   "id": "059d3fea",
   "metadata": {},
   "outputs": [
    {
     "data": {
      "text/plain": [
       "True"
      ]
     },
     "execution_count": 86,
     "metadata": {},
     "output_type": "execute_result"
    }
   ],
   "source": [
    "my_name.isalpha()"
   ]
  },
  {
   "cell_type": "code",
   "execution_count": 87,
   "id": "22cf4ee4",
   "metadata": {},
   "outputs": [],
   "source": [
    "my_nationalcode= \"123123\""
   ]
  },
  {
   "cell_type": "code",
   "execution_count": 88,
   "id": "e576d0b1",
   "metadata": {},
   "outputs": [
    {
     "data": {
      "text/plain": [
       "False"
      ]
     },
     "execution_count": 88,
     "metadata": {},
     "output_type": "execute_result"
    }
   ],
   "source": [
    "my_nationalcode.isalpha()"
   ]
  },
  {
   "cell_type": "code",
   "execution_count": 89,
   "id": "94ce4da8",
   "metadata": {},
   "outputs": [],
   "source": [
    "my_adress= \"kooi_mohandesan2\""
   ]
  },
  {
   "cell_type": "code",
   "execution_count": 90,
   "id": "f8d20056",
   "metadata": {},
   "outputs": [
    {
     "data": {
      "text/plain": [
       "False"
      ]
     },
     "execution_count": 90,
     "metadata": {},
     "output_type": "execute_result"
    }
   ],
   "source": [
    "my_adress.isalpha()"
   ]
  },
  {
   "cell_type": "code",
   "execution_count": 91,
   "id": "87ec31f3",
   "metadata": {},
   "outputs": [],
   "source": [
    "# string.isalpha() : if all of it is alphabet= true , if it is a number= false"
   ]
  },
  {
   "cell_type": "markdown",
   "id": "3ae881a7",
   "metadata": {},
   "source": [
    "---"
   ]
  },
  {
   "cell_type": "code",
   "execution_count": 92,
   "id": "8e0c7958",
   "metadata": {},
   "outputs": [],
   "source": [
    "# string= string.split('...') : instead of \"...\" write whatever spliting the words or numbers"
   ]
  },
  {
   "cell_type": "code",
   "execution_count": 93,
   "id": "4747c1db",
   "metadata": {},
   "outputs": [],
   "source": [
    "my_teacher_name= \"Amir Hoshang Hosseinpour\""
   ]
  },
  {
   "cell_type": "code",
   "execution_count": 94,
   "id": "cd3fe44e",
   "metadata": {},
   "outputs": [],
   "source": [
    "splited_teacher_name= my_teacher_name.split(' ')"
   ]
  },
  {
   "cell_type": "code",
   "execution_count": 95,
   "id": "d5363e6c",
   "metadata": {},
   "outputs": [
    {
     "data": {
      "text/plain": [
       "['Amir', 'Hoshang', 'Hosseinpour']"
      ]
     },
     "execution_count": 95,
     "metadata": {},
     "output_type": "execute_result"
    }
   ],
   "source": [
    "splited_teacher_name"
   ]
  },
  {
   "cell_type": "code",
   "execution_count": 96,
   "id": "e2d5f9a5",
   "metadata": {},
   "outputs": [],
   "source": [
    "time= \"17:47:33\"\n",
    "splited_time= time.split(':')"
   ]
  },
  {
   "cell_type": "code",
   "execution_count": 97,
   "id": "65a56d0a",
   "metadata": {},
   "outputs": [
    {
     "data": {
      "text/plain": [
       "['17', '47', '33']"
      ]
     },
     "execution_count": 97,
     "metadata": {},
     "output_type": "execute_result"
    }
   ],
   "source": [
    "splited_time"
   ]
  },
  {
   "cell_type": "markdown",
   "id": "339b9e22",
   "metadata": {},
   "source": [
    "---"
   ]
  },
  {
   "cell_type": "code",
   "execution_count": 98,
   "id": "a497ca62",
   "metadata": {},
   "outputs": [],
   "source": [
    "# dir(string) : shows different methods you can apply on that string"
   ]
  },
  {
   "cell_type": "code",
   "execution_count": 99,
   "id": "081c8cf2",
   "metadata": {},
   "outputs": [
    {
     "data": {
      "text/plain": [
       "['__add__',\n",
       " '__class__',\n",
       " '__contains__',\n",
       " '__delattr__',\n",
       " '__dir__',\n",
       " '__doc__',\n",
       " '__eq__',\n",
       " '__format__',\n",
       " '__ge__',\n",
       " '__getattribute__',\n",
       " '__getitem__',\n",
       " '__getnewargs__',\n",
       " '__getstate__',\n",
       " '__gt__',\n",
       " '__hash__',\n",
       " '__init__',\n",
       " '__init_subclass__',\n",
       " '__iter__',\n",
       " '__le__',\n",
       " '__len__',\n",
       " '__lt__',\n",
       " '__mod__',\n",
       " '__mul__',\n",
       " '__ne__',\n",
       " '__new__',\n",
       " '__reduce__',\n",
       " '__reduce_ex__',\n",
       " '__repr__',\n",
       " '__rmod__',\n",
       " '__rmul__',\n",
       " '__setattr__',\n",
       " '__sizeof__',\n",
       " '__str__',\n",
       " '__subclasshook__',\n",
       " 'capitalize',\n",
       " 'casefold',\n",
       " 'center',\n",
       " 'count',\n",
       " 'encode',\n",
       " 'endswith',\n",
       " 'expandtabs',\n",
       " 'find',\n",
       " 'format',\n",
       " 'format_map',\n",
       " 'index',\n",
       " 'isalnum',\n",
       " 'isalpha',\n",
       " 'isascii',\n",
       " 'isdecimal',\n",
       " 'isdigit',\n",
       " 'isidentifier',\n",
       " 'islower',\n",
       " 'isnumeric',\n",
       " 'isprintable',\n",
       " 'isspace',\n",
       " 'istitle',\n",
       " 'isupper',\n",
       " 'join',\n",
       " 'ljust',\n",
       " 'lower',\n",
       " 'lstrip',\n",
       " 'maketrans',\n",
       " 'partition',\n",
       " 'removeprefix',\n",
       " 'removesuffix',\n",
       " 'replace',\n",
       " 'rfind',\n",
       " 'rindex',\n",
       " 'rjust',\n",
       " 'rpartition',\n",
       " 'rsplit',\n",
       " 'rstrip',\n",
       " 'split',\n",
       " 'splitlines',\n",
       " 'startswith',\n",
       " 'strip',\n",
       " 'swapcase',\n",
       " 'title',\n",
       " 'translate',\n",
       " 'upper',\n",
       " 'zfill']"
      ]
     },
     "execution_count": 99,
     "metadata": {},
     "output_type": "execute_result"
    }
   ],
   "source": [
    "dir(my_name)"
   ]
  },
  {
   "cell_type": "code",
   "execution_count": 100,
   "id": "0b693b9a",
   "metadata": {},
   "outputs": [
    {
     "name": "stdout",
     "output_type": "stream",
     "text": [
      "Help on built-in function upper:\n",
      "\n",
      "upper() method of builtins.str instance\n",
      "    Return a copy of the string converted to uppercase.\n",
      "\n"
     ]
    }
   ],
   "source": [
    "help(my_name.upper)"
   ]
  },
  {
   "cell_type": "code",
   "execution_count": 101,
   "id": "e99ee49b",
   "metadata": {},
   "outputs": [],
   "source": [
    "# help(string.function): help you with that function and tells you what that function does"
   ]
  },
  {
   "cell_type": "code",
   "execution_count": 102,
   "id": "2f55a034",
   "metadata": {},
   "outputs": [
    {
     "name": "stdout",
     "output_type": "stream",
     "text": [
      "A\n",
      "B\tc\n"
     ]
    }
   ],
   "source": [
    "temp_string=\"A\\nB\\tc\"\n",
    "print(temp_string)"
   ]
  },
  {
   "cell_type": "code",
   "execution_count": 103,
   "id": "61b99333",
   "metadata": {},
   "outputs": [],
   "source": [
    "# A\\nB :  \"\\n\"   work like enter\n",
    "# B\\tC :   \"\\t\"   works like tab"
   ]
  },
  {
   "cell_type": "code",
   "execution_count": 104,
   "id": "140855f9",
   "metadata": {},
   "outputs": [
    {
     "name": "stdout",
     "output_type": "stream",
     "text": [
      "ali\n",
      "mohammad\n"
     ]
    }
   ],
   "source": [
    "ts1= \"ali\"\n",
    "ts2= \"mohammad\"\n",
    "print(ts1+ \"\\n\" +ts2)"
   ]
  },
  {
   "cell_type": "code",
   "execution_count": 105,
   "id": "f103e8d1",
   "metadata": {},
   "outputs": [
    {
     "name": "stdout",
     "output_type": "stream",
     "text": [
      "Ali goft: \"salam\"\n"
     ]
    }
   ],
   "source": [
    "print(\"Ali goft: \\\"salam\\\"\")"
   ]
  },
  {
   "cell_type": "code",
   "execution_count": 106,
   "id": "403575dc",
   "metadata": {},
   "outputs": [],
   "source": [
    "### Q:\n",
    "#یک صفحه ویکیپدیا پایتون رو کپی پیست کن بعد ببین چندتا کلمه ی پایتون در اون وجود داره. به انگلیسی سرچ کن. اول یک استرینگ بزار به اسم\n",
    "# python_wiki= \n",
    "# python_wiki.find(\"python\")"
   ]
  },
  {
   "cell_type": "code",
   "execution_count": 107,
   "id": "7352d044",
   "metadata": {},
   "outputs": [],
   "source": [
    "python_wiki='''\n",
    "Main menu\n",
    "\n",
    "WikipediaThe Free Encyclopedia\n",
    "Search Wikipedia\n",
    "Search\n",
    "Donate\n",
    "Create account\n",
    "Log in\n",
    "\n",
    "Personal tools\n",
    "\n",
    "Wiki Loves Monuments: Photograph a monument, help Wikipedia and win!\n",
    "Learn more\n",
    "\n",
    "Contents hide\n",
    "(Top)\n",
    "History\n",
    "Design philosophy and features\n",
    "Syntax and semantics\n",
    "Toggle Syntax and semantics subsection\n",
    "Programming examples\n",
    "Libraries\n",
    "Development environments\n",
    "Implementations\n",
    "Toggle Implementations subsection\n",
    "Development\n",
    "API documentation generators\n",
    "Naming\n",
    "Popularity\n",
    "Uses\n",
    "Languages influenced by Python\n",
    "See also\n",
    "References\n",
    "Toggle References subsection\n",
    "Further reading\n",
    "External links\n",
    "Python (programming language)\n",
    "\n",
    "Article\n",
    "Talk\n",
    "Read\n",
    "Edit\n",
    "View history\n",
    "\n",
    "Tools\n",
    "Appearance hide\n",
    "Text\n",
    "\n",
    "Small\n",
    "\n",
    "Standard\n",
    "\n",
    "Large\n",
    "Width\n",
    "\n",
    "Standard\n",
    "\n",
    "Wide\n",
    "Color (beta)\n",
    "\n",
    "Automatic\n",
    "\n",
    "Light\n",
    "\n",
    "Dark\n",
    "From Wikipedia, the free encyclopedia\n",
    "Python\n",
    "\n",
    "Paradigm\tMulti-paradigm: object-oriented,[1] procedural (imperative), functional, structured, reflective\n",
    "Designed by\tGuido van Rossum\n",
    "Developer\tPython Software Foundation\n",
    "First appeared\t20 February 1991; 33 years ago[2]\n",
    "Stable release\t\n",
    "3.13.0 Edit this on Wikidata / 7 October 2024; 5 days ago\n",
    "Typing discipline\tduck, dynamic, strong;[3] optional type annotations (since 3.5, but those hints are ignored, except with unofficial tools)[4]\n",
    "OS\t\n",
    "Tier 1: 64-bit Linux, macOS; 64- and 32-bit Windows 10+[5]\n",
    "Tier 2: E.g. 32-bit WebAssembly (WASI)\n",
    "Tier 3: 64-bit Android 5.0+,[6] iOS, FreeBSD, and (32-bit) Raspberry Pi OS\n",
    "Unofficial (or has been known to work): Other Unix-like/BSD variants) and a few other platforms[7][8][9]\n",
    "License\tPython Software Foundation License\n",
    "Filename extensions\t.py, .pyw, .pyz,[10]\n",
    ".pyi, .pyc, .pyd\n",
    "Website\tpython.org\n",
    "Major implementations\n",
    "CPython, PyPy, Stackless Python, MicroPython, CircuitPython, IronPython, Jython\n",
    "Dialects\n",
    "Cython, RPython, Starlark[11]\n",
    "Influenced by\n",
    "ABC,[12] Ada,[13] ALGOL 68,[14]\n",
    "APL,[15] C,[16] C++,[17] CLU,[18] Dylan,[19]\n",
    "Haskell,[20][15] Icon,[21] Lisp,[22]\n",
    "Modula-3,[14][17] Perl,[23] Standard ML[15]\n",
    "Influenced\n",
    "Apache Groovy, Boo, Cobra, CoffeeScript,[24] D, F#, GDScript, Go, JavaScript,[25][26] Julia,[27] Mojo,[28] Nim, Ring,[29] Ruby,[30] Swift[31]\n",
    " Python Programming at Wikibooks\n",
    "Python is a high-level, general-purpose programming language. Its design philosophy emphasizes code readability with the use of significant indentation.[32]\n",
    "\n",
    "Python is dynamically typed and garbage-collected. It supports multiple programming paradigms, including structured (particularly procedural), object-oriented and functional programming. It is often described as a \"batteries included\" language due to its comprehensive standard library.[33][34]\n",
    "\n",
    "Guido van Rossum began working on Python in the late 1980s as a successor to the ABC programming language and first released it in 1991 as Python 0.9.0.[35] Python 2.0 was released in 2000. Python 3.0, released in 2008, was a major revision not completely backward-compatible with earlier versions. Python 2.7.18, released in 2020, was the last release of Python 2.[36]\n",
    "\n",
    "Python consistently ranks as one of the most popular programming languages, and has gained widespread use in the machine learning community.[37][38][39][40]\n",
    "\n",
    "History\n",
    "Main article: History of Python\n",
    "\n",
    "The designer of Python, Guido van Rossum, at OSCON 2006\n",
    "Python was invented in the late 1980s[41] by Guido van Rossum at Centrum Wiskunde & Informatica (CWI) in the Netherlands as a successor to the ABC programming language, which was inspired by SETL,[42] capable of exception handling and interfacing with the Amoeba operating system.[12] Its implementation began in December 1989.[43] Van Rossum shouldered sole responsibility for the project, as the lead developer, until 12 July 2018, when he announced his \"permanent vacation\" from his responsibilities as Python's \"benevolent dictator for life\" (BDFL), a title the Python community bestowed upon him to reflect his long-term commitment as the project's chief decision-maker[44] (he has since come out of retirement and is self-titled \"BDFL-emeritus\"). In January 2019, active Python core developers elected a five-member Steering Council to lead the project.[45][46]\n",
    "\n",
    "Python 2.0 was released on 16 October 2000, with many major new features such as list comprehensions, cycle-detecting garbage collection, reference counting, and Unicode support.[47] Python 3.0 was released on 3 December 2008, with many of its major features backported to Python 2.6.x[48] and 2.7.x. Releases of Python 3 include the 2to3 utility, which automates the translation of Python 2 code to Python 3.[49]\n",
    "\n",
    "Python 2.7's end-of-life was initially set for 2015, then postponed to 2020 out of concern that a large body of existing code could not easily be forward-ported to Python 3.[50][51] No further security patches or other improvements will be released for it.[52][53] Currently only 3.9 and later are supported (2023 security issues were fixed in e.g. 3.7.17, the final 3.7.x release[54]). While Python 2.7 and older is officially unsupported, a different unofficial Python implementation, PyPy, continues to support Python 2, i.e. \"2.7.18+\" (plus 3.10), with the plus meaning (at least some) \"backported security updates\".[55]\n",
    "\n",
    "In 2021 (and again twice in 2022, and in September 2024 for Python 3.12.6 down to 3.8.20), security updates were expedited, since all Python versions were insecure (including 2.7[56]) because of security issues leading to possible remote code execution[57] and web-cache poisoning.[58] In 2022, Python 3.10.4 and 3.9.12 were expedited[59] and 3.8.13, because of many security issues.[60] When Python 3.9.13 was released in May 2022, it was announced that the 3.9 series (joining the older series 3.8 and 3.7) would only receive security fixes in the future.[61] On 7 September 2022, four new releases were made due to a potential denial-of-service attack: 3.10.7, 3.9.14, 3.8.14, and 3.7.14.[62][63]\n",
    "\n",
    "Every Python release since 3.5 has added some syntax to the language. 3.10 added the | union type operator[64] and the match and case keywords (for structural pattern matching statements). 3.11 expanded exception handling functionality. Python 3.12 added the new keyword type. Notable changes in 3.11 from 3.10 include increased program execution speed and improved error reporting.[65] Python 3.11 claims to be between 10 and 60% faster than Python 3.10, and Python 3.12 adds another 5% on top of that. It also has improved error messages, and many other changes.\n",
    "\n",
    "Python 3.13 introduces more syntax for types, a new and improved interactive interpreter (REPL), featuring multi-line editing and color support; an incremental garbage collector (producing shorter pauses for collection in programs with a lot of objects, and addition to the improved speed in 3.11 and 3.12), and an experimental just-in-time (JIT) compiler (such features, can/needs to be enabled specifically for the increase in speed),[66] and an experimental free-threaded build mode, which disables the global interpreter lock (GIL), allowing threads to run more concurrently, that latter feature enabled with python3.13t or python3.13t.exe.\n",
    "\n",
    "Python 3.13 introduces some change in behavior, i.e. new \"well-defined semantics\", fixing bugs (plus many removals of deprecated classes, functions and methods, and removed some of the C API and outdated modules): \"The [old] implementation of locals() and frame.f_locals is slow, inconsistent and buggy [and it has] has many corner cases and oddities. Code that works around those may need to be changed. Code that uses locals() for simple templating, or print debugging, will continue to work correctly.\"[67]\n",
    "\n",
    "Since 7 October 2024, Python 3.13 is the latest stable release, and 3.13 and 3.12 are the only versions with active (as opposed to just security) support and Python 3.9 is the oldest supported version of Python (albeit in the 'security support' phase), due to Python 3.8 reaching end-of-life.[68] Starting with 3.13, it and later versions have 2 years of full support (up from one and a half); followed by 3 years of security support (for same total support as before).\n",
    "\n",
    "Some (more) standard library modules and many deprecated classes, functions and methods, will be removed in Python 3.15 or 3.16.[69][70]\n",
    "\n",
    "Design philosophy and features\n",
    "Python is a multi-paradigm programming language. Object-oriented programming and structured programming are fully supported, and many of their features support functional programming and aspect-oriented programming (including metaprogramming[71] and metaobjects).[72] Many other paradigms are supported via extensions, including design by contract[73][74] and logic programming.[75] Python is known as a glue language,[76] able to work very well with many other languages with ease of access.\n",
    "\n",
    "Python uses dynamic typing and a combination of reference counting and a cycle-detecting garbage collector for memory management.[77] It uses dynamic name resolution (late binding), which binds method and variable names during program execution.\n",
    "\n",
    "Its design offers some support for functional programming in the Lisp tradition. It has filter,mapandreduce functions; list comprehensions, dictionaries, sets, and generator expressions.[78] The standard library has two modules (itertools and functools) that implement functional tools borrowed from Haskell and Standard ML.[79]\n",
    "\n",
    "Its core philosophy is summarized in the Zen of Python (PEP 20), which includes aphorisms such as:[80]\n",
    "\n",
    "Beautiful is better than ugly.\n",
    "Explicit is better than implicit.\n",
    "Simple is better than complex.\n",
    "Complex is better than complicated.\n",
    "Readability counts.\n",
    "However, Python features regularly violate these principles and have received criticism for adding unnecessary language bloat.[81] Responses to these criticisms are that the Zen of Python is a guideline rather than a rule.[82] The addition of some new features had been so controversial that Guido van Rossum resigned as Benevolent Dictator for Life following vitriol over the addition of the assignment expression operator in Python 3.8.[83][84]\n",
    "\n",
    "Nevertheless, rather than building all of its functionality into its core, Python was designed to be highly extensible via modules. This compact modularity has made it particularly popular as a means of adding programmable interfaces to existing applications. Van Rossum's vision of a small core language with a large standard library and easily extensible interpreter stemmed from his frustrations with ABC, which espoused the opposite approach.[41]\n",
    "\n",
    "Python claims to strive for a simpler, less-cluttered syntax and grammar while giving developers a choice in their coding methodology. In contrast to Perl's \"there is more than one way to do it\" motto, Python embraces a \"there should be one—and preferably only one—obvious way to do it.\" philosophy.[80] In practice, however, Python provides many ways to achieve the same task. There are, for example, at least three ways to format a string literal, with no certainty as to which one a programmer should use.[85] Alex Martelli, a Fellow at the Python Software Foundation and Python book author, wrote: \"To describe something as 'clever' is not considered a compliment in the Python culture.\"[86]\n",
    "\n",
    "Python's developers usually strive to avoid premature optimization and reject patches to non-critical parts of the CPython reference implementation that would offer marginal increases in speed at the cost of clarity.[87] Execution speed can be improved by moving speed-critical functions to extension modules written in languages such as C, or by using a just-in-time compiler like PyPy. It is also possible to cross-compile to other languages, but it either doesn't provide the full speed-up that might be expected, since Python is a very dynamic language, or a restricted subset of Python is compiled, and possibly semantics are slightly changed.[88]\n",
    "\n",
    "Python's developers aim for it to be fun to use. This is reflected in its name—a tribute to the British comedy group Monty Python[89]—and in occasionally playful approaches to tutorials and reference materials, such as the use of the terms \"spam\" and \"eggs\" (a reference to a Monty Python sketch) in examples, instead of the often-used \"foo\" and \"bar\".[90][91] A common neologism in the Python community is pythonic, which has a wide range of meanings related to program style. \"Pythonic\" code may use Python idioms well, be natural or show fluency in the language, or conform with Python's minimalist philosophy and emphasis on readability. Code that is difficult to understand or reads like a rough transcription from another programming language is called unpythonic.[92]\n",
    "\n",
    "Syntax and semantics\n",
    "Main article: Python syntax and semantics\n",
    "Block of Python code showing sample source code\n",
    "An example of Python code and indentation\n",
    "C code featuring curly braces and semicolon\n",
    "Example of C# code with curly braces and semicolons\n",
    "Python is meant to be an easily readable language. Its formatting is visually uncluttered and often uses English keywords where other languages use punctuation. Unlike many other languages, it does not use curly brackets to delimit blocks, and semicolons after statements are allowed but rarely used. It has fewer syntactic exceptions and special cases than C or Pascal.[93]\n",
    "\n",
    "Indentation\n",
    "Main article: Python syntax and semantics § Indentation\n",
    "Python uses whitespace indentation, rather than curly brackets or keywords, to delimit blocks. An increase in indentation comes after certain statements; a decrease in indentation signifies the end of the current block.[94] Thus, the program's visual structure accurately represents its semantic structure.[95] This feature is sometimes termed the off-side rule. Some other languages use indentation this way; but in most, indentation has no semantic meaning. The recommended indent size is four spaces.[96]\n",
    "\n",
    "Statements and control flow\n",
    "Python's statements include:\n",
    "\n",
    "The assignment statement, using a single equals sign =\n",
    "The if statement, which conditionally executes a block of code, along with else and elif (a contraction of else-if)\n",
    "The for statement, which iterates over an iterable object, capturing each element to a local variable for use by the attached block\n",
    "The while statement, which executes a block of code as long as its condition is true\n",
    "The try statement, which allows exceptions raised in its attached code block to be caught and handled by except clauses (or new syntax except* in Python 3.11 for exception groups[97]); it also ensures that clean-up code in a finally block is always run regardless of how the block exits\n",
    "The raise statement, used to raise a specified exception or re-raise a caught exception\n",
    "The class statement, which executes a block of code and attaches its local namespace to a class, for use in object-oriented programming\n",
    "The def statement, which defines a function or method\n",
    "The with statement, which encloses a code block within a context manager (for example, acquiring a lock before it is run, then releasing the lock; or opening and closing a file), allowing resource-acquisition-is-initialization (RAII)-like behavior and replacing a common try/finally idiom[98]\n",
    "The break statement, which exits a loop\n",
    "The continue statement, which skips the rest of the current iteration and continues with the next\n",
    "The del statement, which removes a variable—deleting the reference from the name to the value, and producing an error if the variable is referred to before it is redefined\n",
    "The pass statement, serving as a NOP, syntactically needed to create an empty code block\n",
    "The assert statement, used in debugging to check for conditions that should apply\n",
    "The yield statement, which returns a value from a generator function (and also an operator); used to implement coroutines\n",
    "The return statement, used to return a value from a function\n",
    "The import and from statements, used to import modules whose functions or variables can be used in the current program\n",
    "The match and case statements, an analog of the switch statement construct, that compares an expression against one or more cases as a control-of-flow measure.\n",
    "The assignment statement (=) binds a name as a reference to a separate, dynamically allocated object. Variables may subsequently be rebound at any time to any object. In Python, a variable name is a generic reference holder without a fixed data type; however, it always refers to some object with a type. This is called dynamic typing—in contrast to statically-typed languages, where each variable may contain only a value of a certain type.\n",
    "\n",
    "Python does not support tail call optimization or first-class continuations, and, according to Van Rossum, it never will.[99][100] However, better support for coroutine-like functionality is provided by extending Python's generators.[101] Before 2.5, generators were lazy iterators; data was passed unidirectionally out of the generator. From Python 2.5 on, it is possible to pass data back into a generator function; and from version 3.3, it can be passed through multiple stack levels.[102]\n",
    "\n",
    "Expressions\n",
    "Python's expressions include:\n",
    "\n",
    "The +, -, and * operators for mathematical addition, subtraction, and multiplication are similar to other languages, but the behavior of division differs. There are two types of divisions in Python: floor division (or integer division) // and floating-point/division.[103] Python uses the ** operator for exponentiation.\n",
    "Python uses the + operator for string concatenation. Python uses the * operator for duplicating a string a specified number of times.\n",
    "The @ infix operator. It is intended to be used by libraries such as NumPy for matrix multiplication.[104][105]\n",
    "The syntax :=, called the \"walrus operator\", was introduced in Python 3.8. It assigns values to variables as part of a larger expression.[106]\n",
    "In Python, == compares by value. Python's is operator may be used to compare object identities (comparison by reference), and comparisons may be chained—for example, a <= b <= c.\n",
    "Python uses and, or, and not as Boolean operators.\n",
    "Python has a type of expression named a list comprehension, and a more general expression named a generator expression.[78]\n",
    "Anonymous functions are implemented using lambda expressions; however, there may be only one expression in each body.\n",
    "Conditional expressions are written as x if c else y[107] (different in order of operands from the c ? x : y operator common to many other languages).\n",
    "Python makes a distinction between lists and tuples. Lists are written as [1, 2, 3], are mutable, and cannot be used as the keys of dictionaries (dictionary keys must be immutable in Python). Tuples, written as (1, 2, 3), are immutable and thus can be used as keys of dictionaries, provided all of the tuple's elements are immutable. The + operator can be used to concatenate two tuples, which does not directly modify their contents, but produces a new tuple containing the elements of both. Thus, given the variable t initially equal to (1, 2, 3), executing t = t + (4, 5) first evaluates t + (4, 5), which yields (1, 2, 3, 4, 5), which is then assigned back to t—thereby effectively \"modifying the contents\" of t while conforming to the immutable nature of tuple objects. Parentheses are optional for tuples in unambiguous contexts.[108]\n",
    "Python features sequence unpacking where multiple expressions, each evaluating to anything that can be assigned (to a variable, writable property, etc.) are associated in an identical manner to that forming tuple literals—and, as a whole, are put on the left-hand side of the equal sign in an assignment statement. The statement expects an iterable object on the right-hand side of the equal sign that produces the same number of values as the provided writable expressions; when iterated through them, it assigns each of the produced values to the corresponding expression on the left.[109]\n",
    "Python has a \"string format\" operator % that functions analogously to printf format strings in C—e.g. \"spam=%s eggs=%d\" % (\"blah\", 2) evaluates to \"spam=blah eggs=2\". In Python 2.6+ and 3+, this was supplemented by the format() method of the str class, e.g. \"spam={0} eggs={1}\".format(\"blah\", 2). Python 3.6 added \"f-strings\": spam = \"blah\"; eggs = 2; f'spam={spam} eggs={eggs}'.[110]\n",
    "Strings in Python can be concatenated by \"adding\" them (with the same operator as for adding integers and floats), e.g. \"spam\" + \"eggs\" returns \"spameggs\". If strings contain numbers, they are added as strings rather than integers, e.g. \"2\" + \"2\" returns \"22\".\n",
    "Python has various string literals:\n",
    "Delimited by single or double quotes; unlike in Unix shells, Perl, and Perl-influenced languages, single and double quotes work the same. Both use the backslash (\\) as an escape character. String interpolation became available in Python 3.6 as \"formatted string literals\".[110]\n",
    "Triple-quoted (beginning and ending with three single or double quotes), which may span multiple lines and function like here documents in shells, Perl, and Ruby.\n",
    "Raw string varieties, denoted by prefixing the string literal with r. Escape sequences are not interpreted; hence raw strings are useful where literal backslashes are common, such as regular expressions and Windows-style paths. (Compare \"@-quoting\" in C#.)\n",
    "Python has array index and array slicing expressions in lists, denoted as a[key], a[start:stop] or a[start:stop:step]. Indexes are zero-based, and negative indexes are relative to the end. Slices take elements from the start index up to, but not including, the stop index. The third slice parameter, called step or stride, allows elements to be skipped and reversed. Slice indexes may be omitted—for example, a[:] returns a copy of the entire list. Each element of a slice is a shallow copy.\n",
    "In Python, a distinction between expressions and statements is rigidly enforced, in contrast to languages such as Common Lisp, Scheme, or Ruby. This leads to duplicating some functionality. For example:\n",
    "\n",
    "List comprehensions vs. for-loops\n",
    "Conditional expressions vs. if blocks\n",
    "The eval() vs. exec() built-in functions (in Python 2, exec is a statement); the former is for expressions, the latter is for statements\n",
    "Statements cannot be a part of an expression—so list and other comprehensions or lambda expressions, all being expressions, cannot contain statements. A particular case is that an assignment statement such as a = 1 cannot form part of the conditional expression of a conditional statement.\n",
    "\n",
    "Methods\n",
    "Methods on objects are functions attached to the object's class; the syntax instance.method(argument) is, for normal methods and functions, syntactic sugar for Class.method(instance, argument). Python methods have an explicit self parameter to access instance data, in contrast to the implicit self (or this) in some other object-oriented programming languages (e.g., C++, Java, Objective-C, Ruby).[111] Python also provides methods, often called dunder methods (due to their names beginning and ending with double-underscores), to allow user-defined classes to modify how they are handled by native operations including length, comparison, in arithmetic operations and type conversion.[112]\n",
    "\n",
    "Typing\n",
    "\n",
    "The standard type hierarchy in Python 3\n",
    "Python uses duck typing and has typed objects but untyped variable names. Type constraints are not checked at compile time; rather, operations on an object may fail, signifying that it is not of a suitable type. Despite being dynamically typed, Python is strongly typed, forbidding operations that are not well-defined (for example, adding a number to a string) rather than silently attempting to make sense of them.\n",
    "\n",
    "Python allows programmers to define their own types using classes, most often used for object-oriented programming. New instances of classes are constructed by calling the class (for example, SpamClass() or EggsClass()), and the classes are instances of the metaclass type (itself an instance of itself), allowing metaprogramming and reflection.\n",
    "\n",
    "Before version 3.0, Python had two kinds of classes (both using the same syntax): old-style and new-style;[113] current Python versions only support the semantics of the new style.\n",
    "\n",
    "Python supports optional type annotations.[4][114] These annotations are not enforced by the language, but may be used by external tools such as mypy to catch errors.[115][116] Mypy also supports a Python compiler called mypyc, which leverages type annotations for optimization.[117]\n",
    "\n",
    "Summary of Python 3's built-in types\n",
    "Type\tMutability\tDescription\tSyntax examples\n",
    "bool\timmutable\tBoolean value\tTrue\n",
    "False\n",
    "bytearray\tmutable\tSequence of bytes\tbytearray(b'Some ASCII')\n",
    "bytearray(b\"Some ASCII\")\n",
    "bytearray([119, 105, 107, 105])\n",
    "bytes\timmutable\tSequence of bytes\tb'Some ASCII'\n",
    "b\"Some ASCII\"\n",
    "bytes([119, 105, 107, 105])\n",
    "complex\timmutable\tComplex number with real and imaginary parts\t3+2.7j\n",
    "3 + 2.7j\n",
    "dict\tmutable\tAssociative array (or dictionary) of key and value pairs; can contain mixed types (keys and values), keys must be a hashable type\t{'key1': 1.0, 3: False}\n",
    "{}\n",
    "types.EllipsisType\timmutable\tAn ellipsis placeholder to be used as an index in NumPy arrays\t...\n",
    "Ellipsis\n",
    "float\timmutable\tDouble-precision floating-point number. The precision is machine-dependent but in practice is generally implemented as a 64-bit IEEE 754 number with 53 bits of precision.[118]\t\n",
    "1.33333\n",
    "\n",
    "frozenset\timmutable\tUnordered set, contains no duplicates; can contain mixed types, if hashable\tfrozenset([4.0, 'string', True])\n",
    "int\timmutable\tInteger of unlimited magnitude[119]\t42\n",
    "list\tmutable\tList, can contain mixed types\t[4.0, 'string', True]\n",
    "[]\n",
    "types.NoneType\timmutable\tAn object representing the absence of a value, often called null in other languages\tNone\n",
    "types.NotImplementedType\timmutable\tA placeholder that can be returned from overloaded operators to indicate unsupported operand types.\tNotImplemented\n",
    "range\timmutable\tAn immutable sequence of numbers commonly used for looping a specific number of times in for loops[120]\trange(−1, 10)\n",
    "range(10, −5, −2)\n",
    "set\tmutable\tUnordered set, contains no duplicates; can contain mixed types, if hashable\t{4.0, 'string', True}\n",
    "set()\n",
    "str\timmutable\tA character string: sequence of Unicode codepoints\t'Wikipedia'\n",
    "\"Wikipedia\"\n",
    "\"\"\"Spanning\n",
    "multiple\n",
    "lines\"\"\"\n",
    "Spanning\n",
    "multiple\n",
    "lines\n",
    "tuple\timmutable\tCan contain mixed types\t(4.0, 'string', True)\n",
    "('single element',)\n",
    "()\n",
    "Arithmetic operations\n",
    "Python has the usual symbols for arithmetic operators (+, -, *, /), the floor division operator // and the modulo operation % (where the remainder can be negative, e.g. 4 % -3 == -2). It also has ** for exponentiation, e.g. 5**3 == 125 and 9**0.5 == 3.0, and a matrix‑multiplication operator @ .[121] These operators work like in traditional math; with the same precedence rules, the operators infix (+ and - can also be unary to represent positive and negative numbers respectively).\n",
    "\n",
    "The division between integers produces floating-point results. The behavior of division has changed significantly over time:[122]\n",
    "\n",
    "Current Python (i.e. since 3.0) changed / to always be floating-point division, e.g. 5/2 == 2.5.\n",
    "The floor division // operator was introduced. So 7//3 == 2, -7//3 == -3, 7.5//3 == 2.0 and -7.5//3 == -3.0. Adding from __future__ import division causes a module used in Python 2.7 to use Python 3.0 rules for division (see above).\n",
    "In Python terms, / is true division (or simply division), and // is floor division. / before version 3.0 is classic division.[122]\n",
    "\n",
    "Rounding towards negative infinity, though different from most languages, adds consistency. For instance, it means that the equation (a + b)//b == a//b + 1 is always true. It also means that the equation b*(a//b) + a%b == a is valid for both positive and negative values of a. However, maintaining the validity of this equation means that while the result of a%b is, as expected, in the half-open interval [0, b), where b is a positive integer, it has to lie in the interval (b, 0] when b is negative.[123]\n",
    "\n",
    "Python provides a round function for rounding a float to the nearest integer. For tie-breaking, Python 3 uses round to even: round(1.5) and round(2.5) both produce 2.[124] Versions before 3 used round-away-from-zero: round(0.5) is 1.0, round(-0.5) is −1.0.[125]\n",
    "\n",
    "Python allows Boolean expressions with multiple equality relations in a manner that is consistent with general use in mathematics. For example, the expression a < b < c tests whether a is less than b and b is less than c.[126] C-derived languages interpret this expression differently: in C, the expression would first evaluate a < b, resulting in 0 or 1, and that result would then be compared with c.[127]\n",
    "\n",
    "Python uses arbitrary-precision arithmetic for all integer operations. The Decimal type/class in the decimal module provides decimal floating-point numbers to a pre-defined arbitrary precision and several rounding modes.[128] The Fraction class in the fractions module provides arbitrary precision for rational numbers.[129]\n",
    "\n",
    "Due to Python's extensive mathematics library, and the third-party library NumPy that further extends the native capabilities, it is frequently used as a scientific scripting language to aid in problems such as numerical data processing and manipulation.[130][131]\n",
    "\n",
    "Programming examples\n",
    "\"Hello, World!\" program:\n",
    "\n",
    "print('Hello, world!')\n",
    "Program to calculate the factorial of a positive integer:\n",
    "\n",
    "n = int(input('Type a number, and its factorial will be printed: '))\n",
    "\n",
    "if n < 0:\n",
    "    raise ValueError('You must enter a non-negative integer')\n",
    "\n",
    "factorial = 1\n",
    "for i in range(2, n + 1):\n",
    "    factorial *= i\n",
    "\n",
    "print(factorial)\n",
    "Libraries\n",
    "Python's large standard library[132] provides tools suited to many tasks and is commonly cited as one of its greatest strengths. For Internet-facing applications, many standard formats and protocols such as MIME and HTTP are supported. It includes modules for creating graphical user interfaces, connecting to relational databases, generating pseudorandom numbers, arithmetic with arbitrary-precision decimals,[128] manipulating regular expressions, and unit testing.\n",
    "\n",
    "Some parts of the standard library are covered by specifications—for example, the Web Server Gateway Interface (WSGI) implementation wsgiref follows PEP 333[133]—but most are specified by their code, internal documentation, and test suites. However, because most of the standard library is cross-platform Python code, only a few modules need altering or rewriting for variant implementations.\n",
    "\n",
    "As of 17 March 2024, the Python Package Index (PyPI), the official repository for third-party Python software, contains over 523,000[134] packages with a wide range of functionality, including:\n",
    "\n",
    "Automation\n",
    "Data analytics\n",
    "Databases\n",
    "Documentation\n",
    "Graphical user interfaces\n",
    "Image processing\n",
    "Machine learning\n",
    "Mobile apps\n",
    "Multimedia\n",
    "Computer networking\n",
    "Scientific computing\n",
    "System administration\n",
    "Test frameworks\n",
    "Text processing\n",
    "Web frameworks\n",
    "Web scraping\n",
    "Development environments\n",
    "See also: Comparison of integrated development environments § Python\n",
    "Most Python implementations (including CPython) include a read–eval–print loop (REPL), permitting them to function as a command line interpreter for which users enter statements sequentially and receive results immediately.\n",
    "\n",
    "Python also comes with an Integrated development environment (IDE) called IDLE, which is more beginner-oriented.\n",
    "\n",
    "Other shells, including IDLE and IPython, add further abilities such as improved auto-completion, session state retention, and syntax highlighting.\n",
    "\n",
    "As well as standard desktop integrated development environments including PyCharm, IntelliJ Idea, Visual Studio Code etc, there are web browser-based IDEs, including SageMath, for developing science- and math-related programs; PythonAnywhere, a browser-based IDE and hosting environment; and Canopy IDE, a commercial IDE emphasizing scientific computing.[135]\n",
    "\n",
    "Implementations\n",
    "See also: List of Python software § Python implementations\n",
    "Reference implementation\n",
    "CPython is the reference implementation of Python. It is written in C, meeting the C89 standard (Python 3.11 uses C11[136]) with several select C99 features. CPython includes its own C extensions, but third-party extensions are not limited to older C versions—e.g. they can be implemented with C11 or C++.[137][138] CPython compiles Python programs into an intermediate bytecode[139] which is then executed by its virtual machine.[140] CPython is distributed with a large standard library written in a mixture of C and native Python, and is available for many platforms, including Windows (starting with Python 3.9, the Python installer deliberately fails to install on Windows 7 and 8;[141][142] Windows XP was supported until Python 3.5) and most modern Unix-like systems, including macOS (and Apple M1 Macs, since Python 3.9.1, with experimental installer), with unofficial support for VMS.[143] Platform portability was one of its earliest priorities.[144] (During Python 1 and 2 development, even OS/2 and Solaris were supported,[145] but support has since been dropped for many platforms.)\n",
    "\n",
    "All current Python versions (i.e. since 3.7) only support operating systems with multi-threading support.\n",
    "\n",
    "Other implementations\n",
    "All alternative implementations have at least slightly different semantics (e.g. may have unordered dictionaries, unlike all current Python versions), e.g. with the larger Python ecosystem, such as with supporting the C Python API of with PyPy:\n",
    "\n",
    "PyPy is a fast, compliant interpreter of Python 2.7 and 3.10.[146][147] Its just-in-time compiler often brings a significant speed improvement over CPython, but some libraries written in C cannot be used with it.[148] It has e.g. RISC-V support.\n",
    "Codon is a language with an ahead-of-time (AOT) compiler, that (AOT) compiles a statically-typed Python-like language with \"syntax and semantics are nearly identical to Python's, there are some notable differences\"[149] e.g. it uses 64-bit machine integers, for speed, not arbitrary like Python, and it claims speedups over CPython are usually on the order of 10–100x. It compiles to machine code (via LLVM) and supports native multithreading.[150] Codon can also compile to Python extension modules that can be imported and used from Python.\n",
    "Stackless Python is a significant fork of CPython that implements microthreads; it does not use the call stack in the same way, thus allowing massively concurrent programs. PyPy also has a stackless version.[151]\n",
    "MicroPython and CircuitPython are Python 3 variants optimized for microcontrollers, including Lego Mindstorms EV3.[152]\n",
    "Pyston is a variant of the Python runtime that uses just-in-time compilation to speed up the execution of Python programs.[153]\n",
    "Cinder is a performance-oriented fork of CPython 3.8 that contains a number of optimizations, including bytecode inline caching, eager evaluation of coroutines, a method-at-a-time JIT, and an experimental bytecode compiler.[154]\n",
    "Snek[155][156][157] Embedded Computing Language (compatible with e.g. 8-bit AVR microcontrollers such as ATmega 328P-based Arduino, as well as larger ones compatible with MicroPython) \"is Python-inspired, but it is not Python. It is possible to write Snek programs that run under a full Python system, but most Python programs will not run under Snek.\"[158] It is an imperative language not including OOP / classes, unlike Python, and simplifying to one number type with 32-bit single-precision (similar to JavaScript, except smaller).\n",
    "No longer supported implementations\n",
    "Other just-in-time Python compilers have been developed, but are now unsupported:\n",
    "\n",
    "Google began a project named Unladen Swallow in 2009, with the aim of speeding up the Python interpreter five-fold by using the LLVM, and of improving its multithreading ability to scale to thousands of cores,[159] while ordinary implementations suffer from the global interpreter lock.\n",
    "Psyco is a discontinued just-in-time specializing compiler that integrates with CPython and transforms bytecode to machine code at runtime. The emitted code is specialized for certain data types and is faster than the standard Python code. Psyco does not support Python 2.7 or later.\n",
    "PyS60 was a Python 2 interpreter for Series 60 mobile phones released by Nokia in 2005. It implemented many of the modules from the standard library and some additional modules for integrating with the Symbian operating system. The Nokia N900 also supports Python with GTK widget libraries, enabling programs to be written and run on the target device.[160]\n",
    "Cross-compilers to other languages\n",
    "There are several compilers/transpilers to high-level object languages, with either unrestricted Python, a restricted subset of Python, or a language similar to Python as the source language:\n",
    "\n",
    "Brython,[161] Transcrypt[162][163] and Pyjs (latest release in 2012) compile Python to JavaScript.\n",
    "Cython compiles (a superset of) Python to C. The resulting code is also usable with Python via direct C-level API calls into the Python interpreter.\n",
    "PyJL compiles/transpiles a subset of Python to \"human-readable, maintainable, and high-performance Julia source code\".[88] Despite claiming high performance, no tool can claim to do that for arbitrary Python code; i.e. it's known not possible to compile to a faster language or machine code. Unless semantics of Python are changed, but in many cases speedup is possible with few or no changes in the Python code. The faster Julia source code can then be used from Python, or compiled to machine code, and based that way.\n",
    "Nuitka compiles Python into C.[164] It works with Python 3.4 to 3.12 (and 2.6 and 2.7), for Python's main supported platforms (and Windows 7 or even Windows XP) and for Android. It claims complete support for Python 3.10, some support for 3.11 and 3.12 and experimental support for Python 3.13. It supports macOS including Apple Silicon-based. It's a free compiler, though it also has commercial add-ons (e.g. for hiding source code).\n",
    "Numba is used from Python, as a tool (enabled by adding a decorator to relevant Python code), a JIT compiler that translates a subset of Python and NumPy code into fast machine code.\n",
    "Pythran compiles a subset of Python 3 to C++ (C++11).[165]\n",
    "RPython can be compiled to C, and is used to build the PyPy interpreter of Python.\n",
    "The Python → 11l → C++ transpiler[166] compiles a subset of Python 3 to C++ (C++17).\n",
    "Specialized:\n",
    "\n",
    "MyHDL is a Python-based hardware description language (HDL), that converts MyHDL code to Verilog or VHDL code.\n",
    "Older projects (or not to be used with Python 3.x and latest syntax):\n",
    "\n",
    "Google's Grumpy (latest release in 2017) transpiles Python 2 to Go.[167][168][169]\n",
    "IronPython allows running Python 2.7 programs (and an alpha, released in 2021, is also available for \"Python 3.4, although features and behaviors from later versions may be included\"[170]) on the .NET Common Language Runtime.[171]\n",
    "Jython compiles Python 2.7 to Java bytecode, allowing the use of the Java libraries from a Python program.[172]\n",
    "Pyrex (latest release in 2010) and Shed Skin (latest release in 2013) compile to C and C++ respectively.\n",
    "Performance\n",
    "Performance comparison of various Python implementations on a non-numerical (combinatorial) workload was presented at EuroSciPy '13.[173] Python's performance compared to other programming languages is also benchmarked by The Computer Language Benchmarks Game.[174]\n",
    "\n",
    "Development\n",
    "Python's development is conducted largely through the Python Enhancement Proposal (PEP) process, the primary mechanism for proposing major new features, collecting community input on issues, and documenting Python design decisions.[175] Python coding style is covered in PEP 8.[176] Outstanding PEPs are reviewed and commented on by the Python community and the steering council.[175]\n",
    "\n",
    "Enhancement of the language corresponds with the development of the CPython reference implementation. The mailing list python-dev is the primary forum for the language's development. Specific issues were originally discussed in the Roundup bug tracker hosted at by the foundation.[177] In 2022, all issues and discussions were migrated to GitHub.[178] Development originally took place on a self-hosted source-code repository running Mercurial, until Python moved to GitHub in January 2017.[179]\n",
    "\n",
    "CPython's public releases come in three types, distinguished by which part of the version number is incremented:\n",
    "\n",
    "Backward-incompatible versions, where code is expected to break and needs to be manually ported. The first part of the version number is incremented. These releases happen infrequently—version 3.0 was released 8 years after 2.0. According to Guido van Rossum, a version 4.0 is very unlikely to ever happen.[180]\n",
    "Major or \"feature\" releases are largely compatible with the previous version but introduce new features. The second part of the version number is incremented. Starting with Python 3.9, these releases are expected to happen annually.[181][182] Each major version is supported by bug fixes for several years after its release.[183]\n",
    "Bugfix releases,[184] which introduce no new features, occur about every 3 months and are made when a sufficient number of bugs have been fixed upstream since the last release. Security vulnerabilities are also patched in these releases. The third and final part of the version number is incremented.[184]\n",
    "Many alpha, beta, and release-candidates are also released as previews and for testing before final releases. Although there is a rough schedule for each release, they are often delayed if the code is not ready. Python's development team monitors the state of the code by running the large unit test suite during development.[185]\n",
    "\n",
    "The major academic conference on Python is PyCon. There are also special Python mentoring programs, such as PyLadies.\n",
    "\n",
    "Python 3.12 removed wstr meaning Python extensions[186] need to be modified,[187] and 3.10 added pattern matching to the language.[188]\n",
    "\n",
    "Python 3.12 dropped some outdated modules, and more will be dropped in the future, deprecated as of 3.13; already deprecated array 'u' format code will emit DeprecationWarning since 3.13 and will be removed in Python 3.16. The 'w' format code should be used instead. Part of ctypes is also deprecated and http.server.CGIHTTPRequestHandler will emit a DeprecationWarning, and will be removed in 3.15. Using that code already has a high potential for both security and functionality bugs. Parts of the typing module are deprecated, e.g. creating a typing.NamedTuple class using keyword arguments to denote the fields and such (and more) will be disallowed in Python 3.15.\n",
    "\n",
    "API documentation generators\n",
    "Tools that can generate documentation for Python API include pydoc (available as part of the standard library), Sphinx, Pdoc and its forks, Doxygen and Graphviz, among others.[189]\n",
    "\n",
    "Naming\n",
    "Python's name is derived from the British comedy group Monty Python, whom Python creator Guido van Rossum enjoyed while developing the language. Monty Python references appear frequently in Python code and culture;[190] for example, the metasyntactic variables often used in Python literature are spam and eggs instead of the traditional foo and bar.[190][191] The official Python documentation also contains various references to Monty Python routines.[192][193] Users of Python are sometimes referred to as \"Pythonistas\".[194]\n",
    "\n",
    "The prefix Py- is used to show that something is related to Python. Examples of the use of this prefix in names of Python applications or libraries include Pygame, a binding of Simple DirectMedia Layer to Python (commonly used to create games); PyQt and PyGTK, which bind Qt and GTK to Python respectively; and PyPy, a Python implementation originally written in Python.\n",
    "\n",
    "Popularity\n",
    "Since 2003, Python has consistently ranked in the top ten most popular programming languages in the TIOBE Programming Community Index where as of December 2022 it was the most popular language (ahead of C, C++, and Java).[39] It was selected as Programming Language of the Year (for \"the highest rise in ratings in a year\") in 2007, 2010, 2018, and 2020 (the only language to have done so four times as of 2020[195]).\n",
    "\n",
    "Large organizations that use Python include Wikipedia, Google,[196] Yahoo!,[197] CERN,[198] NASA,[199] Facebook,[200] Amazon, Instagram,[201] Spotify,[202] and some smaller entities like Industrial Light & Magic[203] and ITA.[204] The social news networking site Reddit was written mostly in Python.[205] Organizations that partially use Python include Discord[206] and Baidu.[207]\n",
    "\n",
    "Uses\n",
    "Main article: List of Python software\n",
    "\n",
    "Python Powered\n",
    "Python can serve as a scripting language for web applications, e.g. via mod_wsgi for the Apache webserver.[208] With Web Server Gateway Interface, a standard API has evolved to facilitate these applications. Web frameworks like Django, Pylons, Pyramid, TurboGears, web2py, Tornado, Flask, Bottle, and Zope support developers in the design and maintenance of complex applications. Pyjs and IronPython can be used to develop the client-side of Ajax-based applications. SQLAlchemy can be used as a data mapper to a relational database. Twisted is a framework to program communications between computers, and is used (for example) by Dropbox.\n",
    "\n",
    "Libraries such as NumPy, SciPy and Matplotlib allow the effective use of Python in scientific computing,[209][210] with specialized libraries such as Biopython and Astropy providing domain-specific functionality. SageMath is a computer algebra system with a notebook interface programmable in Python: its library covers many aspects of mathematics, including algebra, combinatorics, numerical mathematics, number theory, and calculus.[211] OpenCV has Python bindings with a rich set of features for computer vision and image processing.[212]\n",
    "\n",
    "Python is commonly used in artificial intelligence projects and machine learning projects with the help of libraries like TensorFlow, Keras, Pytorch, scikit-learn and the Logic language ProbLog.[213][214][215][216][217] As a scripting language with a modular architecture, simple syntax, and rich text processing tools, Python is often used for natural language processing.[218]\n",
    "\n",
    "The combination of Python and Prolog has proved to be particularly useful for AI applications, with Prolog providing knowledge representation and reasoning capabilities. The Janus system, in particular, exploits the similarities between these two languages, in part because of their use of dynamic typing, and the simple recursive nature of their data structures. Typical applications of this combination include natural language processing, visual query answering, geospatial reasoning, and handling of semantic web data.[219][220] The Natlog system, implemented in Python, uses Definite Clause Grammars (DCGs) as prompt generators for text-to-text generators like GPT3 and text-to-image generators like DALL-E or Stable Diffusion.[221]\n",
    "\n",
    "Python can also be used for graphical user interface (GUI) by using libraries like Tkinter.[222][223]\n",
    "\n",
    "Python has been successfully embedded in many software products as a scripting language, including in finite element method software such as Abaqus, 3D parametric modelers like FreeCAD, 3D animation packages such as 3ds Max, Blender, Cinema 4D, Lightwave, Houdini, Maya, modo, MotionBuilder, Softimage, the visual effects compositor Nuke, 2D imaging programs like GIMP,[224] Inkscape, Scribus and Paint Shop Pro,[225] and musical notation programs like scorewriter and capella. GNU Debugger uses Python as a pretty printer to show complex structures such as C++ containers. Esri promotes Python as the best choice for writing scripts in ArcGIS.[226] It has also been used in several video games,[227][228] and has been adopted as first of the three available programming languages in Google App Engine, the other two being Java and Go.[229]\n",
    "\n",
    "Many operating systems include Python as a standard component. It ships with most Linux distributions,[230] AmigaOS 4 (using Python 2.7), FreeBSD (as a package), NetBSD, and OpenBSD (as a package) and can be used from the command line (terminal). Many Linux distributions use installers written in Python: Ubuntu uses the Ubiquity installer, while Red Hat Linux and Fedora Linux use the Anaconda installer. Gentoo Linux uses Python in its package management system, Portage.\n",
    "\n",
    "Python is used extensively in the information security industry, including in exploit development.[231][232]\n",
    "\n",
    "Most of the Sugar software for the One Laptop per Child XO, developed at Sugar Labs as of 2008, is written in Python.[233] The Raspberry Pi single-board computer project has adopted Python as its main user-programming language.\n",
    "\n",
    "LibreOffice includes Python and intends to replace Java with Python. Its Python Scripting Provider is a core feature[234] since Version 4.0 from 7 February 2013.\n",
    "\n",
    "Languages influenced by Python\n",
    "Python's design and philosophy have influenced many other programming languages:\n",
    "\n",
    "Boo uses indentation, a similar syntax, and a similar object model.[235]\n",
    "Cobra uses indentation and a similar syntax, and its Acknowledgements document lists Python first among languages that influenced it.[236]\n",
    "CoffeeScript, a programming language that cross-compiles to JavaScript, has Python-inspired syntax.\n",
    "ECMAScript–JavaScript borrowed iterators and generators from Python.[237]\n",
    "GDScript, a scripting language very similar to Python, built-in to the Godot game engine.[238]\n",
    "Go is designed for the \"speed of working in a dynamic language like Python\"[239] and shares the same syntax for slicing arrays.\n",
    "Groovy was motivated by the desire to bring the Python design philosophy to Java.[240]\n",
    "Julia was designed to be \"as usable for general programming as Python\".[27]\n",
    "Mojo is a non-strict[28][241] superset of Python (e.g. still missing classes, and adding e.g. struct).[242]\n",
    "Nim uses indentation and similar syntax.[243]\n",
    "Ruby's creator, Yukihiro Matsumoto, has said: \"I wanted a scripting language that was more powerful than Perl, and more object-oriented than Python. That's why I decided to design my own language.\"[244]\n",
    "Swift, a programming language developed by Apple, has some Python-inspired syntax.[245]\n",
    "Kotlin blends Python and Java features, minimizing boilerplate code for enhanced developer efficiency.[246]\n",
    "Python's development practices have also been emulated by other languages. For example, the practice of requiring a document describing the rationale for, and issues surrounding, a change to the language (in Python, a PEP) is also used in Tcl,[247] Erlang,[248] and Swift.[249]\n",
    "\n",
    "See also\n",
    "icon\tComputer programming portal\n",
    "\tFree and open-source software portal\n",
    "Python syntax and semantics\n",
    "pip (package manager)\n",
    "List of programming languages\n",
    "History of programming languages\n",
    "Comparison of programming languages\n",
    "References\n",
    " \"General Python FAQ – Python 3 documentation\". docs.python.org. Retrieved 7 July 2024.\n",
    " \"Python 0.9.1 part 01/21\". alt.sources archives. Archived from the original on 11 August 2021. Retrieved 11 August 2021.\n",
    " \"Why is Python a dynamic language and also a strongly typed language\". Python Wiki. Archived from the original on 14 March 2021. Retrieved 27 January 2021.\n",
    " \"PEP 483 – The Theory of Type Hints\". Python.org. Archived from the original on 14 June 2020. Retrieved 14 June 2018.\n",
    " \"PEP 11 – CPython platform support | peps.python.org\". Python Enhancement Proposals (PEPs). Retrieved 22 April 2024.\n",
    " \"PEP 738 – Adding Android as a supported platform | peps.python.org\". Python Enhancement Proposals (PEPs). Retrieved 19 May 2024.\n",
    " \"Download Python for Other Platforms\". Python.org. Archived from the original on 27 November 2020. Retrieved 18 August 2023.\n",
    " \"test – Regression tests package for Python – Python 3.7.13 documentation\". docs.python.org. Archived from the original on 17 May 2022. Retrieved 17 May 2022.\n",
    " \"platform – Access to underlying platform's identifying data – Python 3.10.4 documentation\". docs.python.org. Archived from the original on 17 May 2022. Retrieved 17 May 2022.\n",
    " Holth, Moore (30 March 2014). \"PEP 0441 – Improving Python ZIP Application Support\". Archived from the original on 26 December 2018. Retrieved 12 November 2015.\n",
    " \"Starlark Language\". Archived from the original on 15 June 2020. Retrieved 25 May 2019.\n",
    " \"Why was Python created in the first place?\". General Python FAQ. Python Software Foundation. Archived from the original on 24 October 2012. Retrieved 22 March 2007. I had extensive experience with implementing an interpreted language in the ABC group at CWI, and from working with this group I had learned a lot about language design. This is the origin of many Python features, including the use of indentation for statement grouping and the inclusion of very high-level data types (although the details are all different in Python).\n",
    " \"Ada 83 Reference Manual (raise statement)\". Archived from the original on 22 October 2019. Retrieved 7 January 2020.\n",
    " Kuchling, Andrew M. (22 December 2006). \"Interview with Guido van Rossum (July 1998)\". amk.ca. Archived from the original on 1 May 2007. Retrieved 12 March 2012. I'd spent a summer at DEC's Systems Research Center, which introduced me to Modula-2+; the Modula-3 final report was being written there at about the same time. What I learned there later showed up in Python's exception handling, modules, and the fact that methods explicitly contain 'self' in their parameter list. String slicing came from Algol-68 and Icon.\n",
    " \"itertools – Functions creating iterators for efficient looping – Python 3.7.1 documentation\". docs.python.org. Archived from the original on 14 June 2020. Retrieved 22 November 2016. This module implements a number of iterator building blocks inspired by constructs from APL, Haskell, and SML.\n",
    " van Rossum, Guido (1993). \"An Introduction to Python for UNIX/C Programmers\". Proceedings of the NLUUG Najaarsconferentie (Dutch UNIX Users Group). CiteSeerX 10.1.1.38.2023. even though the design of C is far from ideal, its influence on Python is considerable.\n",
    " \"Classes\". The Python Tutorial. Python Software Foundation. Archived from the original on 23 October 2012. Retrieved 20 February 2012. It is a mixture of the class mechanisms found in C++ and Modula-3\n",
    " Lundh, Fredrik. \"Call By Object\". effbot.org. Archived from the original on 23 November 2019. Retrieved 21 November 2017. replace \"CLU\" with \"Python\", \"record\" with \"instance\", and \"procedure\" with \"function or method\", and you get a pretty accurate description of Python's object model.\n",
    " Simionato, Michele. \"The Python 2.3 Method Resolution Order\". Python Software Foundation. Archived from the original on 20 August 2020. Retrieved 29 July 2014. The C3 method itself has nothing to do with Python, since it was invented by people working on Dylan and it is described in a paper intended for lispers\n",
    " Kuchling, A. M. \"Functional Programming HOWTO\". Python v2.7.2 documentation. Python Software Foundation. Archived from the original on 24 October 2012. Retrieved 9 February 2012. List comprehensions and generator expressions [...] are a concise notation for such operations, borrowed from the functional programming language Haskell.\n",
    " Schemenauer, Neil; Peters, Tim; Hetland, Magnus Lie (18 May 2001). \"PEP 255 – Simple Generators\". Python Enhancement Proposals. Python Software Foundation. Archived from the original on 5 June 2020. Retrieved 9 February 2012.\n",
    " \"More Control Flow Tools\". Python 3 documentation. Python Software Foundation. Archived from the original on 4 June 2016. Retrieved 24 July 2015. By popular demand, a few features commonly found in functional programming languages like Lisp have been added to Python. With the lambda keyword, small anonymous functions can be created.\n",
    " \"re – Regular expression operations – Python 3.10.6 documentation\". docs.python.org. Archived from the original on 18 July 2018. Retrieved 6 September 2022. This module provides regular expression matching operations similar to those found in Perl.\n",
    " \"CoffeeScript\". coffeescript.org. Archived from the original on 12 June 2020. Retrieved 3 July 2018.\n",
    " \"Perl and Python influences in JavaScript\". www.2ality.com. 24 February 2013. Archived from the original on 26 December 2018. Retrieved 15 May 2015.\n",
    " Rauschmayer, Axel. \"Chapter 3: The Nature of JavaScript; Influences\". O'Reilly, Speaking JavaScript. Archived from the original on 26 December 2018. Retrieved 15 May 2015.\n",
    " \"Why We Created Julia\". Julia website. February 2012. Archived from the original on 2 May 2020. Retrieved 5 June 2014. We want something as usable for general programming as Python [...]\n",
    " Krill, Paul (4 May 2023). \"Mojo language marries Python and MLIR for AI development\". InfoWorld. Archived from the original on 5 May 2023. Retrieved 5 May 2023.\n",
    " Ring Team (4 December 2017). \"Ring and other languages\". ring-lang.net. ring-lang. Archived from the original on 25 December 2018. Retrieved 4 December 2017.\n",
    " Bini, Ola (2007). Practical JRuby on Rails Web 2.0 Projects: bringing Ruby on Rails to the Java platform. Berkeley: APress. p. 3. ISBN 978-1-59059-881-8.\n",
    " Lattner, Chris (3 June 2014). \"Chris Lattner's Homepage\". Chris Lattner. Archived from the original on 25 December 2018. Retrieved 3 June 2014. The Swift language is the product of tireless effort from a team of language experts, documentation gurus, compiler optimization ninjas, and an incredibly important internal dogfooding group who provided feedback to help refine and battle-test ideas. Of course, it also greatly benefited from the experiences hard-won by many other languages in the field, drawing ideas from Objective-C, Rust, Haskell, Ruby, Python, C#, CLU, and far too many others to list.\n",
    " Kuhlman, Dave. \"A Python Book: Beginning Python, Advanced Python, and Python Exercises\". Section 1.1. Archived from the original (PDF) on 23 June 2012.\n",
    " \"About Python\". Python Software Foundation. Archived from the original on 20 April 2012. Retrieved 24 April 2012., second section \"Fans of Python use the phrase \"batteries included\" to describe the standard library, which covers everything from asynchronous processing to zip files.\"\n",
    " \"PEP 206 – Python Advanced Library\". Python.org. Archived from the original on 5 May 2021. Retrieved 11 October 2021.\n",
    " Rossum, Guido Van (20 January 2009). \"The History of Python: A Brief Timeline of Python\". The History of Python. Archived from the original on 5 June 2020. Retrieved 5 March 2021.\n",
    " Peterson, Benjamin (20 April 2020). \"Python 2.7.18, the last release of Python 2\". Python Insider. Archived from the original on 26 April 2020. Retrieved 27 April 2020.\n",
    " \"Stack Overflow Developer Survey 2022\". Stack Overflow. Archived from the original on 27 June 2022. Retrieved 12 August 2022.\n",
    " \"The State of Developer Ecosystem in 2020 Infographic\". JetBrains: Developer Tools for Professionals and Teams. Archived from the original on 1 March 2021. Retrieved 5 March 2021.\n",
    " \"TIOBE Index\". TIOBE. Archived from the original on 25 February 2018. Retrieved 3 January 2023. The TIOBE Programming Community index is an indicator of the popularity of programming languages Updated as required.\n",
    " \"PYPL PopularitY of Programming Language index\". pypl.github.io. Archived from the original on 14 March 2017. Retrieved 26 March 2021.\n",
    " Venners, Bill (13 January 2003). \"The Making of Python\". Artima Developer. Artima. Archived from the original on 1 September 2016. Retrieved 22 March 2007.\n",
    " van Rossum, Guido (29 August 2000). \"SETL (was: Lukewarm about range literals)\". Python-Dev (Mailing list). Archived from the original on 14 July 2018. Retrieved 13 March 2011.\n",
    " van Rossum, Guido (20 January 2009). \"A Brief Timeline of Python\". The History of Python. Archived from the original on 5 June 2020. Retrieved 20 January 2009.\n",
    " Fairchild, Carlie (12 July 2018). \"Guido van Rossum Stepping Down from Role as Python's Benevolent Dictator For Life\". Linux Journal. Archived from the original on 13 July 2018. Retrieved 13 July 2018.\n",
    " \"PEP 8100\". Python Software Foundation. Archived from the original on 4 June 2020. Retrieved 4 May 2019.\n",
    " \"PEP 13 – Python Language Governance\". Python.org. Archived from the original on 27 May 2021. Retrieved 25 August 2021.\n",
    " Kuchling, A. M.; Zadka, Moshe (16 October 2000). \"What's New in Python 2.0\". Python Software Foundation. Archived from the original on 23 October 2012. Retrieved 11 February 2012.\n",
    " van Rossum, Guido (5 April 2006). \"PEP 3000 – Python 3000\". Python Enhancement Proposals. Python Software Foundation. Archived from the original on 3 March 2016. Retrieved 27 June 2009.\n",
    " \"2to3 – Automated Python 2 to 3 code translation\". docs.python.org. Archived from the original on 4 June 2020. Retrieved 2 February 2021.\n",
    " \"PEP 373 – Python 2.7 Release Schedule\". python.org. Archived from the original on 19 May 2020. Retrieved 9 January 2017.\n",
    " \"PEP 466 – Network Security Enhancements for Python 2.7.x\". python.org. Archived from the original on 4 June 2020. Retrieved 9 January 2017.\n",
    " \"Sunsetting Python 2\". Python.org. Archived from the original on 12 January 2020. Retrieved 22 September 2019.\n",
    " \"PEP 373 – Python 2.7 Release Schedule\". Python.org. Archived from the original on 13 January 2020. Retrieved 22 September 2019.\n",
    " \"Python Release Python 3.7.17\". Python.org. Archived from the original on 31 July 2023. Retrieved 18 August 2023.\n",
    " mattip (25 December 2023). \"PyPy v7.3.14 release\". PyPy. Archived from the original on 5 January 2024. Retrieved 5 January 2024.\n",
    " \"CVE-2021-3177\". Red Hat Customer Portal. Archived from the original on 6 March 2021. Retrieved 26 February 2021.\n",
    " \"CVE-2021-3177\". CVE. Archived from the original on 27 February 2021. Retrieved 26 February 2021.\n",
    " \"CVE-2021-23336\". CVE. Archived from the original on 24 February 2021. Retrieved 26 February 2021.\n",
    " Langa, Łukasz (24 March 2022). \"Python 3.10.4 and 3.9.12 are now available out of schedule\". Python Insider. Archived from the original on 21 April 2022. Retrieved 19 April 2022.\n",
    " Langa, Łukasz (16 March 2022). \"Python 3.10.3, 3.9.11, 3.8.13, and 3.7.13 are now available with security content\". Python Insider. Archived from the original on 17 April 2022. Retrieved 19 April 2022.\n",
    " Langa, Łukasz (17 May 2022). \"Python 3.9.13 is now available\". Python Insider. Archived from the original on 17 May 2022. Retrieved 21 May 2022.\n",
    " Langa, Łukasz (7 September 2022). \"Python releases 3.10.7, 3.9.14, 3.8.14, and 3.7.14 are now available\". Python Insider. Archived from the original on 13 September 2022. Retrieved 16 September 2022.\n",
    " \"CVE-2020-10735\". CVE. Archived from the original on 20 September 2022. Retrieved 16 September 2022.\n",
    " \"Built-in Types\".\n",
    " corbet (24 October 2022). \"Python 3.11 released [LWN.net]\". lwn.net. Retrieved 15 November 2022.\n",
    " \"What's New In Python 3.13\". Python documentation. Retrieved 30 April 2024.\n",
    " \"PEP 667 – Consistent views of namespaces | peps.python.org\". Python Enhancement Proposals (PEPs). Retrieved 7 October 2024.\n",
    " \"Status of Python versions\". Python Developer's Guide. Retrieved 7 October 2024.\n",
    " Wouters, Thomas (9 April 2024). \"Python Insider: Python 3.12.3 and 3.13.0a6 released\". Python Insider. Retrieved 29 April 2024.\n",
    " \"PEP 594 – Removing dead batteries from the standard library\". Python Enhancement Proposals. Python Softtware Foundation. 20 May 2019.\n",
    " The Cain Gang Ltd. \"Python Metaclasses: Who? Why? When?\" (PDF). Archived from the original (PDF) on 30 May 2009. Retrieved 27 June 2009.\n",
    " \"3.3. Special method names\". The Python Language Reference. Python Software Foundation. Archived from the original on 15 December 2018. Retrieved 27 June 2009.\n",
    " \"PyDBC: method preconditions, method postconditions and class invariants for Python\". Archived from the original on 23 November 2019. Retrieved 24 September 2011.\n",
    " \"Contracts for Python\". Archived from the original on 15 June 2020. Retrieved 24 September 2011.\n",
    " \"PyDatalog\". Archived from the original on 13 June 2020. Retrieved 22 July 2012.\n",
    " \"Glue It All Together With Python\". Python.org. Retrieved 30 September 2024.\n",
    " \"Extending and Embedding the Python Interpreter: Reference Counts\". Docs.python.org. Archived from the original on 18 October 2012. Retrieved 5 June 2020. Since Python makes heavy use of malloc() and free(), it needs a strategy to avoid memory leaks as well as the use of freed memory. The chosen method is called reference counting.\n",
    " Hettinger, Raymond (30 January 2002). \"PEP 289 – Generator Expressions\". Python Enhancement Proposals. Python Software Foundation. Archived from the original on 14 June 2020. Retrieved 19 February 2012.\n",
    " \"6.5 itertools – Functions creating iterators for efficient looping\". Docs.python.org. Archived from the original on 14 June 2020. Retrieved 22 November 2016.\n",
    " Peters, Tim (19 August 2004). \"PEP 20 – The Zen of Python\". Python Enhancement Proposals. Python Software Foundation. Archived from the original on 26 December 2018. Retrieved 24 November 2008.\n",
    " Lutz, Mark (January 2022). \"Python Changes 2014+\". Learning Python. Archived from the original on 15 March 2024. Retrieved 25 February 2024.\n",
    " \"Confusion regarding a rule in The Zen of Python\". Python Help - Discussions on Python.org. 3 May 2022. Archived from the original on 25 February 2024. Retrieved 25 February 2024.\n",
    " Ambi, Chetan (4 July 2021). \"The Most Controversial Python Walrus Operator\". Python Simplified. Archived from the original on 27 August 2023. Retrieved 5 February 2024.\n",
    " Grifski, Jeremy (24 May 2020). \"The Controversy Behind The Walrus Operator in Python\". The Renegade Coder. Archived from the original on 28 December 2023. Retrieved 25 February 2024.\n",
    " Bader, Dan. \"Python String Formatting Best Practices\". Real Python. Archived from the original on 18 February 2024. Retrieved 25 February 2024.\n",
    " Martelli, Alex; Ravenscroft, Anna; Ascher, David (2005). Python Cookbook, 2nd Edition. O'Reilly Media. p. 230. ISBN 978-0-596-00797-3. Archived from the original on 23 February 2020. Retrieved 14 November 2015.\n",
    " \"Python Culture\". ebeab. 21 January 2014. Archived from the original on 30 January 2014.\n",
    " \"Transpiling Python to Julia using PyJL\" (PDF). Archived (PDF) from the original on 19 November 2023. Retrieved 20 September 2023. After manually modifying one line of code by specifying the necessary type information, we obtained a speedup of 52.6×, making the translated Julia code 19.5× faster than the original Python code.\n",
    " \"Why is it called Python?\". General Python FAQ. Docs.python.org. Archived from the original on 24 October 2012. Retrieved 3 January 2023.\n",
    " \"15 Ways Python Is a Powerful Force on the Web\". Archived from the original on 11 May 2019. Retrieved 3 July 2018.\n",
    " \"pprint – Data pretty printer – Python 3.11.0 documentation\". docs.python.org. Archived from the original on 22 January 2021. Retrieved 5 November 2022. stuff=['spam', 'eggs', 'lumberjack', 'knights', 'ni']\n",
    " \"Code Style – The Hitchhiker's Guide to Python\". docs.python-guide.org. Archived from the original on 27 January 2021. Retrieved 20 January 2021.\n",
    " \"Is Python a good language for beginning programmers?\". General Python FAQ. Python Software Foundation. Archived from the original on 24 October 2012. Retrieved 21 March 2007.\n",
    " \"Myths about indentation in Python\". Secnetix.de. Archived from the original on 18 February 2018. Retrieved 19 April 2011.\n",
    " Guttag, John V. (12 August 2016). Introduction to Computation and Programming Using Python: With Application to Understanding Data. MIT Press. ISBN 978-0-262-52962-4.\n",
    " \"PEP 8 – Style Guide for Python Code\". Python.org. Archived from the original on 17 April 2019. Retrieved 26 March 2019.\n",
    " \"8. Errors and Exceptions – Python 3.12.0a0 documentation\". docs.python.org. Archived from the original on 9 May 2022. Retrieved 9 May 2022.\n",
    " \"Highlights: Python 2.5\". Python.org. Archived from the original on 4 August 2019. Retrieved 20 March 2018.\n",
    " van Rossum, Guido (22 April 2009). \"Tail Recursion Elimination\". Neopythonic.blogspot.be. Archived from the original on 19 May 2018. Retrieved 3 December 2012.\n",
    " van Rossum, Guido (9 February 2006). \"Language Design Is Not Just Solving Puzzles\". Artima forums. Artima. Archived from the original on 17 January 2020. Retrieved 21 March 2007.\n",
    " van Rossum, Guido; Eby, Phillip J. (10 May 2005). \"PEP 342 – Coroutines via Enhanced Generators\". Python Enhancement Proposals. Python Software Foundation. Archived from the original on 29 May 2020. Retrieved 19 February 2012.\n",
    " \"PEP 380\". Python.org. Archived from the original on 4 June 2020. Retrieved 3 December 2012.\n",
    " \"division\". python.org. Archived from the original on 20 July 2006. Retrieved 30 July 2014.\n",
    " \"PEP 0465 – A dedicated infix operator for matrix multiplication\". python.org. Archived from the original on 4 June 2020. Retrieved 1 January 2016.\n",
    " \"Python 3.5.1 Release and Changelog\". python.org. Archived from the original on 14 May 2020. Retrieved 1 January 2016.\n",
    " \"What's New in Python 3.8\". Archived from the original on 8 June 2020. Retrieved 14 October 2019.\n",
    " van Rossum, Guido; Hettinger, Raymond (7 February 2003). \"PEP 308 – Conditional Expressions\". Python Enhancement Proposals. Python Software Foundation. Archived from the original on 13 March 2016. Retrieved 13 July 2011.\n",
    " \"4. Built-in Types – Python 3.6.3rc1 documentation\". python.org. Archived from the original on 14 June 2020. Retrieved 1 October 2017.\n",
    " \"5.3. Tuples and Sequences – Python 3.7.1rc2 documentation\". python.org. Archived from the original on 10 June 2020. Retrieved 17 October 2018.\n",
    " \"PEP 498 – Literal String Interpolation\". python.org. Archived from the original on 15 June 2020. Retrieved 8 March 2017.\n",
    " \"Why must 'self' be used explicitly in method definitions and calls?\". Design and History FAQ. Python Software Foundation. Archived from the original on 24 October 2012. Retrieved 19 February 2012.\n",
    " Sweigart, Al (2020). Beyond the Basic Stuff with Python: Best Practices for Writing Clean Code. No Starch Press. p. 322. ISBN 978-1-59327-966-0. Archived from the original on 13 August 2021. Retrieved 7 July 2021.\n",
    " \"The Python Language Reference, section 3.3. New-style and classic classes, for release 2.7.1\". Archived from the original on 26 October 2012. Retrieved 12 January 2011.\n",
    " \"PEP 484 – Type Hints | peps.python.org\". peps.python.org. Archived from the original on 27 November 2023. Retrieved 29 November 2023.\n",
    " \"typing — Support for type hints\". Python documentation. Python Software Foundation. Archived from the original on 21 February 2020. Retrieved 22 December 2023.\n",
    " \"mypy – Optional Static Typing for Python\". Archived from the original on 6 June 2020. Retrieved 28 January 2017.\n",
    " \"Introduction\". mypyc.readthedocs.io. Archived from the original on 22 December 2023. Retrieved 22 December 2023.\n",
    " \"15. Floating Point Arithmetic: Issues and Limitations – Python 3.8.3 documentation\". docs.python.org. Archived from the original on 6 June 2020. Retrieved 6 June 2020. Almost all machines today (November 2000) use IEEE-754 floating point arithmetic, and almost all platforms map Python floats to IEEE-754 \"double precision\".\n",
    " Zadka, Moshe; van Rossum, Guido (11 March 2001). \"PEP 237 – Unifying Long Integers and Integers\". Python Enhancement Proposals. Python Software Foundation. Archived from the original on 28 May 2020. Retrieved 24 September 2011.\n",
    " \"Built-in Types\". Archived from the original on 14 June 2020. Retrieved 3 October 2019.\n",
    " \"PEP 465 – A dedicated infix operator for matrix multiplication\". python.org. Archived from the original on 29 May 2020. Retrieved 3 July 2018.\n",
    " Zadka, Moshe; van Rossum, Guido (11 March 2001). \"PEP 238 – Changing the Division Operator\". Python Enhancement Proposals. Python Software Foundation. Archived from the original on 28 May 2020. Retrieved 23 October 2013.\n",
    " \"Why Python's Integer Division Floors\". 24 August 2010. Archived from the original on 5 June 2020. Retrieved 25 August 2010.\n",
    " \"round\", The Python standard library, release 3.2, §2: Built-in functions, archived from the original on 25 October 2012, retrieved 14 August 2011\n",
    " \"round\", The Python standard library, release 2.7, §2: Built-in functions, archived from the original on 27 October 2012, retrieved 14 August 2011\n",
    " Beazley, David M. (2009). Python Essential Reference (4th ed.). Addison-Wesley Professional. p. 66. ISBN 9780672329784.\n",
    " Kernighan, Brian W.; Ritchie, Dennis M. (1988). The C Programming Language (2nd ed.). p. 206.\n",
    " Batista, Facundo (17 October 2003). \"PEP 327 – Decimal Data Type\". Python Enhancement Proposals. Python Software Foundation. Archived from the original on 4 June 2020. Retrieved 24 November 2008.\n",
    " \"What's New in Python 2.6\". Python v2.6.9 documentation. 29 October 2013. Archived from the original on 23 December 2019. Retrieved 26 September 2015.\n",
    " \"10 Reasons Python Rocks for Research (And a Few Reasons it Doesn't) – Hoyt Koepke\". University of Washington Department of Statistics. Archived from the original on 31 May 2020. Retrieved 3 February 2019.\n",
    " Shell, Scott (17 June 2014). \"An introduction to Python for scientific computing\" (PDF). Archived (PDF) from the original on 4 February 2019. Retrieved 3 February 2019.\n",
    " Piotrowski, Przemyslaw (July 2006). \"Build a Rapid Web Development Environment for Python Server Pages and Oracle\". Oracle Technology Network. Oracle. Archived from the original on 2 April 2019. Retrieved 12 March 2012.\n",
    " Eby, Phillip J. (7 December 2003). \"PEP 333 – Python Web Server Gateway Interface v1.0\". Python Enhancement Proposals. Python Software Foundation. Archived from the original on 14 June 2020. Retrieved 19 February 2012.\n",
    " \"PyPI\". PyPI. 17 March 2024. Archived from the original on 17 March 2024.\n",
    " Enthought, Canopy. \"Canopy\". www.enthought.com. Archived from the original on 15 July 2017. Retrieved 20 August 2016.\n",
    " \"PEP 7 – Style Guide for C Code | peps.python.org\". peps.python.org. Archived from the original on 24 April 2022. Retrieved 28 April 2022.\n",
    " \"4. Building C and C++ Extensions – Python 3.9.2 documentation\". docs.python.org. Archived from the original on 3 March 2021. Retrieved 1 March 2021.\n",
    " van Rossum, Guido (5 June 2001). \"PEP 7 – Style Guide for C Code\". Python Enhancement Proposals. Python Software Foundation. Archived from the original on 1 June 2020. Retrieved 24 November 2008.\n",
    " \"CPython byte code\". Docs.python.org. Archived from the original on 5 June 2020. Retrieved 16 February 2016.\n",
    " \"Python 2.5 internals\" (PDF). Archived (PDF) from the original on 6 August 2012. Retrieved 19 April 2011.\n",
    " \"Changelog – Python 3.9.0 documentation\". docs.python.org. Archived from the original on 7 February 2021. Retrieved 8 February 2021.\n",
    " \"Download Python\". Python.org. Archived from the original on 8 December 2020. Retrieved 13 December 2020.\n",
    " \"history [vmspython]\". www.vmspython.org. Archived from the original on 2 December 2020. Retrieved 4 December 2020.\n",
    " \"An Interview with Guido van Rossum\". Oreilly.com. Archived from the original on 16 July 2014. Retrieved 24 November 2008.\n",
    " \"Download Python for Other Platforms\". Python.org. Archived from the original on 27 November 2020. Retrieved 4 December 2020.\n",
    " \"PyPy compatibility\". Pypy.org. Archived from the original on 6 June 2020. Retrieved 3 December 2012.\n",
    " Team, The PyPy (28 December 2019). \"Download and Install\". PyPy. Archived from the original on 8 January 2022. Retrieved 8 January 2022.\n",
    " \"speed comparison between CPython and Pypy\". Speed.pypy.org. Archived from the original on 10 May 2021. Retrieved 3 December 2012.\n",
    " \"Codon: Differences with Python\". Archived from the original on 25 May 2023. Retrieved 28 August 2023.\n",
    " Lawson, Loraine (14 March 2023). \"MIT-Created Compiler Speeds up Python Code\". The New Stack. Archived from the original on 6 April 2023. Retrieved 28 August 2023.\n",
    " \"Application-level Stackless features – PyPy 2.0.2 documentation\". Doc.pypy.org. Archived from the original on 4 June 2020. Retrieved 17 July 2013.\n",
    " \"Python-for-EV3\". LEGO Education. Archived from the original on 7 June 2020. Retrieved 17 April 2019.\n",
    " Yegulalp, Serdar (29 October 2020). \"Pyston returns from the dead to speed Python\". InfoWorld. Archived from the original on 27 January 2021. Retrieved 26 January 2021.\n",
    " \"cinder: Instagram's performance-oriented fork of CPython\". GitHub. Archived from the original on 4 May 2021. Retrieved 4 May 2021.\n",
    " Aroca, Rafael (7 August 2021). \"Snek Lang: feels like Python on Arduinos\". Yet Another Technology Blog. Archived from the original on 5 January 2024. Retrieved 4 January 2024.\n",
    " Aufranc (CNXSoft), Jean-Luc (16 January 2020). \"Snekboard Controls LEGO Power Functions with CircuitPython or Snek Programming Languages (Crowdfunding) – CNX Software\". CNX Software – Embedded Systems News. Archived from the original on 5 January 2024. Retrieved 4 January 2024.\n",
    " Kennedy (@mkennedy), Michael. \"Ready to find out if you're git famous?\". pythonbytes.fm. Archived from the original on 5 January 2024. Retrieved 4 January 2024.\n",
    " Packard, Keith (20 December 2022). \"The Snek Programming Language: A Python-inspired Embedded Computing Language\" (PDF). Archived (PDF) from the original on 4 January 2024. Retrieved 4 January 2024.\n",
    " \"Plans for optimizing Python\". Google Project Hosting. 15 December 2009. Archived from the original on 11 April 2016. Retrieved 24 September 2011.\n",
    " \"Python on the Nokia N900\". Stochastic Geometry. 29 April 2010. Archived from the original on 20 June 2019. Retrieved 9 July 2015.\n",
    " \"Brython\". brython.info. Archived from the original on 3 August 2018. Retrieved 21 January 2021.\n",
    " \"Transcrypt – Python in the browser\". transcrypt.org. Archived from the original on 19 August 2018. Retrieved 22 December 2020.\n",
    " \"Transcrypt: Anatomy of a Python to JavaScript Compiler\". InfoQ. Archived from the original on 5 December 2020. Retrieved 20 January 2021.\n",
    " \"Nuitka Home | Nuitka Home\". nuitka.net. Archived from the original on 30 May 2020. Retrieved 18 August 2017.\n",
    " Guelton, Serge; Brunet, Pierrick; Amini, Mehdi; Merlini, Adrien; Corbillon, Xavier; Raynaud, Alan (16 March 2015). \"Pythran: enabling static optimization of scientific Python programs\". Computational Science & Discovery. 8 (1). IOP Publishing: 014001. Bibcode:2015CS&D....8a4001G. doi:10.1088/1749-4680/8/1/014001. ISSN 1749-4699.\n",
    " \"The Python → 11l → C++ transpiler\". Archived from the original on 24 September 2022. Retrieved 17 July 2022.\n",
    " \"google/grumpy\". 10 April 2020. Archived from the original on 15 April 2020. Retrieved 25 March 2020 – via GitHub.\n",
    " \"Projects\". opensource.google. Archived from the original on 24 April 2020. Retrieved 25 March 2020.\n",
    " Francisco, Thomas Claburn in San. \"Google's Grumpy code makes Python Go\". www.theregister.com. Archived from the original on 7 March 2021. Retrieved 20 January 2021.\n",
    " \"GitHub – IronLanguages/ironpython3: Implementation of Python 3.x for .NET Framework that is built on top of the Dynamic Language Runtime\". GitHub. Archived from the original on 28 September 2021.\n",
    " \"IronPython.net /\". ironpython.net. Archived from the original on 17 April 2021.\n",
    " \"Jython FAQ\". www.jython.org. Archived from the original on 22 April 2021. Retrieved 22 April 2021.\n",
    " Murri, Riccardo (2013). Performance of Python runtimes on a non-numeric scientific code. European Conference on Python in Science (EuroSciPy). arXiv:1404.6388. Bibcode:2014arXiv1404.6388M.\n",
    " \"The Computer Language Benchmarks Game\". Archived from the original on 14 June 2020. Retrieved 30 April 2020.\n",
    " Warsaw, Barry; Hylton, Jeremy; Goodger, David (13 June 2000). \"PEP 1 – PEP Purpose and Guidelines\". Python Enhancement Proposals. Python Software Foundation. Archived from the original on 6 June 2020. Retrieved 19 April 2011.\n",
    " \"PEP 8 – Style Guide for Python Code\". Python.org. Archived from the original on 17 April 2019. Retrieved 26 March 2019.\n",
    " Cannon, Brett. \"Guido, Some Guys, and a Mailing List: How Python is Developed\". python.org. Python Software Foundation. Archived from the original on 1 June 2009. Retrieved 27 June 2009.\n",
    " \"Moving Python's bugs to GitHub [LWN.net]\". Archived from the original on 2 October 2022. Retrieved 2 October 2022.\n",
    " \"Python Developer's Guide – Python Developer's Guide\". devguide.python.org. Archived from the original on 9 November 2020. Retrieved 17 December 2019.\n",
    " Hughes, Owen (24 May 2021). \"Programming languages: Why Python 4.0 might never arrive, according to its creator\". TechRepublic. Archived from the original on 14 July 2022. Retrieved 16 May 2022.\n",
    " \"PEP 602 – Annual Release Cycle for Python\". Python.org. Archived from the original on 14 June 2020. Retrieved 6 November 2019.\n",
    " \"Changing the Python release cadence [LWN.net]\". lwn.net. Archived from the original on 6 November 2019. Retrieved 6 November 2019.\n",
    " Norwitz, Neal (8 April 2002). \"[Python-Dev] Release Schedules (was Stability & change)\". Archived from the original on 15 December 2018. Retrieved 27 June 2009.\n",
    " Aahz; Baxter, Anthony (15 March 2001). \"PEP 6 – Bug Fix Releases\". Python Enhancement Proposals. Python Software Foundation. Archived from the original on 5 June 2020. Retrieved 27 June 2009.\n",
    " \"Python Buildbot\". Python Developer's Guide. Python Software Foundation. Archived from the original on 5 June 2020. Retrieved 24 September 2011.\n",
    " \"1. Extending Python with C or C++ – Python 3.9.1 documentation\". docs.python.org. Archived from the original on 23 June 2020. Retrieved 14 February 2021.\n",
    " \"PEP 623 – Remove wstr from Unicode\". Python.org. Archived from the original on 5 March 2021. Retrieved 14 February 2021.\n",
    " \"PEP 634 – Structural Pattern Matching: Specification\". Python.org. Archived from the original on 6 May 2021. Retrieved 14 February 2021.\n",
    " \"Documentation Tools\". Python.org. Archived from the original on 11 November 2020. Retrieved 22 March 2021.\n",
    " \"Whetting Your Appetite\". The Python Tutorial. Python Software Foundation. Archived from the original on 26 October 2012. Retrieved 20 February 2012.\n",
    " \"In Python, should I use else after a return in an if block?\". Stack Overflow. Stack Exchange. 17 February 2011. Archived from the original on 20 June 2019. Retrieved 6 May 2011.\n",
    " Lutz, Mark (2009). Learning Python: Powerful Object-Oriented Programming. O'Reilly Media, Inc. p. 17. ISBN 9781449379322. Archived from the original on 17 July 2017. Retrieved 9 May 2017.\n",
    " Fehily, Chris (2002). Python. Peachpit Press. p. xv. ISBN 9780201748840. Archived from the original on 17 July 2017. Retrieved 9 May 2017.\n",
    " Lubanovic, Bill (2014). Introducing Python. Sebastopol, CA : O'Reilly Media. p. 305. ISBN 978-1-4493-5936-2. Retrieved 31 July 2023.\n",
    " Blake, Troy (18 January 2021). \"TIOBE Index for January 2021\". Technology News and Information by SeniorDBA. Archived from the original on 21 March 2021. Retrieved 26 February 2021.\n",
    " \"Quotes about Python\". Python Software Foundation. Archived from the original on 3 June 2020. Retrieved 8 January 2012.\n",
    " \"Organizations Using Python\". Python Software Foundation. Archived from the original on 21 August 2018. Retrieved 15 January 2009.\n",
    " \"Python : the holy grail of programming\". CERN Bulletin (31/2006). CERN Publications. 31 July 2006. Archived from the original on 15 January 2013. Retrieved 11 February 2012.\n",
    " Shafer, Daniel G. (17 January 2003). \"Python Streamlines Space Shuttle Mission Design\". Python Software Foundation. Archived from the original on 5 June 2020. Retrieved 24 November 2008.\n",
    " \"Tornado: Facebook's Real-Time Web Framework for Python – Facebook for Developers\". Facebook for Developers. Archived from the original on 19 February 2019. Retrieved 19 June 2018.\n",
    " \"What Powers Instagram: Hundreds of Instances, Dozens of Technologies\". Instagram Engineering. 11 December 2016. Archived from the original on 15 June 2020. Retrieved 27 May 2019.\n",
    " \"How we use Python at Spotify\". Spotify Labs. 20 March 2013. Archived from the original on 10 June 2020. Retrieved 25 July 2018.\n",
    " Fortenberry, Tim (17 January 2003). \"Industrial Light & Magic Runs on Python\". Python Software Foundation. Archived from the original on 6 June 2020. Retrieved 11 February 2012.\n",
    " Taft, Darryl K. (5 March 2007). \"Python Slithers into Systems\". eWeek.com. Ziff Davis Holdings. Archived from the original on 13 August 2021. Retrieved 24 September 2011.\n",
    " GitHub – reddit-archive/reddit: historical code from reddit.com., The Reddit Archives, archived from the original on 1 June 2020, retrieved 20 March 2019\n",
    " \"Real time communication at scale with Elixir at Discord\". 8 October 2020.\n",
    " \"What Programming Language is Baidu Built In?\". 5 July 2018.\n",
    " \"Usage statistics and market share of Python for websites\". 2012. Archived from the original on 13 August 2021. Retrieved 18 December 2012.\n",
    " Oliphant, Travis (2007). \"Python for Scientific Computing\". Computing in Science and Engineering. 9 (3): 10–20. Bibcode:2007CSE.....9c..10O. CiteSeerX 10.1.1.474.6460. doi:10.1109/MCSE.2007.58. ISSN 1521-9615. S2CID 206457124. Archived from the original on 15 June 2020. Retrieved 10 April 2015.\n",
    " Millman, K. Jarrod; Aivazis, Michael (2011). \"Python for Scientists and Engineers\". Computing in Science and Engineering. 13 (2): 9–12. Bibcode:2011CSE....13b...9M. doi:10.1109/MCSE.2011.36. Archived from the original on 19 February 2019. Retrieved 7 July 2014.\n",
    " Science education with SageMath, Innovative Computing in Science Education, archived from the original on 15 June 2020, retrieved 22 April 2019\n",
    " \"OpenCV: OpenCV-Python Tutorials\". docs.opencv.org. Archived from the original on 23 September 2020. Retrieved 14 September 2020.\n",
    " Dean, Jeff; Monga, Rajat; et al. (9 November 2015). \"TensorFlow: Large-scale machine learning on heterogeneous systems\" (PDF). TensorFlow.org. Google Research. Archived (PDF) from the original on 20 November 2015. Retrieved 10 November 2015.\n",
    " Piatetsky, Gregory. \"Python eats away at R: Top Software for Analytics, Data Science, Machine Learning in 2018: Trends and Analysis\". KDnuggets. Archived from the original on 15 November 2019. Retrieved 30 May 2018.\n",
    " \"Who is using scikit-learn? – scikit-learn 0.20.1 documentation\". scikit-learn.org. Archived from the original on 6 May 2020. Retrieved 30 November 2018.\n",
    " Jouppi, Norm. \"Google supercharges machine learning tasks with TPU custom chip\". Google Cloud Platform Blog. Archived from the original on 18 May 2016. Retrieved 19 May 2016.\n",
    " De Raedt, Luc; Kimmig, Angelika (2015). \"Probabilistic (logic) programming concepts\". Machine Learning. 100 (1): 5–47. doi:10.1007/s10994-015-5494-z. S2CID 3166992.\n",
    " \"Natural Language Toolkit – NLTK 3.5b1 documentation\". www.nltk.org. Archived from the original on 13 June 2020. Retrieved 10 April 2020.\n",
    " Andersen, C. and Swift, T., 2023. The Janus System: a bridge to new prolog applications. In Prolog: The Next 50 Years (pp. 93–104). Cham: Springer Nature Switzerland.\n",
    " \"SWI-Prolog Python interface\". Archived from the original on 15 March 2024. Retrieved 15 March 2024.\n",
    " Tarau, P., 2023. Reflections on automation, learnability and expressiveness in logic-based programming languages. In Prolog: The Next 50 Years (pp. 359–371). Cham: Springer Nature Switzerland.\n",
    " \"Tkinter — Python interface to TCL/Tk\". Archived from the original on 18 October 2012. Retrieved 9 June 2023.\n",
    " \"Python Tkinter Tutorial\". 3 June 2020. Archived from the original on 9 June 2023. Retrieved 9 June 2023.\n",
    " \"Installers for GIMP for Windows – Frequently Asked Questions\". 26 July 2013. Archived from the original on 17 July 2013. Retrieved 26 July 2013.\n",
    " \"jasc psp9components\". Archived from the original on 19 March 2008.\n",
    " \"About getting started with writing geoprocessing scripts\". ArcGIS Desktop Help 9.2. Environmental Systems Research Institute. 17 November 2006. Archived from the original on 5 June 2020. Retrieved 11 February 2012.\n",
    " CCP porkbelly (24 August 2010). \"Stackless Python 2.7\". EVE Community Dev Blogs. CCP Games. Archived from the original on 11 January 2014. Retrieved 11 January 2014. As you may know, EVE has at its core the programming language known as Stackless Python.\n",
    " Caudill, Barry (20 September 2005). \"Modding Sid Meier's Civilization IV\". Sid Meier's Civilization IV Developer Blog. Firaxis Games. Archived from the original on 2 December 2010. we created three levels of tools ... The next level offers Python and XML support, letting modders with more experience manipulate the game world and everything in it.\n",
    " \"Python Language Guide (v1.0)\". Google Documents List Data API v1.0. Archived from the original on 15 July 2010.\n",
    " \"Python Setup and Usage\". Python Software Foundation. Archived from the original on 17 June 2020. Retrieved 10 January 2020.\n",
    " \"Immunity: Knowing You're Secure\". Archived from the original on 16 February 2009.\n",
    " \"Core Security\". Core Security. Archived from the original on 9 June 2020. Retrieved 10 April 2020.\n",
    " \"What is Sugar?\". Sugar Labs. Archived from the original on 9 January 2009. Retrieved 11 February 2012.\n",
    " \"4.0 New Features and Fixes\". LibreOffice.org. The Document Foundation. 2013. Archived from the original on 9 February 2014. Retrieved 25 February 2013.\n",
    " \"Gotchas for Python Users\". boo.codehaus.org. Codehaus Foundation. Archived from the original on 11 December 2008. Retrieved 24 November 2008.\n",
    " Esterbrook, Charles. \"Acknowledgements\". cobra-language.com. Cobra Language. Archived from the original on 8 February 2008. Retrieved 7 April 2010.\n",
    " \"Proposals: iterators and generators [ES4 Wiki]\". wiki.ecmascript.org. Archived from the original on 20 October 2007. Retrieved 24 November 2008.\n",
    " \"Frequently asked questions\". Godot Engine documentation. Archived from the original on 28 April 2021. Retrieved 10 May 2021.\n",
    " Kincaid, Jason (10 November 2009). \"Google's Go: A New Programming Language That's Python Meets C++\". TechCrunch. Archived from the original on 18 January 2010. Retrieved 29 January 2010.\n",
    " Strachan, James (29 August 2003). \"Groovy – the birth of a new dynamic language for the Java platform\". Archived from the original on 5 April 2007. Retrieved 11 June 2007.\n",
    " \"Modular Docs – Why Mojo\". docs.modular.com. Archived from the original on 5 May 2023. Retrieved 5 May 2023. Mojo as a member of the Python family [..] Embracing Python massively simplifies our design efforts, because most of the syntax is already specified. [..] we decided that the right long-term goal for Mojo is to provide a superset of Python (i.e. be compatible with existing programs) and to embrace the CPython immediately for long-tail ecosystem enablement. To a Python programmer, we expect and hope that Mojo will be immediately familiar, while also providing new tools for developing systems-level code that enable you to do things that Python falls back to C and C++ for.\n",
    " Spencer, Michael (4 May 2023). \"What is Mojo Programming Language?\". datasciencelearningcenter.substack.com. Archived from the original on 5 May 2023. Retrieved 5 May 2023.\n",
    " Yegulalp, Serdar (16 January 2017). \"Nim language draws from best of Python, Rust, Go, and Lisp\". InfoWorld. Archived from the original on 13 October 2018. Retrieved 7 June 2020. Nim's syntax is strongly reminiscent of Python's, as it uses indented code blocks and some of the same syntax (such as the way if/elif/then/else blocks are constructed).\n",
    " \"An Interview with the Creator of Ruby\". Linuxdevcenter.com. Archived from the original on 28 April 2018. Retrieved 3 December 2012.\n",
    " Lattner, Chris (3 June 2014). \"Chris Lattner's Homepage\". Chris Lattner. Archived from the original on 22 December 2015. Retrieved 3 June 2014. I started work on the Swift Programming Language in July of 2010. I implemented much of the basic language structure, with only a few people knowing of its existence. A few other (amazing) people started contributing in earnest late in 2011, and it became a major focus for the Apple Developer Tools group in July 2013 [...] drawing ideas from Objective-C, Rust, Haskell, Ruby, Python, C#, CLU, and far too many others to list.\n",
    " Jalan, Nishant Aanjaney (10 November 2022). \"Programming in Kotlin\". CodeX. Retrieved 29 April 2024.\n",
    " Kupries, Andreas; Fellows, Donal K. (14 September 2000). \"TIP #3: TIP Format\". tcl.tk. Tcl Developer Xchange. Archived from the original on 13 July 2017. Retrieved 24 November 2008.\n",
    " Gustafsson, Per; Niskanen, Raimo (29 January 2007). \"EEP 1: EEP Purpose and Guidelines\". erlang.org. Archived from the original on 15 June 2020. Retrieved 19 April 2011.\n",
    " \"Swift Evolution Process\". Swift Programming Language Evolution repository on GitHub. 18 February 2020. Archived from the original on 27 April 2020. Retrieved 27 April 2020.\n",
    "Sources\n",
    "\"Python for Artificial Intelligence\". Python Wiki. 19 July 2012. Archived from the original on 1 November 2012. Retrieved 3 December 2012.\n",
    "Paine, Jocelyn, ed. (August 2005). \"AI in Python\". AI Expert Newsletter. Amzi!. Archived from the original on 26 March 2012. Retrieved 11 February 2012.\n",
    "\"PyAIML 0.8.5 : Python Package Index\". Pypi.python.org. Retrieved 17 July 2013.\n",
    "Russell, Stuart J. & Norvig, Peter (2009). Artificial Intelligence: A Modern Approach (3rd ed.). Upper Saddle River, NJ: Prentice Hall. ISBN 978-0-13-604259-4.\n",
    "Further reading\n",
    "Downey, Allen B. (May 2012). Think Python: How to Think Like a Computer Scientist (version 1.6.6 ed.). Cambridge University Press. ISBN 978-0-521-72596-5.\n",
    "Hamilton, Naomi (5 August 2008). \"The A-Z of Programming Languages: Python\". Computerworld. Archived from the original on 29 December 2008. Retrieved 31 March 2010.\n",
    "Lutz, Mark (2013). Learning Python (5th ed.). O'Reilly Media. ISBN 978-0-596-15806-4.\n",
    "Summerfield, Mark (2009). Programming in Python 3 (2nd ed.). Addison-Wesley Professional. ISBN 978-0-321-68056-3.\n",
    "Ramalho, Luciano (May 2022). Fluent Python. O'Reilly Media. ISBN 978-1-4920-5632-4.\n",
    "External links\n",
    "Python\n",
    "at Wikipedia's sister projects\n",
    "Media from Commons\n",
    "Quotations from Wikiquote\n",
    "Textbooks from Wikibooks\n",
    "Resources from Wikiversity\n",
    "Data from Wikidata\n",
    "Official website Edit this at Wikidata\n",
    "vte\n",
    "Python\n",
    "Implementations\t\n",
    "CircuitPythonCLPythonCPythonCythonMicroPythonNumbaIronPythonJythonPsycoPyPyPython for S60Shed SkinStackless PythonUnladen Swallowmore...\n",
    "\n",
    "IDEs\t\n",
    "ericIDLENinja-IDEPyCharmPyDevSpydermore...\n",
    "Topics\t\n",
    "WSGIASGI\n",
    "Designer\t\n",
    "Guido van Rossum\n",
    "Software (list)Python Software FoundationPython Conference (PyCon)\n",
    "vte\n",
    "Programming languages\n",
    "ComparisonTimelineHistory\n",
    "AdaALGOL SimulaAPLAssemblyBASIC Visual Basic classic.NETCC++C#COBOLErlangForthFortranGoHaskellJavaJavaScriptJuliaKotlinLispLuaMATLABMLPascal Object PascalPerlPHPPrologPythonRRubyRustSQLScratchShellSmalltalkSwiftmore...\n",
    " Lists: AlphabeticalCategoricalGenerationalNon-English-based Category\n",
    "vte\n",
    "Python web frameworks\n",
    "vte\n",
    "Differentiable computing\n",
    "vte\n",
    "Free and open-source software\n",
    "vte\n",
    "Statistical software\n",
    "vte\n",
    "Numerical-analysis software\n",
    "Authority control databases Edit this at Wikidata\n",
    "Categories: Python (programming language)Class-based programming languagesNotebook interfaceComputer science in the NetherlandsConcurrent programming languagesCross-platform free softwareCross-platform softwareDutch inventionsDynamically typed programming languagesEducational programming languagesHigh-level programming languagesInformation technology in the NetherlandsMulti-paradigm programming languagesObject-oriented programming languagesPattern matching programming languagesProgramming languagesProgramming languages created in 1991Scripting languagesText-oriented programming languages\n",
    "This page was last edited on 12 October 2024, at 16:17 (UTC).\n",
    "Text is available under the Creative Commons Attribution-ShareAlike 4.0 License; additional terms may apply. By using this site, you agree to the Terms of Use and Privacy Policy. Wikipedia® is a registered trademark of the Wikimedia Foundation, Inc., a non-profit organization.\n",
    "Privacy policyAbout WikipediaDisclaimersContact WikipediaCode of ConductDevelopersStatisticsCookie statementMobile view\n",
    "Wikimedia FoundationPowered by MediaWiki\n",
    "'''"
   ]
  },
  {
   "cell_type": "code",
   "execution_count": 108,
   "id": "473ab53e",
   "metadata": {},
   "outputs": [],
   "source": [
    "python_lowercase= python_wiki.count(\"python\")\n",
    "python_uppercase= python_wiki.count(\"Python\")"
   ]
  },
  {
   "cell_type": "code",
   "execution_count": 109,
   "id": "89b224dc",
   "metadata": {},
   "outputs": [
    {
     "data": {
      "text/plain": [
       "653"
      ]
     },
     "execution_count": 109,
     "metadata": {},
     "output_type": "execute_result"
    }
   ],
   "source": [
    "python_lowercase + python_uppercase"
   ]
  },
  {
   "cell_type": "markdown",
   "id": "b1e98e50",
   "metadata": {},
   "source": [
    "---"
   ]
  },
  {
   "cell_type": "markdown",
   "id": "2c523624",
   "metadata": {},
   "source": [
    "# if"
   ]
  },
  {
   "cell_type": "code",
   "execution_count": 110,
   "id": "182e0e42",
   "metadata": {},
   "outputs": [],
   "source": [
    "# if ...:\n",
    "#     print()\n",
    "# else:\n",
    "#     print()"
   ]
  },
  {
   "cell_type": "code",
   "execution_count": 111,
   "id": "d5da65fe",
   "metadata": {},
   "outputs": [
    {
     "name": "stdout",
     "output_type": "stream",
     "text": [
      "salam\n"
     ]
    }
   ],
   "source": [
    "if True:\n",
    "    print(\"salam\")"
   ]
  },
  {
   "cell_type": "code",
   "execution_count": 112,
   "id": "cb0d76f9",
   "metadata": {},
   "outputs": [],
   "source": [
    "if False:\n",
    "    print(\"salam\")"
   ]
  },
  {
   "cell_type": "code",
   "execution_count": 113,
   "id": "7f773209",
   "metadata": {},
   "outputs": [
    {
     "name": "stdout",
     "output_type": "stream",
     "text": [
      "salam\n"
     ]
    }
   ],
   "source": [
    "if 3:\n",
    "    print(\"salam\")"
   ]
  },
  {
   "cell_type": "code",
   "execution_count": 114,
   "id": "51e274df",
   "metadata": {},
   "outputs": [],
   "source": [
    "if 0:\n",
    "    print(\"salam\")"
   ]
  },
  {
   "cell_type": "code",
   "execution_count": 115,
   "id": "b4f04866",
   "metadata": {},
   "outputs": [],
   "source": [
    "if \"\":\n",
    "    print(\"salam\")"
   ]
  },
  {
   "cell_type": "code",
   "execution_count": 116,
   "id": "a6e3d2e7",
   "metadata": {},
   "outputs": [
    {
     "name": "stdout",
     "output_type": "stream",
     "text": [
      "salam\n"
     ]
    }
   ],
   "source": [
    "if \"Amir\":\n",
    "    print(\"salam\")"
   ]
  },
  {
   "cell_type": "code",
   "execution_count": 117,
   "id": "9513de1e",
   "metadata": {},
   "outputs": [],
   "source": [
    "#چک کنید آیا اسم شما بیشتر مساوری 5 حرف دارد یا نه "
   ]
  },
  {
   "cell_type": "code",
   "execution_count": 118,
   "id": "d824941d",
   "metadata": {},
   "outputs": [],
   "source": [
    "my_name= \"Ella\"\n",
    "if len(my_name)>= 5:\n",
    "    print(\"اسم من طولانی است\")"
   ]
  },
  {
   "cell_type": "code",
   "execution_count": 119,
   "id": "f45ab0fe",
   "metadata": {},
   "outputs": [
    {
     "name": "stdout",
     "output_type": "stream",
     "text": [
      "اسم من طولانی است\n"
     ]
    }
   ],
   "source": [
    "my_name= \"Elaheh\"\n",
    "if len(my_name)>= 5:\n",
    "    print(\"اسم من طولانی است\")\n",
    "else:\n",
    "    print(\"اسم من کوتاه است\")"
   ]
  },
  {
   "cell_type": "code",
   "execution_count": 120,
   "id": "a7b41021",
   "metadata": {},
   "outputs": [],
   "source": [
    "# if شرط1 :\n",
    "#     print()\n",
    "# elifشرط2 :\n",
    "#     print()\n",
    "# elifشرط3 :\n",
    "#     print()\n",
    "# else :\n",
    "#     print()"
   ]
  },
  {
   "cell_type": "code",
   "execution_count": 121,
   "id": "f78cd4a8",
   "metadata": {},
   "outputs": [],
   "source": [
    "input_name= \"Ava\""
   ]
  },
  {
   "cell_type": "code",
   "execution_count": 122,
   "id": "722e30eb",
   "metadata": {},
   "outputs": [
    {
     "name": "stdout",
     "output_type": "stream",
     "text": [
      "اسم من کوتاه است\n"
     ]
    }
   ],
   "source": [
    "if len(input_name)> 5:\n",
    "    print(\"اسم من طولانی است\")\n",
    "elif len(input_name)> 3:\n",
    "    print(\"اسم من متوسط است\")\n",
    "else:\n",
    "    print(\"اسم من کوتاه است\")"
   ]
  },
  {
   "cell_type": "code",
   "execution_count": 123,
   "id": "7dc9fc23",
   "metadata": {},
   "outputs": [],
   "source": [
    "input_name= \"Amir\""
   ]
  },
  {
   "cell_type": "code",
   "execution_count": 124,
   "id": "932a74c0",
   "metadata": {},
   "outputs": [
    {
     "name": "stdout",
     "output_type": "stream",
     "text": [
      "اسم من متوسط است\n"
     ]
    }
   ],
   "source": [
    "if len(input_name)> 5:\n",
    "    print(\"اسم من طولانی است\")\n",
    "elif len(input_name)> 3:\n",
    "    print(\"اسم من متوسط است\")\n",
    "else:\n",
    "    print(\"اسم من کوتاه است\")"
   ]
  },
  {
   "cell_type": "code",
   "execution_count": 125,
   "id": "80fb886c",
   "metadata": {},
   "outputs": [],
   "source": [
    "input_name= \"Amirali\""
   ]
  },
  {
   "cell_type": "code",
   "execution_count": 126,
   "id": "9e14c263",
   "metadata": {},
   "outputs": [
    {
     "name": "stdout",
     "output_type": "stream",
     "text": [
      "اسم من طولانی است\n"
     ]
    }
   ],
   "source": [
    "if len(input_name)> 5:\n",
    "    print(\"اسم من طولانی است\")\n",
    "elif len(input_name)> 3:\n",
    "    print(\"اسم من متوسط است\")\n",
    "else:\n",
    "    print(\"اسم من کوتاه است\")"
   ]
  },
  {
   "cell_type": "code",
   "execution_count": 127,
   "id": "8de6c187",
   "metadata": {},
   "outputs": [],
   "source": [
    "input_age= 24"
   ]
  },
  {
   "cell_type": "code",
   "execution_count": 128,
   "id": "b070dfcd",
   "metadata": {},
   "outputs": [
    {
     "name": "stdout",
     "output_type": "stream",
     "text": [
      "zoj balaye 20\n"
     ]
    }
   ],
   "source": [
    "if input_age > 20:\n",
    "    if input_age % 2 == 0:\n",
    "        print(\"zoj balaye 20\")\n",
    "    if input_age % 2 == 1:\n",
    "         print(\"fard balaye 20\")\n",
    "if input_age < 20:\n",
    "    if input_age % 2 == 0:\n",
    "        print(\"zoj kamtar az 20\")\n",
    "    if input_age % 2 == 1:\n",
    "         print(\"fard kamtar az 20\")"
   ]
  },
  {
   "cell_type": "code",
   "execution_count": 129,
   "id": "ca5cfd7a",
   "metadata": {},
   "outputs": [],
   "source": [
    "input_age= 21"
   ]
  },
  {
   "cell_type": "code",
   "execution_count": 130,
   "id": "f17d8fb8",
   "metadata": {},
   "outputs": [
    {
     "name": "stdout",
     "output_type": "stream",
     "text": [
      "fard balaye 20\n"
     ]
    }
   ],
   "source": [
    "if input_age > 20:\n",
    "    if input_age % 2 == 0:\n",
    "        print(\"zoj balaye 20\")\n",
    "    if input_age % 2 == 1:\n",
    "         print(\"fard balaye 20\")\n",
    "if input_age < 20:\n",
    "    if input_age % 2 == 0:\n",
    "        print(\"zoj kamtar az 20\")\n",
    "    if input_age % 2 == 1:\n",
    "         print(\"fard kamtar az 20\")"
   ]
  },
  {
   "cell_type": "code",
   "execution_count": 131,
   "id": "4557e1da",
   "metadata": {},
   "outputs": [],
   "source": [
    "input_age= 18"
   ]
  },
  {
   "cell_type": "code",
   "execution_count": 132,
   "id": "b542b005",
   "metadata": {},
   "outputs": [
    {
     "name": "stdout",
     "output_type": "stream",
     "text": [
      "zoj kamtar az 20\n"
     ]
    }
   ],
   "source": [
    "if input_age > 20:\n",
    "    if input_age % 2 == 0:\n",
    "        print(\"zoj balaye 20\")\n",
    "    if input_age % 2 == 1:\n",
    "         print(\"fard balaye 20\")\n",
    "if input_age < 20:\n",
    "    if input_age % 2 == 0:\n",
    "        print(\"zoj kamtar az 20\")\n",
    "    if input_age % 2 == 1:\n",
    "         print(\"fard kamtar az 20\")"
   ]
  },
  {
   "cell_type": "code",
   "execution_count": 133,
   "id": "2262ff65",
   "metadata": {},
   "outputs": [],
   "source": [
    "input_age= 17"
   ]
  },
  {
   "cell_type": "code",
   "execution_count": 134,
   "id": "bfa82c4c",
   "metadata": {},
   "outputs": [
    {
     "name": "stdout",
     "output_type": "stream",
     "text": [
      "fard kamtar az 20\n"
     ]
    }
   ],
   "source": [
    "if input_age > 20:\n",
    "    if input_age % 2 == 0:\n",
    "        print(\"zoj balaye 20\")\n",
    "    if input_age % 2 == 1:\n",
    "         print(\"fard balaye 20\")\n",
    "if input_age < 20:\n",
    "    if input_age % 2 == 0:\n",
    "        print(\"zoj kamtar az 20\")\n",
    "    if input_age % 2 == 1:\n",
    "         print(\"fard kamtar az 20\")"
   ]
  },
  {
   "cell_type": "code",
   "execution_count": 135,
   "id": "ee950002",
   "metadata": {},
   "outputs": [],
   "source": [
    "input_age= 27"
   ]
  },
  {
   "cell_type": "code",
   "execution_count": 136,
   "id": "401a44d4",
   "metadata": {},
   "outputs": [
    {
     "name": "stdout",
     "output_type": "stream",
     "text": [
      "fard balaye 20\n"
     ]
    }
   ],
   "source": [
    "if input_age > 20:\n",
    "    if not input_age % 2:\n",
    "        print(\"zoj balaye 20\")\n",
    "    else:\n",
    "         print(\"fard balaye 20\")\n",
    "else:\n",
    "    if not input_age % 2:\n",
    "        print(\"zoj kamtar az 20\")\n",
    "    else:\n",
    "         print(\"fard kamtar az 20\")"
   ]
  },
  {
   "cell_type": "code",
   "execution_count": 137,
   "id": "bd4fe994",
   "metadata": {},
   "outputs": [],
   "source": [
    "input_age= 18"
   ]
  },
  {
   "cell_type": "code",
   "execution_count": 138,
   "id": "2b77bd19",
   "metadata": {},
   "outputs": [
    {
     "name": "stdout",
     "output_type": "stream",
     "text": [
      "zoj kamtar az 20\n"
     ]
    }
   ],
   "source": [
    "if input_age > 20:\n",
    "    if input_age % 2:\n",
    "        print(\"fard balaye 20\")\n",
    "    else:\n",
    "         print(\"zoj balaye 20\")\n",
    "else:\n",
    "    if input_age % 2:\n",
    "        print(\"fard kamtar az 20\")\n",
    "    else:\n",
    "         print(\"zoj kamtar az 20\")"
   ]
  },
  {
   "cell_type": "markdown",
   "id": "39d8a1db",
   "metadata": {},
   "source": [
    "---"
   ]
  },
  {
   "cell_type": "markdown",
   "id": "7c059307",
   "metadata": {},
   "source": [
    "حلقه"
   ]
  },
  {
   "cell_type": "markdown",
   "id": "35e66ed4",
   "metadata": {},
   "source": [
    "## while loop"
   ]
  },
  {
   "cell_type": "code",
   "execution_count": 139,
   "id": "b21a2fef",
   "metadata": {},
   "outputs": [
    {
     "name": "stdout",
     "output_type": "stream",
     "text": [
      "8\n",
      "7\n",
      "6\n",
      "5\n",
      "4\n",
      "3\n",
      "2\n",
      "1\n"
     ]
    }
   ],
   "source": [
    "temp_int= 8\n",
    "while temp_int >0:\n",
    "    print(temp_int)\n",
    "    temp_int -= 1     # temp_int= temp_int - 1"
   ]
  },
  {
   "cell_type": "markdown",
   "id": "44633c43",
   "metadata": {},
   "source": [
    "### Q. fibonacci < 100"
   ]
  },
  {
   "cell_type": "code",
   "execution_count": 140,
   "id": "e28bef66",
   "metadata": {},
   "outputs": [
    {
     "name": "stdout",
     "output_type": "stream",
     "text": [
      "1  \n",
      "2  \n",
      "3  \n",
      "5  \n",
      "8  \n",
      "13  \n",
      "21  \n",
      "34  \n",
      "55  \n",
      "89  \n",
      "\n"
     ]
    }
   ],
   "source": [
    "num1 = 0\n",
    "num2 = 1\n",
    "next_number = num2  \n",
    "\n",
    "while next_number < 100:\n",
    "    print(next_number, \" \")\n",
    "    num1, num2 = num2, next_number\n",
    "    next_number = num1 + num2\n",
    "print()"
   ]
  },
  {
   "cell_type": "code",
   "execution_count": 141,
   "id": "9ee8ed90",
   "metadata": {},
   "outputs": [],
   "source": [
    "def fib(n):\n",
    "     if n in {0, 1}:  \n",
    "        return n\n",
    "     return fib(n - 1) + fib(n - 2) "
   ]
  },
  {
   "cell_type": "markdown",
   "id": "0c6567e0",
   "metadata": {},
   "source": [
    "---"
   ]
  },
  {
   "cell_type": "code",
   "execution_count": 142,
   "id": "0a87fd43",
   "metadata": {},
   "outputs": [
    {
     "name": "stdout",
     "output_type": "stream",
     "text": [
      "6\n",
      "5\n",
      "4\n",
      "3\n"
     ]
    }
   ],
   "source": [
    "temp_int= 6\n",
    "while temp_int > 0:\n",
    "    print(temp_int)\n",
    "    temp_int -=1 \n",
    "    if temp_int <3:\n",
    "        break "
   ]
  },
  {
   "cell_type": "markdown",
   "id": "53bd8c87",
   "metadata": {},
   "source": [
    "### Q. check p is prime or not"
   ]
  },
  {
   "cell_type": "code",
   "execution_count": 143,
   "id": "072ac254",
   "metadata": {},
   "outputs": [
    {
     "name": "stdout",
     "output_type": "stream",
     "text": [
      "is prime\n"
     ]
    }
   ],
   "source": [
    "p = 19\n",
    "temp_p = p-1\n",
    "mark = False\n",
    "while temp_p >= 2: \n",
    "    if p % temp_p == 0:\n",
    "        mark = True\n",
    "        break\n",
    "    temp_p -= 1\n",
    "if mark:\n",
    "    print(\"is not prime\")\n",
    "else:\n",
    "    print(\"is prime\")"
   ]
  },
  {
   "cell_type": "code",
   "execution_count": 144,
   "id": "34653e89",
   "metadata": {},
   "outputs": [
    {
     "name": "stdout",
     "output_type": "stream",
     "text": [
      "is not prime\n"
     ]
    }
   ],
   "source": [
    "p = 16\n",
    "temp_p = 2\n",
    "mark = True\n",
    "while temp_p < p: \n",
    "    if p % temp_p == 0:\n",
    "        mark = False\n",
    "        break\n",
    "    temp_p += 1\n",
    "if mark:\n",
    "    print(\"is prime\")\n",
    "else:\n",
    "    print(\"is not prime\")"
   ]
  },
  {
   "cell_type": "markdown",
   "id": "a7ab0c2a",
   "metadata": {},
   "source": [
    "---"
   ]
  },
  {
   "cell_type": "markdown",
   "id": "4304cd6b",
   "metadata": {},
   "source": [
    "# For loop"
   ]
  },
  {
   "cell_type": "code",
   "execution_count": 145,
   "id": "32a7834f",
   "metadata": {},
   "outputs": [],
   "source": [
    "# while True:    #hamishe anjam mishe in tike ta vaghti ke \"break\" biad \n",
    "#    if ... :\n",
    "#        break  #in tike ghate mishe dige"
   ]
  },
  {
   "cell_type": "code",
   "execution_count": 146,
   "id": "1c24c24f",
   "metadata": {},
   "outputs": [
    {
     "name": "stdout",
     "output_type": "stream",
     "text": [
      "0\n",
      "1\n",
      "2\n",
      "3\n",
      "4\n",
      "5\n",
      "6\n",
      "7\n",
      "8\n",
      "9\n"
     ]
    }
   ],
   "source": [
    "for i in range(10):\n",
    "    print(i)"
   ]
  },
  {
   "cell_type": "code",
   "execution_count": 147,
   "id": "4062a821",
   "metadata": {},
   "outputs": [
    {
     "name": "stdout",
     "output_type": "stream",
     "text": [
      "10\n"
     ]
    }
   ],
   "source": [
    "sum = 0\n",
    "for i in range(5):  #range(5) yani: 0, 1, 2, 3, 4\n",
    "    sum += i\n",
    "print(sum)"
   ]
  },
  {
   "cell_type": "code",
   "execution_count": 148,
   "id": "2f37017c",
   "metadata": {},
   "outputs": [
    {
     "name": "stdout",
     "output_type": "stream",
     "text": [
      "i=0,sum=0\n",
      "i=1,sum=1\n",
      "i=2,sum=3\n",
      "i=3,sum=6\n",
      "i=4,sum=10\n",
      "END\n"
     ]
    }
   ],
   "source": [
    "sum = 0\n",
    "for i in range(5):\n",
    "    sum += i\n",
    "    print(\"i=\"+str(i)+\",sum=\"+str(sum))\n",
    "print(\"END\")"
   ]
  },
  {
   "cell_type": "code",
   "execution_count": 149,
   "id": "31234c68",
   "metadata": {},
   "outputs": [
    {
     "name": "stdout",
     "output_type": "stream",
     "text": [
      "24\n"
     ]
    }
   ],
   "source": [
    "n = 4\n",
    "fact = 1\n",
    "for i in range(n):\n",
    "    fact = fact * (i+1)\n",
    "print(fact)"
   ]
  },
  {
   "cell_type": "code",
   "execution_count": 150,
   "id": "27d01a4f",
   "metadata": {},
   "outputs": [
    {
     "name": "stdout",
     "output_type": "stream",
     "text": [
      "2\n",
      "3\n",
      "4\n",
      "5\n",
      "6\n"
     ]
    }
   ],
   "source": [
    "for i in range(2,7):\n",
    "    print(i)"
   ]
  },
  {
   "cell_type": "code",
   "execution_count": 151,
   "id": "52f2dc37",
   "metadata": {},
   "outputs": [
    {
     "name": "stdout",
     "output_type": "stream",
     "text": [
      "2\n",
      "4\n",
      "6\n",
      "8\n"
     ]
    }
   ],
   "source": [
    "for i in range(2,9,2):  #az 2 ta 9 , 2 ta 2 ta bro\n",
    "    print(i)"
   ]
  },
  {
   "cell_type": "code",
   "execution_count": 152,
   "id": "5e98f067",
   "metadata": {},
   "outputs": [
    {
     "name": "stdout",
     "output_type": "stream",
     "text": [
      "9\n",
      "8\n",
      "7\n",
      "6\n",
      "5\n",
      "4\n",
      "3\n"
     ]
    }
   ],
   "source": [
    "for i in range(9,2,-1):  #az 9 ta 2 , -1 ta bro\n",
    "    print(i)"
   ]
  },
  {
   "cell_type": "markdown",
   "id": "92bd119b",
   "metadata": {},
   "source": [
    "## Q. hop"
   ]
  },
  {
   "cell_type": "code",
   "execution_count": 153,
   "id": "3eb57441",
   "metadata": {},
   "outputs": [
    {
     "name": "stdout",
     "output_type": "stream",
     "text": [
      "1\n",
      "2\n",
      "Hop!\n",
      "4\n",
      "5\n",
      "Hop!\n",
      "7\n",
      "8\n",
      "Hop!\n",
      "10\n",
      "11\n",
      "Hop!\n",
      "13\n",
      "14\n",
      "Hop!\n",
      "16\n",
      "17\n",
      "Hop!\n",
      "19\n",
      "20\n",
      "Hop!\n",
      "22\n",
      "23\n",
      "Hop!\n"
     ]
    }
   ],
   "source": [
    "for i in range(1,25):\n",
    "    if i % 3 ==0:\n",
    "        print(\"Hop!\")\n",
    "    else:\n",
    "        print(i)"
   ]
  },
  {
   "cell_type": "markdown",
   "id": "6c3201a9",
   "metadata": {},
   "source": [
    "# Q. Hop 5taiie"
   ]
  },
  {
   "cell_type": "code",
   "execution_count": 154,
   "id": "b3ae7f4a",
   "metadata": {},
   "outputs": [],
   "source": [
    "def hop(a):\n",
    "    if a % 5:\n",
    "        return a\n",
    "    else:\n",
    "        return \"hop\""
   ]
  },
  {
   "cell_type": "code",
   "execution_count": 155,
   "id": "ab0ca917",
   "metadata": {},
   "outputs": [
    {
     "data": {
      "text/plain": [
       "'hop'"
      ]
     },
     "execution_count": 155,
     "metadata": {},
     "output_type": "execute_result"
    }
   ],
   "source": [
    "hop(35)"
   ]
  },
  {
   "cell_type": "markdown",
   "id": "3ebb1dbd",
   "metadata": {},
   "source": [
    "---"
   ]
  },
  {
   "cell_type": "markdown",
   "id": "4c576aad",
   "metadata": {},
   "source": [
    "# Lists"
   ]
  },
  {
   "cell_type": "code",
   "execution_count": 156,
   "id": "dc4de4a3",
   "metadata": {},
   "outputs": [
    {
     "data": {
      "text/plain": [
       "3"
      ]
     },
     "execution_count": 156,
     "metadata": {},
     "output_type": "execute_result"
    }
   ],
   "source": [
    "temp_list=[35, 'Amir' , 3.14]\n",
    "len(temp_list)"
   ]
  },
  {
   "cell_type": "code",
   "execution_count": 157,
   "id": "4a3c68a3",
   "metadata": {},
   "outputs": [
    {
     "data": {
      "text/plain": [
       "35"
      ]
     },
     "execution_count": 157,
     "metadata": {},
     "output_type": "execute_result"
    }
   ],
   "source": [
    "temp_list[0]"
   ]
  },
  {
   "cell_type": "code",
   "execution_count": 158,
   "id": "1eb448d9",
   "metadata": {},
   "outputs": [
    {
     "data": {
      "text/plain": [
       "'Amir'"
      ]
     },
     "execution_count": 158,
     "metadata": {},
     "output_type": "execute_result"
    }
   ],
   "source": [
    "temp_list[1]"
   ]
  },
  {
   "cell_type": "code",
   "execution_count": 159,
   "id": "259b41c5",
   "metadata": {},
   "outputs": [
    {
     "data": {
      "text/plain": [
       "4"
      ]
     },
     "execution_count": 159,
     "metadata": {},
     "output_type": "execute_result"
    }
   ],
   "source": [
    "len(temp_list[1])"
   ]
  },
  {
   "cell_type": "code",
   "execution_count": 160,
   "id": "0f8d13f7",
   "metadata": {},
   "outputs": [
    {
     "data": {
      "text/plain": [
       "'r'"
      ]
     },
     "execution_count": 160,
     "metadata": {},
     "output_type": "execute_result"
    }
   ],
   "source": [
    "temp_list[1][3] "
   ]
  },
  {
   "cell_type": "code",
   "execution_count": 161,
   "id": "05c359b0",
   "metadata": {},
   "outputs": [],
   "source": [
    "# temp_list[0][1] : error mide chon 35 string nist\n",
    "# pars kardan : baraye tabdilesh be string: str(35)= '35'"
   ]
  },
  {
   "cell_type": "code",
   "execution_count": 162,
   "id": "764c7669",
   "metadata": {},
   "outputs": [
    {
     "data": {
      "text/plain": [
       "'35'"
      ]
     },
     "execution_count": 162,
     "metadata": {},
     "output_type": "execute_result"
    }
   ],
   "source": [
    "str(35)"
   ]
  },
  {
   "cell_type": "code",
   "execution_count": 163,
   "id": "2c51706f",
   "metadata": {},
   "outputs": [
    {
     "data": {
      "text/plain": [
       "3"
      ]
     },
     "execution_count": 163,
     "metadata": {},
     "output_type": "execute_result"
    }
   ],
   "source": [
    "pi = 3.14\n",
    "int(pi)  #ghesmat sahih adad ro mide"
   ]
  },
  {
   "cell_type": "code",
   "execution_count": 164,
   "id": "5bb31ca7",
   "metadata": {},
   "outputs": [
    {
     "data": {
      "text/plain": [
       "2"
      ]
     },
     "execution_count": 164,
     "metadata": {},
     "output_type": "execute_result"
    }
   ],
   "source": [
    "e = 2.7\n",
    "int(e)"
   ]
  },
  {
   "cell_type": "code",
   "execution_count": 165,
   "id": "fb11863d",
   "metadata": {},
   "outputs": [
    {
     "data": {
      "text/plain": [
       "[35, 'Amir']"
      ]
     },
     "execution_count": 165,
     "metadata": {},
     "output_type": "execute_result"
    }
   ],
   "source": [
    "temp_list[:-1]"
   ]
  },
  {
   "cell_type": "code",
   "execution_count": 166,
   "id": "b107c7e4",
   "metadata": {},
   "outputs": [
    {
     "data": {
      "text/plain": [
       "['Amir', 3.14]"
      ]
     },
     "execution_count": 166,
     "metadata": {},
     "output_type": "execute_result"
    }
   ],
   "source": [
    "temp_list[1:]"
   ]
  },
  {
   "cell_type": "code",
   "execution_count": 167,
   "id": "2d4fc265",
   "metadata": {},
   "outputs": [
    {
     "data": {
      "text/plain": [
       "'3.14'"
      ]
     },
     "execution_count": 167,
     "metadata": {},
     "output_type": "execute_result"
    }
   ],
   "source": [
    "str(temp_list[2])"
   ]
  },
  {
   "cell_type": "code",
   "execution_count": 168,
   "id": "fb5b42b4",
   "metadata": {},
   "outputs": [
    {
     "data": {
      "text/plain": [
       "'1'"
      ]
     },
     "execution_count": 168,
     "metadata": {},
     "output_type": "execute_result"
    }
   ],
   "source": [
    "str(temp_list[2])[2]"
   ]
  },
  {
   "cell_type": "code",
   "execution_count": 169,
   "id": "f55b55be",
   "metadata": {},
   "outputs": [
    {
     "data": {
      "text/plain": [
       "[35, 'Amir', 3.14, 2, 'programming', 2.71828]"
      ]
     },
     "execution_count": 169,
     "metadata": {},
     "output_type": "execute_result"
    }
   ],
   "source": [
    "temp_list = temp_list+[2, 'programming' , 2.71828]\n",
    "temp_list"
   ]
  },
  {
   "cell_type": "code",
   "execution_count": 170,
   "id": "280f5651",
   "metadata": {},
   "outputs": [
    {
     "data": {
      "text/plain": [
       "[35, 'Amir', 3.14, 2, 'programming', 2.71828, 'Ali']"
      ]
     },
     "execution_count": 170,
     "metadata": {},
     "output_type": "execute_result"
    }
   ],
   "source": [
    "temp_list += ['Ali']\n",
    "temp_list"
   ]
  },
  {
   "cell_type": "code",
   "execution_count": 171,
   "id": "efea5d7b",
   "metadata": {},
   "outputs": [
    {
     "data": {
      "text/plain": [
       "[35, 'Amir', 3.14, 2, 'programming', 2.71828, 'Ali', 'Tehran']"
      ]
     },
     "execution_count": 171,
     "metadata": {},
     "output_type": "execute_result"
    }
   ],
   "source": [
    "temp_list.append('Tehran')\n",
    "temp_list"
   ]
  },
  {
   "cell_type": "code",
   "execution_count": 172,
   "id": "c56908e5",
   "metadata": {},
   "outputs": [
    {
     "data": {
      "text/plain": [
       "['__add__',\n",
       " '__class__',\n",
       " '__class_getitem__',\n",
       " '__contains__',\n",
       " '__delattr__',\n",
       " '__delitem__',\n",
       " '__dir__',\n",
       " '__doc__',\n",
       " '__eq__',\n",
       " '__format__',\n",
       " '__ge__',\n",
       " '__getattribute__',\n",
       " '__getitem__',\n",
       " '__getstate__',\n",
       " '__gt__',\n",
       " '__hash__',\n",
       " '__iadd__',\n",
       " '__imul__',\n",
       " '__init__',\n",
       " '__init_subclass__',\n",
       " '__iter__',\n",
       " '__le__',\n",
       " '__len__',\n",
       " '__lt__',\n",
       " '__mul__',\n",
       " '__ne__',\n",
       " '__new__',\n",
       " '__reduce__',\n",
       " '__reduce_ex__',\n",
       " '__repr__',\n",
       " '__reversed__',\n",
       " '__rmul__',\n",
       " '__setattr__',\n",
       " '__setitem__',\n",
       " '__sizeof__',\n",
       " '__str__',\n",
       " '__subclasshook__',\n",
       " 'append',\n",
       " 'clear',\n",
       " 'copy',\n",
       " 'count',\n",
       " 'extend',\n",
       " 'index',\n",
       " 'insert',\n",
       " 'pop',\n",
       " 'remove',\n",
       " 'reverse',\n",
       " 'sort']"
      ]
     },
     "execution_count": 172,
     "metadata": {},
     "output_type": "execute_result"
    }
   ],
   "source": [
    "dir(temp_list)"
   ]
  },
  {
   "cell_type": "code",
   "execution_count": 173,
   "id": "d6d74edc",
   "metadata": {},
   "outputs": [
    {
     "data": {
      "text/plain": [
       "[35, 'Amir', 3.14, 2, 'programming', 2.71828, 'Ali', 'Tehran']"
      ]
     },
     "execution_count": 173,
     "metadata": {},
     "output_type": "execute_result"
    }
   ],
   "source": [
    "temp_list"
   ]
  },
  {
   "cell_type": "code",
   "execution_count": 174,
   "id": "3995e107",
   "metadata": {},
   "outputs": [
    {
     "data": {
      "text/plain": [
       "[35, 3.14, 2, 'programming', 2.71828, 'Ali', 'Tehran']"
      ]
     },
     "execution_count": 174,
     "metadata": {},
     "output_type": "execute_result"
    }
   ],
   "source": [
    "temp_list.pop(1) #pop: bekesh biron , barax push amal mikone\n",
    "temp_list"
   ]
  },
  {
   "cell_type": "code",
   "execution_count": 175,
   "id": "05acae01",
   "metadata": {},
   "outputs": [
    {
     "data": {
      "text/plain": [
       "[21, 25, 32, 35]"
      ]
     },
     "execution_count": 175,
     "metadata": {},
     "output_type": "execute_result"
    }
   ],
   "source": [
    "ages = [32, 25, 35, 21]\n",
    "ages.sort() #az kuchik be bosorg minvise\n",
    "ages"
   ]
  },
  {
   "cell_type": "code",
   "execution_count": 176,
   "id": "f597dc20",
   "metadata": {},
   "outputs": [
    {
     "data": {
      "text/plain": [
       "['Ava', 'Elaheh', 'Mobina', 'Nika']"
      ]
     },
     "execution_count": 176,
     "metadata": {},
     "output_type": "execute_result"
    }
   ],
   "source": [
    "names = ['Elaheh', 'Nika', 'Mobina' , 'Ava']\n",
    "names.sort() #be tartib horoof alephba minvise\n",
    "names"
   ]
  },
  {
   "cell_type": "code",
   "execution_count": 177,
   "id": "5cbd0095",
   "metadata": {},
   "outputs": [
    {
     "data": {
      "text/plain": [
       "['2', '35', 'A', 'B', 'a', 'b', 's']"
      ]
     },
     "execution_count": 177,
     "metadata": {},
     "output_type": "execute_result"
    }
   ],
   "source": [
    "ages = ['s', '2', '35', 'B', 'a', 'b', 'A']\n",
    "ages.sort() \n",
    "ages"
   ]
  },
  {
   "cell_type": "markdown",
   "id": "2ae27a22",
   "metadata": {},
   "source": [
    "# Nesting"
   ]
  },
  {
   "cell_type": "code",
   "execution_count": 178,
   "id": "11c9a37a",
   "metadata": {},
   "outputs": [
    {
     "data": {
      "text/plain": [
       "[4, 5, 6]"
      ]
     },
     "execution_count": 178,
     "metadata": {},
     "output_type": "execute_result"
    }
   ],
   "source": [
    "nested_array= [[1, 2, 3], [4, 5, 6], [7, 8, 9]]\n",
    "nested_array[1]"
   ]
  },
  {
   "cell_type": "code",
   "execution_count": 179,
   "id": "386b40c3",
   "metadata": {},
   "outputs": [
    {
     "data": {
      "text/plain": [
       "6"
      ]
     },
     "execution_count": 179,
     "metadata": {},
     "output_type": "execute_result"
    }
   ],
   "source": [
    "nested_array[1][2]"
   ]
  },
  {
   "cell_type": "code",
   "execution_count": 180,
   "id": "2cc4d7af",
   "metadata": {},
   "outputs": [],
   "source": [
    "my_scores= [20, 13, 11, 17, 15, 4]\n",
    "my_courses= ['Math', 'History', 'Chemistry', 'Physics', 'AP', 'BP']"
   ]
  },
  {
   "cell_type": "code",
   "execution_count": 181,
   "id": "655ba6c8",
   "metadata": {},
   "outputs": [
    {
     "name": "stdout",
     "output_type": "stream",
     "text": [
      "20\n",
      "13\n",
      "11\n",
      "17\n",
      "15\n",
      "4\n"
     ]
    }
   ],
   "source": [
    "for i in my_scores:\n",
    "    print(i)"
   ]
  },
  {
   "cell_type": "code",
   "execution_count": 182,
   "id": "aa88f01a",
   "metadata": {},
   "outputs": [
    {
     "name": "stdout",
     "output_type": "stream",
     "text": [
      "Math = 20\n",
      "History = 13\n",
      "Chemistry = 11\n",
      "Physics = 17\n",
      "AP = 15\n",
      "BP = 4\n"
     ]
    }
   ],
   "source": [
    "for item1, item2 in zip(my_courses, my_scores):\n",
    "    print(item1,'=', item2)"
   ]
  },
  {
   "cell_type": "markdown",
   "id": "33cef723",
   "metadata": {},
   "source": [
    "# Q. Print courses that I passed in the decending order: \"sort\""
   ]
  },
  {
   "cell_type": "code",
   "execution_count": 183,
   "id": "740cd9b0",
   "metadata": {},
   "outputs": [
    {
     "name": "stdout",
     "output_type": "stream",
     "text": [
      "AP = 4\n",
      "BP = 11\n",
      "Chemistry = 13\n",
      "History = 15\n",
      "Math = 17\n",
      "Physics = 20\n"
     ]
    }
   ],
   "source": [
    "my_scores= [20, 13, 11, 17, 15, 4]\n",
    "my_courses= ['Math', 'History', 'Chemistry', 'Physics', 'AP', 'BP']\n",
    "my_scores.sort()\n",
    "my_courses.sort()\n",
    "for i in range(len(my_scores)):\n",
    "    print(my_courses[i] + \" = \" + str(my_scores[i]))"
   ]
  },
  {
   "cell_type": "markdown",
   "id": "97374ed1",
   "metadata": {},
   "source": [
    "---"
   ]
  },
  {
   "cell_type": "code",
   "execution_count": 184,
   "id": "9c5c7f5b",
   "metadata": {},
   "outputs": [
    {
     "name": "stdout",
     "output_type": "stream",
     "text": [
      "Math = 20\n",
      "History = 13\n",
      "Chemistry = 11\n",
      "Physics = 17\n",
      "AP = 15\n",
      "BP = 4\n"
     ]
    }
   ],
   "source": [
    "my_scores= [20, 13, 11, 17, 15, 4]\n",
    "my_courses= ['Math', 'History', 'Chemistry', 'Physics', 'AP', 'BP']\n",
    "for i in range(len(my_scores)):\n",
    "    print(my_courses[i] + \" = \" + str(my_scores[i]))"
   ]
  },
  {
   "cell_type": "code",
   "execution_count": 185,
   "id": "80e6e398",
   "metadata": {},
   "outputs": [
    {
     "name": "stdout",
     "output_type": "stream",
     "text": [
      "Math = 20\n",
      "History = 13\n",
      "Chemistry = 11\n",
      "Physics = 17\n",
      "AP = 15\n",
      "BP = failed\n"
     ]
    }
   ],
   "source": [
    "my_scores= [20, 13, 11, 17, 15, 4]\n",
    "my_courses= ['Math', 'History', 'Chemistry', 'Physics', 'AP', 'BP']\n",
    "for i in range(len(my_scores)):\n",
    "    if  my_scores[i] >= 10: \n",
    "        print(my_courses[i] + \" = \" + str(my_scores[i]))\n",
    "    else: \n",
    "        print(my_courses[i] + \" = \" + \"failed\")"
   ]
  },
  {
   "cell_type": "markdown",
   "id": "e09ca4d2",
   "metadata": {},
   "source": [
    "# Dictionary"
   ]
  },
  {
   "cell_type": "code",
   "execution_count": 186,
   "id": "3df48b89",
   "metadata": {},
   "outputs": [],
   "source": [
    "my_profile = {'name':'Elaheh Hossein Abadi' , 'age': 21 }"
   ]
  },
  {
   "cell_type": "code",
   "execution_count": 187,
   "id": "2a9c2ea7",
   "metadata": {},
   "outputs": [
    {
     "name": "stdout",
     "output_type": "stream",
     "text": [
      "Elaheh Hossein Abadi\n"
     ]
    }
   ],
   "source": [
    "print(my_profile['name'])"
   ]
  },
  {
   "cell_type": "code",
   "execution_count": 188,
   "id": "ffdba165",
   "metadata": {},
   "outputs": [
    {
     "name": "stdout",
     "output_type": "stream",
     "text": [
      "21\n"
     ]
    }
   ],
   "source": [
    "print(my_profile['age'])"
   ]
  },
  {
   "cell_type": "code",
   "execution_count": 189,
   "id": "32be9632",
   "metadata": {},
   "outputs": [],
   "source": [
    "name_dict= {'first name' : 'Elaheh' , 'last name' : 'Hossein Abadi'}"
   ]
  },
  {
   "cell_type": "code",
   "execution_count": 190,
   "id": "cf63ac50",
   "metadata": {},
   "outputs": [
    {
     "name": "stdout",
     "output_type": "stream",
     "text": [
      "Elaheh\n"
     ]
    }
   ],
   "source": [
    "print(name_dict['first name'])"
   ]
  },
  {
   "cell_type": "code",
   "execution_count": 191,
   "id": "99827243",
   "metadata": {},
   "outputs": [
    {
     "name": "stdout",
     "output_type": "stream",
     "text": [
      "Hossein Abadi\n"
     ]
    }
   ],
   "source": [
    "print(name_dict['last name'])"
   ]
  },
  {
   "cell_type": "code",
   "execution_count": 192,
   "id": "67918386",
   "metadata": {},
   "outputs": [],
   "source": [
    "my_profile= {'name': name_dict, 'age': 21}"
   ]
  },
  {
   "cell_type": "code",
   "execution_count": 193,
   "id": "af2577d2",
   "metadata": {},
   "outputs": [
    {
     "name": "stdout",
     "output_type": "stream",
     "text": [
      "Elaheh\n"
     ]
    }
   ],
   "source": [
    "print(my_profile['name']['first name'])"
   ]
  },
  {
   "cell_type": "code",
   "execution_count": 194,
   "id": "933e017d",
   "metadata": {},
   "outputs": [],
   "source": [
    "cities= ['Tehran' , 'Kish', 'Boston']"
   ]
  },
  {
   "cell_type": "code",
   "execution_count": 195,
   "id": "67909470",
   "metadata": {},
   "outputs": [],
   "source": [
    "my_profile['cities'] = cities #ezafe kardan key value e 'cities' be dictionarye my_profile"
   ]
  },
  {
   "cell_type": "code",
   "execution_count": 196,
   "id": "365abad7",
   "metadata": {},
   "outputs": [
    {
     "name": "stdout",
     "output_type": "stream",
     "text": [
      "{'name': {'first name': 'Elaheh', 'last name': 'Hossein Abadi'}, 'age': 21, 'cities': ['Tehran', 'Kish', 'Boston']}\n"
     ]
    }
   ],
   "source": [
    "print(my_profile)"
   ]
  },
  {
   "cell_type": "code",
   "execution_count": 197,
   "id": "7c309eff",
   "metadata": {},
   "outputs": [
    {
     "name": "stdout",
     "output_type": "stream",
     "text": [
      "['Tehran', 'Kish', 'Boston']\n"
     ]
    }
   ],
   "source": [
    "print(my_profile['cities']) #esm shahr haiie ke raftie"
   ]
  },
  {
   "cell_type": "code",
   "execution_count": 198,
   "id": "9e7c9794",
   "metadata": {},
   "outputs": [
    {
     "name": "stdout",
     "output_type": "stream",
     "text": [
      "3\n"
     ]
    }
   ],
   "source": [
    "print(len(my_profile['cities'])) #tedad shahr haiie ke raftie"
   ]
  },
  {
   "cell_type": "code",
   "execution_count": 199,
   "id": "4159833b",
   "metadata": {},
   "outputs": [
    {
     "name": "stdout",
     "output_type": "stream",
     "text": [
      "Boston\n"
     ]
    }
   ],
   "source": [
    "print(my_profile['cities'][-1]) #akharin shahri ke rafti"
   ]
  },
  {
   "cell_type": "code",
   "execution_count": 200,
   "id": "02b787c5",
   "metadata": {},
   "outputs": [],
   "source": [
    "my_profile['friends'] = [{'first name' : 'Mobina' , 'last name' : 'Mohammadiuon' , 'age' : 21 , 'id' :0},\n",
    "                        {'first name' : 'Azin' , 'last name' : 'Esfandiari' , 'age' : 25 , 'id' :1}]"
   ]
  },
  {
   "cell_type": "code",
   "execution_count": 201,
   "id": "60790263",
   "metadata": {},
   "outputs": [
    {
     "name": "stdout",
     "output_type": "stream",
     "text": [
      "{'name': {'first name': 'Elaheh', 'last name': 'Hossein Abadi'}, 'age': 21, 'cities': ['Tehran', 'Kish', 'Boston'], 'friends': [{'first name': 'Mobina', 'last name': 'Mohammadiuon', 'age': 21, 'id': 0}, {'first name': 'Azin', 'last name': 'Esfandiari', 'age': 25, 'id': 1}]}\n"
     ]
    }
   ],
   "source": [
    "print(my_profile)"
   ]
  },
  {
   "cell_type": "code",
   "execution_count": 202,
   "id": "5b3f42a0",
   "metadata": {},
   "outputs": [],
   "source": [
    "my_profile['friends'].append({'first name' : 'Nika' , 'last name' : 'Sadidi' , 'age' : 22 , 'id' :2})"
   ]
  },
  {
   "cell_type": "code",
   "execution_count": 203,
   "id": "d6eb968b",
   "metadata": {},
   "outputs": [
    {
     "name": "stdout",
     "output_type": "stream",
     "text": [
      "{'name': {'first name': 'Elaheh', 'last name': 'Hossein Abadi'}, 'age': 21, 'cities': ['Tehran', 'Kish', 'Boston'], 'friends': [{'first name': 'Mobina', 'last name': 'Mohammadiuon', 'age': 21, 'id': 0}, {'first name': 'Azin', 'last name': 'Esfandiari', 'age': 25, 'id': 1}, {'first name': 'Nika', 'last name': 'Sadidi', 'age': 22, 'id': 2}]}\n"
     ]
    }
   ],
   "source": [
    "print(my_profile)"
   ]
  },
  {
   "cell_type": "markdown",
   "id": "f61141c5",
   "metadata": {},
   "source": [
    "## Q. print name of oldest friend and average age of your friends"
   ]
  },
  {
   "cell_type": "code",
   "execution_count": 204,
   "id": "81d25b98",
   "metadata": {},
   "outputs": [],
   "source": [
    "def oldest_average_friend(my_dict):\n",
    "    max_age = 0 \n",
    "    max_friend = {} \n",
    "    sum_age = 0\n",
    "    for i in my_profile['friends']:\n",
    "        sum_age += i['age']\n",
    "        if i['age'] > max_age:\n",
    "            max_age = i['age']\n",
    "            max_friend = i \n",
    "    average_age = sum_age / len(my_profile['friends'])\n",
    "    return [max_friend, average_age]"
   ]
  },
  {
   "cell_type": "code",
   "execution_count": 205,
   "id": "31000a1d",
   "metadata": {},
   "outputs": [
    {
     "name": "stdout",
     "output_type": "stream",
     "text": [
      "Azin\n",
      "22.666666666666668\n"
     ]
    }
   ],
   "source": [
    "oldest_friend = oldest_average_friend(my_profile)[0]\n",
    "print(oldest_friend['first name'])\n",
    "average_age_of_my_friend= oldest_average_friend(my_profile)[1]\n",
    "print(average_age_of_my_friend)"
   ]
  },
  {
   "cell_type": "markdown",
   "id": "9a68e221",
   "metadata": {},
   "source": [
    "---"
   ]
  },
  {
   "cell_type": "code",
   "execution_count": 206,
   "id": "74fafcb4",
   "metadata": {},
   "outputs": [
    {
     "data": {
      "text/plain": [
       "{'first name': 'Nika', 'last name': 'Sadidi', 'age': 22, 'id': 2}"
      ]
     },
     "execution_count": 206,
     "metadata": {},
     "output_type": "execute_result"
    }
   ],
   "source": [
    "my_profile['friends'][-1]"
   ]
  },
  {
   "cell_type": "code",
   "execution_count": 207,
   "id": "98acb66a",
   "metadata": {},
   "outputs": [
    {
     "data": {
      "text/plain": [
       "dict_keys(['name', 'age', 'cities', 'friends'])"
      ]
     },
     "execution_count": 207,
     "metadata": {},
     "output_type": "execute_result"
    }
   ],
   "source": [
    "my_profile.keys()"
   ]
  },
  {
   "cell_type": "code",
   "execution_count": 208,
   "id": "02ac8fc0",
   "metadata": {},
   "outputs": [
    {
     "name": "stdout",
     "output_type": "stream",
     "text": [
      "age vared shode ast\n"
     ]
    }
   ],
   "source": [
    "if \"age\" in my_profile.keys():\n",
    "    print(\"age vared shode ast\")\n",
    "else:\n",
    "    print(\"age ra vared kon\")"
   ]
  },
  {
   "cell_type": "code",
   "execution_count": 209,
   "id": "e728b7e9",
   "metadata": {},
   "outputs": [
    {
     "name": "stdout",
     "output_type": "stream",
     "text": [
      "اجازه دارد\n"
     ]
    }
   ],
   "source": [
    "if \"age\" in my_profile.keys():\n",
    "    if my_profile[\"age\"] >=18:\n",
    "        print(\"اجازه دارد\")\n",
    "else:\n",
    "    print(\"age ra vared kon\")"
   ]
  },
  {
   "cell_type": "code",
   "execution_count": 210,
   "id": "42e85ce2",
   "metadata": {},
   "outputs": [
    {
     "data": {
      "text/plain": [
       "['__add__',\n",
       " '__class__',\n",
       " '__class_getitem__',\n",
       " '__contains__',\n",
       " '__delattr__',\n",
       " '__delitem__',\n",
       " '__dir__',\n",
       " '__doc__',\n",
       " '__eq__',\n",
       " '__format__',\n",
       " '__ge__',\n",
       " '__getattribute__',\n",
       " '__getitem__',\n",
       " '__getstate__',\n",
       " '__gt__',\n",
       " '__hash__',\n",
       " '__iadd__',\n",
       " '__imul__',\n",
       " '__init__',\n",
       " '__init_subclass__',\n",
       " '__iter__',\n",
       " '__le__',\n",
       " '__len__',\n",
       " '__lt__',\n",
       " '__mul__',\n",
       " '__ne__',\n",
       " '__new__',\n",
       " '__reduce__',\n",
       " '__reduce_ex__',\n",
       " '__repr__',\n",
       " '__reversed__',\n",
       " '__rmul__',\n",
       " '__setattr__',\n",
       " '__setitem__',\n",
       " '__sizeof__',\n",
       " '__str__',\n",
       " '__subclasshook__',\n",
       " 'append',\n",
       " 'clear',\n",
       " 'copy',\n",
       " 'count',\n",
       " 'extend',\n",
       " 'index',\n",
       " 'insert',\n",
       " 'pop',\n",
       " 'remove',\n",
       " 'reverse',\n",
       " 'sort']"
      ]
     },
     "execution_count": 210,
     "metadata": {},
     "output_type": "execute_result"
    }
   ],
   "source": [
    "dir(my_profile['friends'])"
   ]
  },
  {
   "cell_type": "code",
   "execution_count": 211,
   "id": "a9d1b73c",
   "metadata": {},
   "outputs": [
    {
     "name": "stdout",
     "output_type": "stream",
     "text": [
      "Help on method-wrapper:\n",
      "\n",
      "__len__()\n",
      "    Return len(self).\n",
      "\n"
     ]
    }
   ],
   "source": [
    "help(my_profile['friends'].__len__)"
   ]
  },
  {
   "cell_type": "code",
   "execution_count": 212,
   "id": "fa7617f0",
   "metadata": {},
   "outputs": [
    {
     "data": {
      "text/plain": [
       "dict_values([{'first name': 'Elaheh', 'last name': 'Hossein Abadi'}, 21, ['Tehran', 'Kish', 'Boston'], [{'first name': 'Mobina', 'last name': 'Mohammadiuon', 'age': 21, 'id': 0}, {'first name': 'Azin', 'last name': 'Esfandiari', 'age': 25, 'id': 1}, {'first name': 'Nika', 'last name': 'Sadidi', 'age': 22, 'id': 2}]])"
      ]
     },
     "execution_count": 212,
     "metadata": {},
     "output_type": "execute_result"
    }
   ],
   "source": [
    "my_profile.values()"
   ]
  },
  {
   "cell_type": "markdown",
   "id": "e5ad0b56",
   "metadata": {},
   "source": [
    "# Files"
   ]
  },
  {
   "cell_type": "code",
   "execution_count": 213,
   "id": "abf7f900",
   "metadata": {},
   "outputs": [],
   "source": [
    "temp_file = open('my_profile.txt', 'w')\n",
    "temp_file.write(str(my_profile))\n",
    "temp_file.close()"
   ]
  },
  {
   "cell_type": "code",
   "execution_count": 214,
   "id": "7d976c6f",
   "metadata": {},
   "outputs": [
    {
     "name": "stdout",
     "output_type": "stream",
     "text": [
      "<_io.TextIOWrapper name='my_profile.txt' mode='w' encoding='cp1252'>\n"
     ]
    }
   ],
   "source": [
    "print(temp_file)"
   ]
  },
  {
   "cell_type": "code",
   "execution_count": 215,
   "id": "df174ae8",
   "metadata": {},
   "outputs": [],
   "source": [
    "amir_file= open('amir_profile.txt' , 'r')\n",
    "amir_profile= amir_file.read()\n",
    "amir_file.close()"
   ]
  },
  {
   "cell_type": "code",
   "execution_count": 216,
   "id": "9619cbc5",
   "metadata": {},
   "outputs": [
    {
     "name": "stdout",
     "output_type": "stream",
     "text": [
      "{'name': {'firstName': 'Amirhoshang', 'lastName': 'Hoseinpour Dehkordi'}, 'age': 34, 'cities': ['Tehran', 'Boston', 'Shahrekord'], 'farhadFriends': {'bestFriend': {'firstName': 'Philip', 'lastName': 'Fry', 'age': 35, 'id': 0}, 'lastButNotLeastFriend': {'firstName': 'Bender', 'lastName': 'Bending Rodríguez', 'age': 4, 'id': 1}, 0: {'firstName': 'Bender1', 'lastName': 'Bending Rodríguez', 'age': 4, 'id': 1}, 1: {'firstName': 'Bender2', 'lastName': 'Bending Rodríguez', 'age': 4, 'id': 1}, 2: {'firstName': 'Bender3', 'lastName': 'Bending Rodríguez', 'age': 4, 'id': 1}}, 'friends': [{'firstName': 'Philip', 'lastName': 'Fry', 'age': 35, 'id': 0}, {'firstName': 'Bender', 'lastName': 'Bending Rodríguez', 'age': 4, 'id': 1}, {'firstName': 'Amy', 'lastName': 'Wong', 'age': 30, 'id': 2}]}\n"
     ]
    }
   ],
   "source": [
    "print(amir_profile)"
   ]
  },
  {
   "cell_type": "markdown",
   "id": "9904262a",
   "metadata": {},
   "source": [
    "---"
   ]
  },
  {
   "cell_type": "markdown",
   "id": "6a39cd0f",
   "metadata": {},
   "source": [
    "# Functions"
   ]
  },
  {
   "cell_type": "code",
   "execution_count": 217,
   "id": "6300f146",
   "metadata": {},
   "outputs": [
    {
     "name": "stdout",
     "output_type": "stream",
     "text": [
      "6\n"
     ]
    }
   ],
   "source": [
    "print(len(\"Elaheh\"))"
   ]
  },
  {
   "cell_type": "code",
   "execution_count": 218,
   "id": "46a6319e",
   "metadata": {},
   "outputs": [],
   "source": [
    "def function_name(my_input):\n",
    "    # print(my_input)\n",
    "    return my_input * 2"
   ]
  },
  {
   "cell_type": "code",
   "execution_count": 219,
   "id": "280d8861",
   "metadata": {},
   "outputs": [
    {
     "name": "stdout",
     "output_type": "stream",
     "text": [
      "ElahehElaheh\n"
     ]
    }
   ],
   "source": [
    "my_function_value = function_name(\"Elaheh\")\n",
    "print(my_function_value)"
   ]
  },
  {
   "cell_type": "code",
   "execution_count": 220,
   "id": "5b4edc0f",
   "metadata": {},
   "outputs": [],
   "source": [
    "def fib(n):\n",
    "     if n in {0, 1}:  \n",
    "        return n\n",
    "     return fib(n - 1) + fib(n - 2)  "
   ]
  },
  {
   "cell_type": "code",
   "execution_count": 221,
   "id": "b9e34255",
   "metadata": {},
   "outputs": [
    {
     "name": "stdout",
     "output_type": "stream",
     "text": [
      "ElahehElahehElahehElahehElahehElahehElahehElaheh\n"
     ]
    }
   ],
   "source": [
    "n= 3\n",
    "mult= 1\n",
    "for i in range(n):\n",
    "    mult= mult * 2\n",
    "a = mult\n",
    "print(my_name * a)"
   ]
  },
  {
   "cell_type": "code",
   "execution_count": 222,
   "id": "ba98b16d",
   "metadata": {},
   "outputs": [],
   "source": [
    "def power2(n):\n",
    "    mult= 1\n",
    "    for i in range(n):\n",
    "        mult= mult * 2\n",
    "    return mult"
   ]
  },
  {
   "cell_type": "markdown",
   "id": "2d73c738",
   "metadata": {},
   "source": [
    "### تابعی بنویسید که  p , n را بگیرد \n",
    "### def hop(p, n):\n",
    "### True -> hop\n",
    "### False -> number"
   ]
  },
  {
   "cell_type": "markdown",
   "id": "4e6ec4fd",
   "metadata": {},
   "source": [
    "### def Swap(a, b)\n",
    "### 4, 3 = swap(3, 4)"
   ]
  },
  {
   "cell_type": "markdown",
   "id": "235a298f",
   "metadata": {},
   "source": [
    "---"
   ]
  },
  {
   "cell_type": "markdown",
   "id": "f9b2efb1",
   "metadata": {},
   "source": [
    "# be tavan resandan"
   ]
  },
  {
   "cell_type": "code",
   "execution_count": 223,
   "id": "eda18179",
   "metadata": {},
   "outputs": [
    {
     "name": "stdout",
     "output_type": "stream",
     "text": [
      "81\n"
     ]
    }
   ],
   "source": [
    "def power_k(k,n):\n",
    "    mult=1\n",
    "    for i in range(n):\n",
    "        mult=mult*k\n",
    "    return mult\n",
    "print(power_k(3,4))"
   ]
  },
  {
   "cell_type": "markdown",
   "id": "f95daae5",
   "metadata": {},
   "source": [
    "# Data Flow"
   ]
  },
  {
   "cell_type": "code",
   "execution_count": 224,
   "id": "5d2edad3",
   "metadata": {},
   "outputs": [
    {
     "data": {
      "text/plain": [
       "{'name': {'first name': 'Elaheh', 'last name': 'Hossein Abadi'},\n",
       " 'age': 21,\n",
       " 'cities': ['Tehran', 'Kish', 'Boston'],\n",
       " 'friends': [{'first name': 'Mobina',\n",
       "   'last name': 'Mohammadiuon',\n",
       "   'age': 21,\n",
       "   'id': 0},\n",
       "  {'first name': 'Azin', 'last name': 'Esfandiari', 'age': 25, 'id': 1},\n",
       "  {'first name': 'Nika', 'last name': 'Sadidi', 'age': 22, 'id': 2}],\n",
       " 'id': 23}"
      ]
     },
     "execution_count": 224,
     "metadata": {},
     "output_type": "execute_result"
    }
   ],
   "source": [
    "my_id = 23\n",
    "my_profile[\"id\"] = my_id\n",
    "my_profile"
   ]
  },
  {
   "cell_type": "code",
   "execution_count": 225,
   "id": "041bba52",
   "metadata": {},
   "outputs": [],
   "source": [
    "temp_file = open(str(my_profile[\"id\"])+\".txt\", \"w\")\n",
    "temp_file.write(str(my_profile))\n",
    "temp_file.close()"
   ]
  },
  {
   "cell_type": "markdown",
   "id": "f55f090b",
   "metadata": {},
   "source": [
    "---"
   ]
  },
  {
   "cell_type": "markdown",
   "id": "7b1e789c",
   "metadata": {},
   "source": [
    "# Data Analysis part 1"
   ]
  },
  {
   "cell_type": "code",
   "execution_count": 226,
   "id": "ff390d2a",
   "metadata": {},
   "outputs": [
    {
     "name": "stdout",
     "output_type": "stream",
     "text": [
      "{'name': {'first_name': 'Shayan', 'last_name': 'Shahvari'},\n",
      " 'age': 20, 'cities': ['Tehran', 'Moscow', 'Kish'],\n",
      " 'friends': [{'first_name': 'Parsa', 'last_name': 'khaki', 'age': 30, 'id': 0},\n",
      " {'first_name': 'Kiavash', 'last_name': 'abbasnejad', 'age': 37, 'id': 1}, \n",
      "{'first_name': 'Kourosh', 'last_name': 'ikani', 'age': 20}], 'id': 1}\n"
     ]
    }
   ],
   "source": [
    "f = open(\"classmates/1.txt\" , \"r\")\n",
    "data = f.read()\n",
    "f.close()\n",
    "print(data)"
   ]
  },
  {
   "cell_type": "code",
   "execution_count": 227,
   "id": "fba142a1",
   "metadata": {},
   "outputs": [
    {
     "name": "stdout",
     "output_type": "stream",
     "text": [
      "['1.txt', '10.txt', '11.txt', '12.txt', '13.txt', '14.txt', '16.txt', '17.txt', '18.txt', '19.txt', '2.txt', '4.txt', '5.txt', '6.txt', '7.txt', '8.txt', '9.txt']\n"
     ]
    }
   ],
   "source": [
    "import os      #os: operative system\n",
    "list_of_files = os.listdir('C:\\\\Users\\\\MSI\\\\Documents\\\\advanced programing\\\\classmates')\n",
    "print(list_of_files)"
   ]
  },
  {
   "cell_type": "code",
   "execution_count": 228,
   "id": "43f825ac",
   "metadata": {},
   "outputs": [
    {
     "name": "stdout",
     "output_type": "stream",
     "text": [
      "['1.txt', '10.txt', '11.txt', '12.txt', '13.txt', '14.txt', '16.txt', '17.txt', '18.txt', '19.txt', '2.txt', '4.txt', '5.txt', '6.txt', '7.txt', '8.txt', '9.txt']\n"
     ]
    }
   ],
   "source": [
    "import os      \n",
    "ROOT_DIR= os.path.abspath(os.curdir)\n",
    "list_of_files = os.listdir(ROOT_DIR + '\\\\classmates')\n",
    "print(list_of_files)"
   ]
  },
  {
   "cell_type": "code",
   "execution_count": 229,
   "id": "73481188",
   "metadata": {},
   "outputs": [
    {
     "name": "stdout",
     "output_type": "stream",
     "text": [
      "[\"{'name': {'first_name': 'Shayan', 'last_name': 'Shahvari'},\\n 'age': 20, 'cities': ['Tehran', 'Moscow', 'Kish'],\\n 'friends': [{'first_name': 'Parsa', 'last_name': 'khaki', 'age': 30, 'id': 0},\\n {'first_name': 'Kiavash', 'last_name': 'abbasnejad', 'age': 37, 'id': 1}, \\n{'first_name': 'Kourosh', 'last_name': 'ikani', 'age': 20}], 'id': 1}\", \"{'name': {'firstName': 'amir_ali', 'lastName': 'mohammadi'},\\n 'age': 22, 'id': 10, 'cities': ['Tehran', 'kish', 'kabul'],\\n\\n 'friends': [{'firstName': 'kamran', 'lastName': 'Fry', 'age': 80, 'id': 0},\\n {'firstName': 'aligoodarz', 'lastName': 'baboli', 'age': 4, 'id': 1},\\n {'firstName': 'parham', 'lastName': 'Wong', 'age': 30, 'id': 2}]}\", \"{'name': {'first_name': 'Parsa', 'last_name': 'Mollaei'}, 'age': 22, 'my_id': 11, 'cities': ['tehran', 'esfehan', 'kerman'], 'friends': [{'first_name': 'ali', 'last_name': 'Barkhodari', 'age': 22, 'id': '2'}, {'first_name': 'AmirHossein', 'last_name': 'yousefzade', 'age': 22, 'id': 2}, {'first_name': 'Parnian', 'last_name': 'Mollaei', 'age': 13, 'id': 3}]}\", \"{'id': 12, 'name': 'Sina', 'age': 21, 'email': 'sina.sherkat@example.com', 'location': 'Kish'}\", \"{'name': {'firstName': 'Fazel', 'lastName': 'Basiri'}, 'age': 25, 'cities': ['Bam', 'Shiraz', 'Kish'], 'friends': [{'firstName': 'Saeed', 'lastName': 'Ashrafian', 'age': 25}, {'firstName': 'Mahsa', 'lastName': 'Kzn', 'age':22}, {'firstName': 'Alireza', 'lastName': 'PourMoghadam', 'age':26}], 'id': 13}\", \"{'name': {'first name': 'Mahsa', 'last name': 'kzn'}, 'age': 22, 'cities': ['Tehran', 'Shiraz', 'Rasht', 'Mashhad'], 'friends': [{'firstname': 'Fazel', 'Lastname': 'basiri', 'age': 25, 'id': 13}, {'firstname': 'Niayesh', 'lastname': 'Mohammadi', 'age': 22, 'id': 0}], 'id': 14}\", \"{'name': {'firstname': 'Hesam', 'lastName': 'Fatemizadeh'}\\n, 'age': 21, 'cities': ['TEHRAN', 'KISH', 'ABADAN'],\\n 'friends': [{'firstname': 'mariam', 'lastname': 'shojaodin', 'age': 21, 'id': '100'},\\n {'firstname': 'abbas', 'lastname': 'ranjbar', 'age': 25, 'id': '101'},\\n {'firstname': 'ali', 'lastname': 'niazi', 'age': 23, 'id': 102}], 'id': 16}\", \"{'name': {'first name': 'Mariam', 'last name': 'Shojaedin'}, 'age': 21, 'cities': ['Kaluga', 'Moscow', 'Sochi'], 'friends': [{'firstName': 'Mahsa', 'lastName': 'Rastaghi', 'age': 22, 'ID': '0'}, {'firstName': 'Hesam', 'lastName': 'Fatemizade', 'age': 21, 'ID': '1'}, {'firstName': 'Nika', 'lastName': 'Sadidi', 'age': 22, 'ID': '2'}, {'firstName': 'Ali', 'lastName': 'Niazi', 'age': 23, 'ID': '3'}], 'ID': 17}\", \"{'Name': {'First name': 'Mahsa', 'Last name': 'Rastaghi'}, 'Age': 22, 'Cities': ['Kish', 'Shiraz', 'Tehran'], 'Friends': [{'first name': ' Mariam', 'Last name': 'Shojaedin', 'Age': 21, 'Id': 0}, {'first name': ' Nika', 'Last name': 'Sadidi', 'Age': 22, 'Id': 1}, {'first name': ' Hesam', 'Last name': 'Fatemi zadeh', 'Age': 21, 'Id': 2}, {'first name': 'Fatemeh', 'Last name': 'Sayyadi', 'Age': 22, 'Id': '3'}], 'Id': 18}\", \"{'name': 'Mobina Mohammadiuon', 'age': 21, 'id': 19, 'cities': ['Tehran', 'Boston', 'Shahrkord'], 'friends': [{'firstName': 'Elaheh', 'lastName': 'HosseinAbadi', 'age': 21, 'id': 0}, {'firstName': 'Nika', 'lastName': 'Sadidi', 'age': 22, 'id': 1}, {'firstName': 'Azin', 'lastName': 'Esfandiari', 'age': 25, 'id': 2}]}\", \"{'name': {'firstName': 'parsa', 'lastName': 'khaki'}, 'age': 19, 'cities': ['tehran', 'boston', 'mehran'], 'friends': [{'firstName': 'shayan', 'lastname': 'shahvari', 'age': 35, 'id': 0}, {'firstName': 'kiavash', 'lastName': 'abasnejad', 'age': 21, 'id': 1}, {'firstName': 'behrad', 'lastName': 'biniaz', 'age': 30, 'id': 2}], 'id': 2}\", \"{'name': {'firstName': 'Zahra', 'lastName': 'Akhlaghipoor'}, 'age': 22, 'cities': ['Kish'], 'friends': [{'firstName': 'Tima', 'LastName': 'Kalhori', 'age': 19, 'id': 0}, {'firstName': 'Nikki', 'LastName': 'Khayyat', 'age': 21, 'id': 1}], 'id': 4}\", \"{'firstName': 'Tima', 'lastName': 'Kalhori', 'age': 19, 'cities': ['Tehran', 'Boston', 'Shahrekord'], 'friends': [{'firstName': 'philip', 'lastName': 'fry', 'age': 35, 'id': 0}, {'firstName': 'zahra', 'lastName': 'akhlaghipoor', 'age': 22, 'id': 12}, {'firstName': 'leili', 'lastname': 'shabani', 'age': 27, 'id': 32}], 'id': 5}\", \"{'name': {'firstname': 'Nikki', 'lastname': 'Khayyat'}, 'age': 23, 'cities': ['Tehran', 'Boston', 'Shahrekord'], 'friends': [{'firstname': 'Charles', 'lastname': 'Lec', 'age': 27, 'ID': 0}, {'firstname': 'Franco', 'lastname': 'Colapinto', 'age': 21, 'ID': 0}, {'firstname': 'Lewis', 'lastname': 'Hamilton', 'age': 40, 'ID': 0}], 'Id': 6}\", \"{'name': {'firstname': 'Saba', 'surname': 'Sarlak'}, 'age': 20, 'cities': ['kl', 'iis', 'maha'], 'lastCity': ['kl'], 'friends': [{'firstname': 'elnaz', 'lastname': 'ahmad', 'age': 22, 'id': 0}, {'firstname': 'asal', 'lastname': 'sabaghzade', 'age': 26, 'id': 2}, {'firstname': 'setia', 'lastname': 'dehghan', 'id': 'bestfriend', 'age': 25}], 'id': 7}\", \"{'name': {'first name': 'Mohammad', 'last name': 'Mohammad Khaninezhad'}, 'age': 20, 'cities': ['Tehran', 'Boston', 'Shahrekord'], 'friends': [{'first name': 'Shahrad', 'last name': 'Shahraki', 'age': 21, 'id': 0}, {'first name': 'Hossein', 'last name': 'Dehghan', 'age': 22, 'id': 1}, {'first name': 'Erfan', 'last name': 'Kasef', 'age': 23, 'id': 2}], 'id': 8}\", \"{'name': {'first name': 'shahrad', 'last name': 'shahraki'}, 'age': 22, 'cities': ['birjand', 'khoosf', 'tabas'], 'friends': [{'first name': 'alireza', 'last name': 'balali', 'age': 7, 'id': 2}, {'first name': 'shahrokh', 'last name': 'shahmohammadi', 'age': 40, 'id': 7}, {'first name': 'saba', 'last name': 'samaani', 'age': 34, 'id': 5}], 'id': 9}\"]\n"
     ]
    }
   ],
   "source": [
    "list_of_profiles= []\n",
    "for i in list_of_files:\n",
    "    f = open(\"classmates/\" + i)\n",
    "    temp_profile= f.read()\n",
    "    list_of_profiles.append(temp_profile)\n",
    "    f.close()\n",
    "print(list_of_profiles)"
   ]
  },
  {
   "cell_type": "markdown",
   "id": "31318319",
   "metadata": {},
   "source": [
    "### میانگین سن همه ی بچه های کلاس رو دربیار از طریق import json\n",
    "### json , csv : format zakhire etelaat"
   ]
  },
  {
   "cell_type": "markdown",
   "id": "85936ba9",
   "metadata": {},
   "source": [
    "---"
   ]
  },
  {
   "cell_type": "code",
   "execution_count": 230,
   "id": "363aeac3",
   "metadata": {},
   "outputs": [
    {
     "name": "stdout",
     "output_type": "stream",
     "text": [
      "{\"name\": {\"first name\": \"shahrad\", \"last name\": \"shahraki\"}, \"age\": 22, \"cities\": [\"birjand\", \"khoosf\", \"tabas\"], \"friends\": [{\"first name\": \"alireza\", \"last name\": \"balali\", \"age\": 7, \"id\": 2}, {\"first name\": \"shahrokh\", \"last name\": \"shahmohammadi\", \"age\": 40, \"id\": 7}, {\"first name\": \"saba\", \"last name\": \"samaani\", \"age\": 34, \"id\": 5}], \"id\": 9}\n"
     ]
    }
   ],
   "source": [
    "double_q_profile= temp_profile.replace(\"\\'\", \"\\\"\")\n",
    "print(double_q_profile)"
   ]
  },
  {
   "cell_type": "code",
   "execution_count": 231,
   "id": "4fcc98bc",
   "metadata": {},
   "outputs": [
    {
     "name": "stdout",
     "output_type": "stream",
     "text": [
      "[{'name': {'first_name': 'Shayan', 'last_name': 'Shahvari'}, 'age': 20, 'cities': ['Tehran', 'Moscow', 'Kish'], 'friends': [{'first_name': 'Parsa', 'last_name': 'khaki', 'age': 30, 'id': 0}, {'first_name': 'Kiavash', 'last_name': 'abbasnejad', 'age': 37, 'id': 1}, {'first_name': 'Kourosh', 'last_name': 'ikani', 'age': 20}], 'id': 1}, {'name': {'firstName': 'amir_ali', 'lastName': 'mohammadi'}, 'age': 22, 'id': 10, 'cities': ['Tehran', 'kish', 'kabul'], 'friends': [{'firstName': 'kamran', 'lastName': 'Fry', 'age': 80, 'id': 0}, {'firstName': 'aligoodarz', 'lastName': 'baboli', 'age': 4, 'id': 1}, {'firstName': 'parham', 'lastName': 'Wong', 'age': 30, 'id': 2}]}, {'name': {'first_name': 'Parsa', 'last_name': 'Mollaei'}, 'age': 22, 'my_id': 11, 'cities': ['tehran', 'esfehan', 'kerman'], 'friends': [{'first_name': 'ali', 'last_name': 'Barkhodari', 'age': 22, 'id': '2'}, {'first_name': 'AmirHossein', 'last_name': 'yousefzade', 'age': 22, 'id': 2}, {'first_name': 'Parnian', 'last_name': 'Mollaei', 'age': 13, 'id': 3}]}, {'id': 12, 'name': 'Sina', 'age': 21, 'email': 'sina.sherkat@example.com', 'location': 'Kish'}, {'name': {'firstName': 'Fazel', 'lastName': 'Basiri'}, 'age': 25, 'cities': ['Bam', 'Shiraz', 'Kish'], 'friends': [{'firstName': 'Saeed', 'lastName': 'Ashrafian', 'age': 25}, {'firstName': 'Mahsa', 'lastName': 'Kzn', 'age': 22}, {'firstName': 'Alireza', 'lastName': 'PourMoghadam', 'age': 26}], 'id': 13}, {'name': {'first name': 'Mahsa', 'last name': 'kzn'}, 'age': 22, 'cities': ['Tehran', 'Shiraz', 'Rasht', 'Mashhad'], 'friends': [{'firstname': 'Fazel', 'Lastname': 'basiri', 'age': 25, 'id': 13}, {'firstname': 'Niayesh', 'lastname': 'Mohammadi', 'age': 22, 'id': 0}], 'id': 14}, {'name': {'firstname': 'Hesam', 'lastName': 'Fatemizadeh'}, 'age': 21, 'cities': ['TEHRAN', 'KISH', 'ABADAN'], 'friends': [{'firstname': 'mariam', 'lastname': 'shojaodin', 'age': 21, 'id': '100'}, {'firstname': 'abbas', 'lastname': 'ranjbar', 'age': 25, 'id': '101'}, {'firstname': 'ali', 'lastname': 'niazi', 'age': 23, 'id': 102}], 'id': 16}, {'name': {'first name': 'Mariam', 'last name': 'Shojaedin'}, 'age': 21, 'cities': ['Kaluga', 'Moscow', 'Sochi'], 'friends': [{'firstName': 'Mahsa', 'lastName': 'Rastaghi', 'age': 22, 'ID': '0'}, {'firstName': 'Hesam', 'lastName': 'Fatemizade', 'age': 21, 'ID': '1'}, {'firstName': 'Nika', 'lastName': 'Sadidi', 'age': 22, 'ID': '2'}, {'firstName': 'Ali', 'lastName': 'Niazi', 'age': 23, 'ID': '3'}], 'ID': 17}, {'Name': {'First name': 'Mahsa', 'Last name': 'Rastaghi'}, 'Age': 22, 'Cities': ['Kish', 'Shiraz', 'Tehran'], 'Friends': [{'first name': ' Mariam', 'Last name': 'Shojaedin', 'Age': 21, 'Id': 0}, {'first name': ' Nika', 'Last name': 'Sadidi', 'Age': 22, 'Id': 1}, {'first name': ' Hesam', 'Last name': 'Fatemi zadeh', 'Age': 21, 'Id': 2}, {'first name': 'Fatemeh', 'Last name': 'Sayyadi', 'Age': 22, 'Id': '3'}], 'Id': 18}, {'name': 'Mobina Mohammadiuon', 'age': 21, 'id': 19, 'cities': ['Tehran', 'Boston', 'Shahrkord'], 'friends': [{'firstName': 'Elaheh', 'lastName': 'HosseinAbadi', 'age': 21, 'id': 0}, {'firstName': 'Nika', 'lastName': 'Sadidi', 'age': 22, 'id': 1}, {'firstName': 'Azin', 'lastName': 'Esfandiari', 'age': 25, 'id': 2}]}, {'name': {'firstName': 'parsa', 'lastName': 'khaki'}, 'age': 19, 'cities': ['tehran', 'boston', 'mehran'], 'friends': [{'firstName': 'shayan', 'lastname': 'shahvari', 'age': 35, 'id': 0}, {'firstName': 'kiavash', 'lastName': 'abasnejad', 'age': 21, 'id': 1}, {'firstName': 'behrad', 'lastName': 'biniaz', 'age': 30, 'id': 2}], 'id': 2}, {'name': {'firstName': 'Zahra', 'lastName': 'Akhlaghipoor'}, 'age': 22, 'cities': ['Kish'], 'friends': [{'firstName': 'Tima', 'LastName': 'Kalhori', 'age': 19, 'id': 0}, {'firstName': 'Nikki', 'LastName': 'Khayyat', 'age': 21, 'id': 1}], 'id': 4}, {'firstName': 'Tima', 'lastName': 'Kalhori', 'age': 19, 'cities': ['Tehran', 'Boston', 'Shahrekord'], 'friends': [{'firstName': 'philip', 'lastName': 'fry', 'age': 35, 'id': 0}, {'firstName': 'zahra', 'lastName': 'akhlaghipoor', 'age': 22, 'id': 12}, {'firstName': 'leili', 'lastname': 'shabani', 'age': 27, 'id': 32}], 'id': 5}, {'name': {'firstname': 'Nikki', 'lastname': 'Khayyat'}, 'age': 23, 'cities': ['Tehran', 'Boston', 'Shahrekord'], 'friends': [{'firstname': 'Charles', 'lastname': 'Lec', 'age': 27, 'ID': 0}, {'firstname': 'Franco', 'lastname': 'Colapinto', 'age': 21, 'ID': 0}, {'firstname': 'Lewis', 'lastname': 'Hamilton', 'age': 40, 'ID': 0}], 'Id': 6}, {'name': {'firstname': 'Saba', 'surname': 'Sarlak'}, 'age': 20, 'cities': ['kl', 'iis', 'maha'], 'lastCity': ['kl'], 'friends': [{'firstname': 'elnaz', 'lastname': 'ahmad', 'age': 22, 'id': 0}, {'firstname': 'asal', 'lastname': 'sabaghzade', 'age': 26, 'id': 2}, {'firstname': 'setia', 'lastname': 'dehghan', 'id': 'bestfriend', 'age': 25}], 'id': 7}, {'name': {'first name': 'Mohammad', 'last name': 'Mohammad Khaninezhad'}, 'age': 20, 'cities': ['Tehran', 'Boston', 'Shahrekord'], 'friends': [{'first name': 'Shahrad', 'last name': 'Shahraki', 'age': 21, 'id': 0}, {'first name': 'Hossein', 'last name': 'Dehghan', 'age': 22, 'id': 1}, {'first name': 'Erfan', 'last name': 'Kasef', 'age': 23, 'id': 2}], 'id': 8}, {'name': {'first name': 'shahrad', 'last name': 'shahraki'}, 'age': 22, 'cities': ['birjand', 'khoosf', 'tabas'], 'friends': [{'first name': 'alireza', 'last name': 'balali', 'age': 7, 'id': 2}, {'first name': 'shahrokh', 'last name': 'shahmohammadi', 'age': 40, 'id': 7}, {'first name': 'saba', 'last name': 'samaani', 'age': 34, 'id': 5}], 'id': 9}]\n"
     ]
    }
   ],
   "source": [
    "import json\n",
    "import os  \n",
    "\n",
    "ROOT_DIR= os.path.abspath(os.curdir)\n",
    "list_of_files = os.listdir(ROOT_DIR + '\\\\classmates')\n",
    "list_of_profiles= []\n",
    "for i in list_of_files:\n",
    "    f = open(\"classmates/\" +i)\n",
    "    temp_profile= f.read()\n",
    "    converted_profile = json.loads(temp_profile.replace(\"\\'\", \"\\\"\"))\n",
    "    list_of_profiles.append(converted_profile)\n",
    "    f.close()\n",
    "print(list_of_profiles)"
   ]
  },
  {
   "cell_type": "markdown",
   "id": "6a00fe1a",
   "metadata": {},
   "source": [
    "---"
   ]
  },
  {
   "cell_type": "code",
   "execution_count": 232,
   "id": "5c3ff9a8",
   "metadata": {},
   "outputs": [
    {
     "data": {
      "text/plain": [
       "17"
      ]
     },
     "execution_count": 232,
     "metadata": {},
     "output_type": "execute_result"
    }
   ],
   "source": [
    "len(list_of_profiles)"
   ]
  },
  {
   "cell_type": "code",
   "execution_count": 233,
   "id": "53c0cfdc",
   "metadata": {},
   "outputs": [
    {
     "name": "stdout",
     "output_type": "stream",
     "text": [
      "20\n",
      "22\n",
      "22\n",
      "21\n",
      "25\n",
      "22\n",
      "21\n",
      "21\n",
      "8th has error\n",
      "21\n",
      "19\n",
      "22\n",
      "19\n",
      "23\n",
      "20\n",
      "20\n",
      "22\n"
     ]
    }
   ],
   "source": [
    "for i in range(len(list_of_profiles)):\n",
    "    try:\n",
    "        print(list_of_profiles[i]['age'])\n",
    "    except:\n",
    "        print(str(i)+\"th has error\")"
   ]
  },
  {
   "cell_type": "code",
   "execution_count": 234,
   "id": "6c69396d",
   "metadata": {},
   "outputs": [
    {
     "name": "stdout",
     "output_type": "stream",
     "text": [
      "8th has error\n",
      "mean\n",
      "20.0\n"
     ]
    }
   ],
   "source": [
    "sum_all = 0\n",
    "for i in range(len(list_of_profiles)):\n",
    "    try:\n",
    "        sum_all += list_of_profiles[i]['age']\n",
    "    except:\n",
    "        print(str(i)+\"th has error\")\n",
    "print(\"mean\")\n",
    "print(sum_all/len(list_of_profiles))"
   ]
  },
  {
   "cell_type": "code",
   "execution_count": 235,
   "id": "d2ddaddb",
   "metadata": {},
   "outputs": [],
   "source": [
    "def swap(a, b):\n",
    "    return b, a"
   ]
  },
  {
   "cell_type": "code",
   "execution_count": 236,
   "id": "abcad59e",
   "metadata": {},
   "outputs": [
    {
     "name": "stdout",
     "output_type": "stream",
     "text": [
      "(2, 1)\n"
     ]
    }
   ],
   "source": [
    "print(swap(1,2))"
   ]
  },
  {
   "cell_type": "code",
   "execution_count": 237,
   "id": "a3fe94cb",
   "metadata": {},
   "outputs": [],
   "source": [
    "def hop(a):\n",
    "    if a % 5:\n",
    "        return a\n",
    "    else:\n",
    "        return \"hop\""
   ]
  },
  {
   "cell_type": "code",
   "execution_count": 238,
   "id": "7686d9b5",
   "metadata": {},
   "outputs": [
    {
     "data": {
      "text/plain": [
       "'hop'"
      ]
     },
     "execution_count": 238,
     "metadata": {},
     "output_type": "execute_result"
    }
   ],
   "source": [
    "hop(35)"
   ]
  },
  {
   "cell_type": "markdown",
   "id": "48f22ede",
   "metadata": {},
   "source": [
    "##### چندتا از گراف های دوستی بیابید\n",
    "##### گراف دوستی: پارسا با شایان دوسته که شایان با امیر دوسته که امیر با مریم دوسته\n",
    "##### پارسا - شایان - امیر - مریم"
   ]
  },
  {
   "cell_type": "markdown",
   "id": "153eb1a4",
   "metadata": {},
   "source": [
    "---"
   ]
  },
  {
   "cell_type": "markdown",
   "id": "e049411e",
   "metadata": {},
   "source": [
    "#### enter:   \\n"
   ]
  },
  {
   "cell_type": "markdown",
   "id": "21ea814d",
   "metadata": {},
   "source": [
    "#### csv : comma separated value\n",
    "#### tsv : tab separated value"
   ]
  },
  {
   "cell_type": "code",
   "execution_count": 239,
   "id": "51d763ae",
   "metadata": {},
   "outputs": [
    {
     "name": "stdout",
     "output_type": "stream",
     "text": [
      "Requirement already satisfied: pandas in c:\\users\\msi\\anaconda3\\lib\\site-packages (2.0.3)\n",
      "Requirement already satisfied: python-dateutil>=2.8.2 in c:\\users\\msi\\anaconda3\\lib\\site-packages (from pandas) (2.8.2)\n",
      "Requirement already satisfied: pytz>=2020.1 in c:\\users\\msi\\anaconda3\\lib\\site-packages (from pandas) (2023.3.post1)\n",
      "Requirement already satisfied: tzdata>=2022.1 in c:\\users\\msi\\anaconda3\\lib\\site-packages (from pandas) (2023.3)\n",
      "Requirement already satisfied: numpy>=1.21.0 in c:\\users\\msi\\anaconda3\\lib\\site-packages (from pandas) (1.24.3)\n",
      "Requirement already satisfied: six>=1.5 in c:\\users\\msi\\anaconda3\\lib\\site-packages (from python-dateutil>=2.8.2->pandas) (1.16.0)\n"
     ]
    }
   ],
   "source": [
    "!pip install pandas"
   ]
  },
  {
   "cell_type": "code",
   "execution_count": 240,
   "id": "584dd64c",
   "metadata": {},
   "outputs": [
    {
     "data": {
      "text/html": [
       "<div>\n",
       "<style scoped>\n",
       "    .dataframe tbody tr th:only-of-type {\n",
       "        vertical-align: middle;\n",
       "    }\n",
       "\n",
       "    .dataframe tbody tr th {\n",
       "        vertical-align: top;\n",
       "    }\n",
       "\n",
       "    .dataframe thead th {\n",
       "        text-align: right;\n",
       "    }\n",
       "</style>\n",
       "<table border=\"1\" class=\"dataframe\">\n",
       "  <thead>\n",
       "    <tr style=\"text-align: right;\">\n",
       "      <th></th>\n",
       "      <th>tconst</th>\n",
       "      <th>averageRating</th>\n",
       "      <th>numVotes</th>\n",
       "    </tr>\n",
       "  </thead>\n",
       "  <tbody>\n",
       "    <tr>\n",
       "      <th>0</th>\n",
       "      <td>tt0000001</td>\n",
       "      <td>5.7</td>\n",
       "      <td>2103</td>\n",
       "    </tr>\n",
       "    <tr>\n",
       "      <th>1</th>\n",
       "      <td>tt0000002</td>\n",
       "      <td>5.6</td>\n",
       "      <td>282</td>\n",
       "    </tr>\n",
       "    <tr>\n",
       "      <th>2</th>\n",
       "      <td>tt0000003</td>\n",
       "      <td>6.5</td>\n",
       "      <td>2122</td>\n",
       "    </tr>\n",
       "    <tr>\n",
       "      <th>3</th>\n",
       "      <td>tt0000004</td>\n",
       "      <td>5.4</td>\n",
       "      <td>182</td>\n",
       "    </tr>\n",
       "    <tr>\n",
       "      <th>4</th>\n",
       "      <td>tt0000005</td>\n",
       "      <td>6.2</td>\n",
       "      <td>2852</td>\n",
       "    </tr>\n",
       "    <tr>\n",
       "      <th>...</th>\n",
       "      <td>...</td>\n",
       "      <td>...</td>\n",
       "      <td>...</td>\n",
       "    </tr>\n",
       "    <tr>\n",
       "      <th>1503082</th>\n",
       "      <td>tt9916730</td>\n",
       "      <td>7.0</td>\n",
       "      <td>12</td>\n",
       "    </tr>\n",
       "    <tr>\n",
       "      <th>1503083</th>\n",
       "      <td>tt9916766</td>\n",
       "      <td>7.1</td>\n",
       "      <td>24</td>\n",
       "    </tr>\n",
       "    <tr>\n",
       "      <th>1503084</th>\n",
       "      <td>tt9916778</td>\n",
       "      <td>7.2</td>\n",
       "      <td>37</td>\n",
       "    </tr>\n",
       "    <tr>\n",
       "      <th>1503085</th>\n",
       "      <td>tt9916840</td>\n",
       "      <td>6.9</td>\n",
       "      <td>11</td>\n",
       "    </tr>\n",
       "    <tr>\n",
       "      <th>1503086</th>\n",
       "      <td>tt9916880</td>\n",
       "      <td>7.9</td>\n",
       "      <td>9</td>\n",
       "    </tr>\n",
       "  </tbody>\n",
       "</table>\n",
       "<p>1503087 rows × 3 columns</p>\n",
       "</div>"
      ],
      "text/plain": [
       "            tconst  averageRating  numVotes\n",
       "0        tt0000001            5.7      2103\n",
       "1        tt0000002            5.6       282\n",
       "2        tt0000003            6.5      2122\n",
       "3        tt0000004            5.4       182\n",
       "4        tt0000005            6.2      2852\n",
       "...            ...            ...       ...\n",
       "1503082  tt9916730            7.0        12\n",
       "1503083  tt9916766            7.1        24\n",
       "1503084  tt9916778            7.2        37\n",
       "1503085  tt9916840            6.9        11\n",
       "1503086  tt9916880            7.9         9\n",
       "\n",
       "[1503087 rows x 3 columns]"
      ]
     },
     "metadata": {},
     "output_type": "display_data"
    }
   ],
   "source": [
    "import pandas as pd\n",
    "df = pd.read_csv('title.ratings.tsv', sep='\\t')\n",
    "display(df)"
   ]
  },
  {
   "cell_type": "code",
   "execution_count": 241,
   "id": "8dfd2459",
   "metadata": {},
   "outputs": [
    {
     "name": "stdout",
     "output_type": "stream",
     "text": [
      "tconst           tt9916880\n",
      "averageRating         10.0\n",
      "numVotes           2966619\n",
      "dtype: object\n"
     ]
    }
   ],
   "source": [
    "print(df.max())"
   ]
  },
  {
   "cell_type": "markdown",
   "id": "2e39236c",
   "metadata": {},
   "source": [
    "---"
   ]
  },
  {
   "cell_type": "markdown",
   "id": "184238d4",
   "metadata": {},
   "source": [
    "#### best meta score , votes,  -> director "
   ]
  },
  {
   "cell_type": "code",
   "execution_count": 242,
   "id": "22e29ee7",
   "metadata": {},
   "outputs": [
    {
     "data": {
      "text/html": [
       "<div>\n",
       "<style scoped>\n",
       "    .dataframe tbody tr th:only-of-type {\n",
       "        vertical-align: middle;\n",
       "    }\n",
       "\n",
       "    .dataframe tbody tr th {\n",
       "        vertical-align: top;\n",
       "    }\n",
       "\n",
       "    .dataframe thead th {\n",
       "        text-align: right;\n",
       "    }\n",
       "</style>\n",
       "<table border=\"1\" class=\"dataframe\">\n",
       "  <thead>\n",
       "    <tr style=\"text-align: right;\">\n",
       "      <th></th>\n",
       "      <th>Poster_Link</th>\n",
       "      <th>Series_Title</th>\n",
       "      <th>Released_Year</th>\n",
       "      <th>Certificate</th>\n",
       "      <th>Runtime</th>\n",
       "      <th>Genre</th>\n",
       "      <th>IMDB_Rating</th>\n",
       "      <th>Overview</th>\n",
       "      <th>Meta_score</th>\n",
       "      <th>Director</th>\n",
       "      <th>Star1</th>\n",
       "      <th>Star2</th>\n",
       "      <th>Star3</th>\n",
       "      <th>Star4</th>\n",
       "      <th>No_of_Votes</th>\n",
       "      <th>Gross</th>\n",
       "    </tr>\n",
       "  </thead>\n",
       "  <tbody>\n",
       "    <tr>\n",
       "      <th>0</th>\n",
       "      <td>https://m.media-amazon.com/images/M/MV5BMDFkYT...</td>\n",
       "      <td>The Shawshank Redemption</td>\n",
       "      <td>1994</td>\n",
       "      <td>A</td>\n",
       "      <td>142 min</td>\n",
       "      <td>Drama</td>\n",
       "      <td>9.3</td>\n",
       "      <td>Two imprisoned men bond over a number of years...</td>\n",
       "      <td>80.0</td>\n",
       "      <td>Frank Darabont</td>\n",
       "      <td>Tim Robbins</td>\n",
       "      <td>Morgan Freeman</td>\n",
       "      <td>Bob Gunton</td>\n",
       "      <td>William Sadler</td>\n",
       "      <td>2343110</td>\n",
       "      <td>28,341,469</td>\n",
       "    </tr>\n",
       "    <tr>\n",
       "      <th>1</th>\n",
       "      <td>https://m.media-amazon.com/images/M/MV5BM2MyNj...</td>\n",
       "      <td>The Godfather</td>\n",
       "      <td>1972</td>\n",
       "      <td>A</td>\n",
       "      <td>175 min</td>\n",
       "      <td>Crime, Drama</td>\n",
       "      <td>9.2</td>\n",
       "      <td>An organized crime dynasty's aging patriarch t...</td>\n",
       "      <td>100.0</td>\n",
       "      <td>Francis Ford Coppola</td>\n",
       "      <td>Marlon Brando</td>\n",
       "      <td>Al Pacino</td>\n",
       "      <td>James Caan</td>\n",
       "      <td>Diane Keaton</td>\n",
       "      <td>1620367</td>\n",
       "      <td>134,966,411</td>\n",
       "    </tr>\n",
       "    <tr>\n",
       "      <th>2</th>\n",
       "      <td>https://m.media-amazon.com/images/M/MV5BMTMxNT...</td>\n",
       "      <td>The Dark Knight</td>\n",
       "      <td>2008</td>\n",
       "      <td>UA</td>\n",
       "      <td>152 min</td>\n",
       "      <td>Action, Crime, Drama</td>\n",
       "      <td>9.0</td>\n",
       "      <td>When the menace known as the Joker wreaks havo...</td>\n",
       "      <td>84.0</td>\n",
       "      <td>Christopher Nolan</td>\n",
       "      <td>Christian Bale</td>\n",
       "      <td>Heath Ledger</td>\n",
       "      <td>Aaron Eckhart</td>\n",
       "      <td>Michael Caine</td>\n",
       "      <td>2303232</td>\n",
       "      <td>534,858,444</td>\n",
       "    </tr>\n",
       "    <tr>\n",
       "      <th>3</th>\n",
       "      <td>https://m.media-amazon.com/images/M/MV5BMWMwMG...</td>\n",
       "      <td>The Godfather: Part II</td>\n",
       "      <td>1974</td>\n",
       "      <td>A</td>\n",
       "      <td>202 min</td>\n",
       "      <td>Crime, Drama</td>\n",
       "      <td>9.0</td>\n",
       "      <td>The early life and career of Vito Corleone in ...</td>\n",
       "      <td>90.0</td>\n",
       "      <td>Francis Ford Coppola</td>\n",
       "      <td>Al Pacino</td>\n",
       "      <td>Robert De Niro</td>\n",
       "      <td>Robert Duvall</td>\n",
       "      <td>Diane Keaton</td>\n",
       "      <td>1129952</td>\n",
       "      <td>57,300,000</td>\n",
       "    </tr>\n",
       "    <tr>\n",
       "      <th>4</th>\n",
       "      <td>https://m.media-amazon.com/images/M/MV5BMWU4N2...</td>\n",
       "      <td>12 Angry Men</td>\n",
       "      <td>1957</td>\n",
       "      <td>U</td>\n",
       "      <td>96 min</td>\n",
       "      <td>Crime, Drama</td>\n",
       "      <td>9.0</td>\n",
       "      <td>A jury holdout attempts to prevent a miscarria...</td>\n",
       "      <td>96.0</td>\n",
       "      <td>Sidney Lumet</td>\n",
       "      <td>Henry Fonda</td>\n",
       "      <td>Lee J. Cobb</td>\n",
       "      <td>Martin Balsam</td>\n",
       "      <td>John Fiedler</td>\n",
       "      <td>689845</td>\n",
       "      <td>4,360,000</td>\n",
       "    </tr>\n",
       "    <tr>\n",
       "      <th>...</th>\n",
       "      <td>...</td>\n",
       "      <td>...</td>\n",
       "      <td>...</td>\n",
       "      <td>...</td>\n",
       "      <td>...</td>\n",
       "      <td>...</td>\n",
       "      <td>...</td>\n",
       "      <td>...</td>\n",
       "      <td>...</td>\n",
       "      <td>...</td>\n",
       "      <td>...</td>\n",
       "      <td>...</td>\n",
       "      <td>...</td>\n",
       "      <td>...</td>\n",
       "      <td>...</td>\n",
       "      <td>...</td>\n",
       "    </tr>\n",
       "    <tr>\n",
       "      <th>995</th>\n",
       "      <td>https://m.media-amazon.com/images/M/MV5BNGEwMT...</td>\n",
       "      <td>Breakfast at Tiffany's</td>\n",
       "      <td>1961</td>\n",
       "      <td>A</td>\n",
       "      <td>115 min</td>\n",
       "      <td>Comedy, Drama, Romance</td>\n",
       "      <td>7.6</td>\n",
       "      <td>A young New York socialite becomes interested ...</td>\n",
       "      <td>76.0</td>\n",
       "      <td>Blake Edwards</td>\n",
       "      <td>Audrey Hepburn</td>\n",
       "      <td>George Peppard</td>\n",
       "      <td>Patricia Neal</td>\n",
       "      <td>Buddy Ebsen</td>\n",
       "      <td>166544</td>\n",
       "      <td>NaN</td>\n",
       "    </tr>\n",
       "    <tr>\n",
       "      <th>996</th>\n",
       "      <td>https://m.media-amazon.com/images/M/MV5BODk3Yj...</td>\n",
       "      <td>Giant</td>\n",
       "      <td>1956</td>\n",
       "      <td>G</td>\n",
       "      <td>201 min</td>\n",
       "      <td>Drama, Western</td>\n",
       "      <td>7.6</td>\n",
       "      <td>Sprawling epic covering the life of a Texas ca...</td>\n",
       "      <td>84.0</td>\n",
       "      <td>George Stevens</td>\n",
       "      <td>Elizabeth Taylor</td>\n",
       "      <td>Rock Hudson</td>\n",
       "      <td>James Dean</td>\n",
       "      <td>Carroll Baker</td>\n",
       "      <td>34075</td>\n",
       "      <td>NaN</td>\n",
       "    </tr>\n",
       "    <tr>\n",
       "      <th>997</th>\n",
       "      <td>https://m.media-amazon.com/images/M/MV5BM2U3Yz...</td>\n",
       "      <td>From Here to Eternity</td>\n",
       "      <td>1953</td>\n",
       "      <td>Passed</td>\n",
       "      <td>118 min</td>\n",
       "      <td>Drama, Romance, War</td>\n",
       "      <td>7.6</td>\n",
       "      <td>In Hawaii in 1941, a private is cruelly punish...</td>\n",
       "      <td>85.0</td>\n",
       "      <td>Fred Zinnemann</td>\n",
       "      <td>Burt Lancaster</td>\n",
       "      <td>Montgomery Clift</td>\n",
       "      <td>Deborah Kerr</td>\n",
       "      <td>Donna Reed</td>\n",
       "      <td>43374</td>\n",
       "      <td>30,500,000</td>\n",
       "    </tr>\n",
       "    <tr>\n",
       "      <th>998</th>\n",
       "      <td>https://m.media-amazon.com/images/M/MV5BZTBmMj...</td>\n",
       "      <td>Lifeboat</td>\n",
       "      <td>1944</td>\n",
       "      <td>NaN</td>\n",
       "      <td>97 min</td>\n",
       "      <td>Drama, War</td>\n",
       "      <td>7.6</td>\n",
       "      <td>Several survivors of a torpedoed merchant ship...</td>\n",
       "      <td>78.0</td>\n",
       "      <td>Alfred Hitchcock</td>\n",
       "      <td>Tallulah Bankhead</td>\n",
       "      <td>John Hodiak</td>\n",
       "      <td>Walter Slezak</td>\n",
       "      <td>William Bendix</td>\n",
       "      <td>26471</td>\n",
       "      <td>NaN</td>\n",
       "    </tr>\n",
       "    <tr>\n",
       "      <th>999</th>\n",
       "      <td>https://m.media-amazon.com/images/M/MV5BMTY5OD...</td>\n",
       "      <td>The 39 Steps</td>\n",
       "      <td>1935</td>\n",
       "      <td>NaN</td>\n",
       "      <td>86 min</td>\n",
       "      <td>Crime, Mystery, Thriller</td>\n",
       "      <td>7.6</td>\n",
       "      <td>A man in London tries to help a counter-espion...</td>\n",
       "      <td>93.0</td>\n",
       "      <td>Alfred Hitchcock</td>\n",
       "      <td>Robert Donat</td>\n",
       "      <td>Madeleine Carroll</td>\n",
       "      <td>Lucie Mannheim</td>\n",
       "      <td>Godfrey Tearle</td>\n",
       "      <td>51853</td>\n",
       "      <td>NaN</td>\n",
       "    </tr>\n",
       "  </tbody>\n",
       "</table>\n",
       "<p>1000 rows × 16 columns</p>\n",
       "</div>"
      ],
      "text/plain": [
       "                                           Poster_Link  \\\n",
       "0    https://m.media-amazon.com/images/M/MV5BMDFkYT...   \n",
       "1    https://m.media-amazon.com/images/M/MV5BM2MyNj...   \n",
       "2    https://m.media-amazon.com/images/M/MV5BMTMxNT...   \n",
       "3    https://m.media-amazon.com/images/M/MV5BMWMwMG...   \n",
       "4    https://m.media-amazon.com/images/M/MV5BMWU4N2...   \n",
       "..                                                 ...   \n",
       "995  https://m.media-amazon.com/images/M/MV5BNGEwMT...   \n",
       "996  https://m.media-amazon.com/images/M/MV5BODk3Yj...   \n",
       "997  https://m.media-amazon.com/images/M/MV5BM2U3Yz...   \n",
       "998  https://m.media-amazon.com/images/M/MV5BZTBmMj...   \n",
       "999  https://m.media-amazon.com/images/M/MV5BMTY5OD...   \n",
       "\n",
       "                 Series_Title Released_Year Certificate  Runtime  \\\n",
       "0    The Shawshank Redemption          1994           A  142 min   \n",
       "1               The Godfather          1972           A  175 min   \n",
       "2             The Dark Knight          2008          UA  152 min   \n",
       "3      The Godfather: Part II          1974           A  202 min   \n",
       "4                12 Angry Men          1957           U   96 min   \n",
       "..                        ...           ...         ...      ...   \n",
       "995    Breakfast at Tiffany's          1961           A  115 min   \n",
       "996                     Giant          1956           G  201 min   \n",
       "997     From Here to Eternity          1953      Passed  118 min   \n",
       "998                  Lifeboat          1944         NaN   97 min   \n",
       "999              The 39 Steps          1935         NaN   86 min   \n",
       "\n",
       "                        Genre  IMDB_Rating  \\\n",
       "0                       Drama          9.3   \n",
       "1                Crime, Drama          9.2   \n",
       "2        Action, Crime, Drama          9.0   \n",
       "3                Crime, Drama          9.0   \n",
       "4                Crime, Drama          9.0   \n",
       "..                        ...          ...   \n",
       "995    Comedy, Drama, Romance          7.6   \n",
       "996            Drama, Western          7.6   \n",
       "997       Drama, Romance, War          7.6   \n",
       "998                Drama, War          7.6   \n",
       "999  Crime, Mystery, Thriller          7.6   \n",
       "\n",
       "                                              Overview  Meta_score  \\\n",
       "0    Two imprisoned men bond over a number of years...        80.0   \n",
       "1    An organized crime dynasty's aging patriarch t...       100.0   \n",
       "2    When the menace known as the Joker wreaks havo...        84.0   \n",
       "3    The early life and career of Vito Corleone in ...        90.0   \n",
       "4    A jury holdout attempts to prevent a miscarria...        96.0   \n",
       "..                                                 ...         ...   \n",
       "995  A young New York socialite becomes interested ...        76.0   \n",
       "996  Sprawling epic covering the life of a Texas ca...        84.0   \n",
       "997  In Hawaii in 1941, a private is cruelly punish...        85.0   \n",
       "998  Several survivors of a torpedoed merchant ship...        78.0   \n",
       "999  A man in London tries to help a counter-espion...        93.0   \n",
       "\n",
       "                 Director              Star1              Star2  \\\n",
       "0          Frank Darabont        Tim Robbins     Morgan Freeman   \n",
       "1    Francis Ford Coppola      Marlon Brando          Al Pacino   \n",
       "2       Christopher Nolan     Christian Bale       Heath Ledger   \n",
       "3    Francis Ford Coppola          Al Pacino     Robert De Niro   \n",
       "4            Sidney Lumet        Henry Fonda        Lee J. Cobb   \n",
       "..                    ...                ...                ...   \n",
       "995         Blake Edwards     Audrey Hepburn     George Peppard   \n",
       "996        George Stevens   Elizabeth Taylor        Rock Hudson   \n",
       "997        Fred Zinnemann     Burt Lancaster   Montgomery Clift   \n",
       "998      Alfred Hitchcock  Tallulah Bankhead        John Hodiak   \n",
       "999      Alfred Hitchcock       Robert Donat  Madeleine Carroll   \n",
       "\n",
       "              Star3           Star4  No_of_Votes        Gross  \n",
       "0        Bob Gunton  William Sadler      2343110   28,341,469  \n",
       "1        James Caan    Diane Keaton      1620367  134,966,411  \n",
       "2     Aaron Eckhart   Michael Caine      2303232  534,858,444  \n",
       "3     Robert Duvall    Diane Keaton      1129952   57,300,000  \n",
       "4     Martin Balsam    John Fiedler       689845    4,360,000  \n",
       "..              ...             ...          ...          ...  \n",
       "995   Patricia Neal     Buddy Ebsen       166544          NaN  \n",
       "996      James Dean   Carroll Baker        34075          NaN  \n",
       "997    Deborah Kerr      Donna Reed        43374   30,500,000  \n",
       "998   Walter Slezak  William Bendix        26471          NaN  \n",
       "999  Lucie Mannheim  Godfrey Tearle        51853          NaN  \n",
       "\n",
       "[1000 rows x 16 columns]"
      ]
     },
     "metadata": {},
     "output_type": "display_data"
    }
   ],
   "source": [
    "import pandas as pd\n",
    "df = pd.read_csv('imdb_top_1000.csv', sep=',')\n",
    "display(df)"
   ]
  },
  {
   "cell_type": "code",
   "execution_count": null,
   "id": "15c8207c",
   "metadata": {},
   "outputs": [],
   "source": []
  }
 ],
 "metadata": {
  "kernelspec": {
   "display_name": "Python 3 (ipykernel)",
   "language": "python",
   "name": "python3"
  },
  "language_info": {
   "codemirror_mode": {
    "name": "ipython",
    "version": 3
   },
   "file_extension": ".py",
   "mimetype": "text/x-python",
   "name": "python",
   "nbconvert_exporter": "python",
   "pygments_lexer": "ipython3",
   "version": "3.11.5"
  }
 },
 "nbformat": 4,
 "nbformat_minor": 5
}
